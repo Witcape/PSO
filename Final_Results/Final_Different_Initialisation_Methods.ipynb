{
  "nbformat": 4,
  "nbformat_minor": 0,
  "metadata": {
    "colab": {
      "provenance": [],
      "collapsed_sections": [
        "9uP6rkKmNnMe",
        "SNwOmkAOSTpA",
        "iQxOnM8n_ZmV",
        "UzoXLSuRZ1Vt",
        "Wzn6yIXMUyzI",
        "ewdHnMHmbqZx",
        "pdOzOS0fc7Nz"
      ],
      "gpuType": "T4",
      "authorship_tag": "ABX9TyODocgH5jPC2wDS1pRosQ7T",
      "include_colab_link": true
    },
    "kernelspec": {
      "name": "python3",
      "display_name": "Python 3"
    },
    "language_info": {
      "name": "python"
    },
    "accelerator": "GPU",
    "widgets": {
      "application/vnd.jupyter.widget-state+json": {
        "92006e229c334ffabe91ced5bd75d897": {
          "model_module": "@jupyter-widgets/controls",
          "model_name": "HBoxModel",
          "model_module_version": "1.5.0",
          "state": {
            "_dom_classes": [],
            "_model_module": "@jupyter-widgets/controls",
            "_model_module_version": "1.5.0",
            "_model_name": "HBoxModel",
            "_view_count": null,
            "_view_module": "@jupyter-widgets/controls",
            "_view_module_version": "1.5.0",
            "_view_name": "HBoxView",
            "box_style": "",
            "children": [
              "IPY_MODEL_d792d05e856045ce94b704be275a54ab",
              "IPY_MODEL_7e55c4a6e1ed4435bd90c6df664ea295",
              "IPY_MODEL_48ae0fe7b05048c8ab3aa22a0a19d160"
            ],
            "layout": "IPY_MODEL_9a1247f61a7b47b19a48711caa649ac0"
          }
        },
        "d792d05e856045ce94b704be275a54ab": {
          "model_module": "@jupyter-widgets/controls",
          "model_name": "HTMLModel",
          "model_module_version": "1.5.0",
          "state": {
            "_dom_classes": [],
            "_model_module": "@jupyter-widgets/controls",
            "_model_module_version": "1.5.0",
            "_model_name": "HTMLModel",
            "_view_count": null,
            "_view_module": "@jupyter-widgets/controls",
            "_view_module_version": "1.5.0",
            "_view_name": "HTMLView",
            "description": "",
            "description_tooltip": null,
            "layout": "IPY_MODEL_fb0aad44ce6d4265bacb3514dd44dbd5",
            "placeholder": "​",
            "style": "IPY_MODEL_10d6d0e98d91446896ebe0c73b673ff6",
            "value": "llama-2-13b-chat.ggmlv3.q5_1.bin: 100%"
          }
        },
        "7e55c4a6e1ed4435bd90c6df664ea295": {
          "model_module": "@jupyter-widgets/controls",
          "model_name": "FloatProgressModel",
          "model_module_version": "1.5.0",
          "state": {
            "_dom_classes": [],
            "_model_module": "@jupyter-widgets/controls",
            "_model_module_version": "1.5.0",
            "_model_name": "FloatProgressModel",
            "_view_count": null,
            "_view_module": "@jupyter-widgets/controls",
            "_view_module_version": "1.5.0",
            "_view_name": "ProgressView",
            "bar_style": "success",
            "description": "",
            "description_tooltip": null,
            "layout": "IPY_MODEL_69b50c26f25a482eb2c7652c2a4042b5",
            "max": 9763701888,
            "min": 0,
            "orientation": "horizontal",
            "style": "IPY_MODEL_4132363b675342528928d58b0d3d9ebd",
            "value": 9763701888
          }
        },
        "48ae0fe7b05048c8ab3aa22a0a19d160": {
          "model_module": "@jupyter-widgets/controls",
          "model_name": "HTMLModel",
          "model_module_version": "1.5.0",
          "state": {
            "_dom_classes": [],
            "_model_module": "@jupyter-widgets/controls",
            "_model_module_version": "1.5.0",
            "_model_name": "HTMLModel",
            "_view_count": null,
            "_view_module": "@jupyter-widgets/controls",
            "_view_module_version": "1.5.0",
            "_view_name": "HTMLView",
            "description": "",
            "description_tooltip": null,
            "layout": "IPY_MODEL_27622740cba2487aa71446cb5c33d8be",
            "placeholder": "​",
            "style": "IPY_MODEL_f14e193fa7704c7e9a604d4746b5b821",
            "value": " 9.76G/9.76G [01:22&lt;00:00, 62.1MB/s]"
          }
        },
        "9a1247f61a7b47b19a48711caa649ac0": {
          "model_module": "@jupyter-widgets/base",
          "model_name": "LayoutModel",
          "model_module_version": "1.2.0",
          "state": {
            "_model_module": "@jupyter-widgets/base",
            "_model_module_version": "1.2.0",
            "_model_name": "LayoutModel",
            "_view_count": null,
            "_view_module": "@jupyter-widgets/base",
            "_view_module_version": "1.2.0",
            "_view_name": "LayoutView",
            "align_content": null,
            "align_items": null,
            "align_self": null,
            "border": null,
            "bottom": null,
            "display": null,
            "flex": null,
            "flex_flow": null,
            "grid_area": null,
            "grid_auto_columns": null,
            "grid_auto_flow": null,
            "grid_auto_rows": null,
            "grid_column": null,
            "grid_gap": null,
            "grid_row": null,
            "grid_template_areas": null,
            "grid_template_columns": null,
            "grid_template_rows": null,
            "height": null,
            "justify_content": null,
            "justify_items": null,
            "left": null,
            "margin": null,
            "max_height": null,
            "max_width": null,
            "min_height": null,
            "min_width": null,
            "object_fit": null,
            "object_position": null,
            "order": null,
            "overflow": null,
            "overflow_x": null,
            "overflow_y": null,
            "padding": null,
            "right": null,
            "top": null,
            "visibility": null,
            "width": null
          }
        },
        "fb0aad44ce6d4265bacb3514dd44dbd5": {
          "model_module": "@jupyter-widgets/base",
          "model_name": "LayoutModel",
          "model_module_version": "1.2.0",
          "state": {
            "_model_module": "@jupyter-widgets/base",
            "_model_module_version": "1.2.0",
            "_model_name": "LayoutModel",
            "_view_count": null,
            "_view_module": "@jupyter-widgets/base",
            "_view_module_version": "1.2.0",
            "_view_name": "LayoutView",
            "align_content": null,
            "align_items": null,
            "align_self": null,
            "border": null,
            "bottom": null,
            "display": null,
            "flex": null,
            "flex_flow": null,
            "grid_area": null,
            "grid_auto_columns": null,
            "grid_auto_flow": null,
            "grid_auto_rows": null,
            "grid_column": null,
            "grid_gap": null,
            "grid_row": null,
            "grid_template_areas": null,
            "grid_template_columns": null,
            "grid_template_rows": null,
            "height": null,
            "justify_content": null,
            "justify_items": null,
            "left": null,
            "margin": null,
            "max_height": null,
            "max_width": null,
            "min_height": null,
            "min_width": null,
            "object_fit": null,
            "object_position": null,
            "order": null,
            "overflow": null,
            "overflow_x": null,
            "overflow_y": null,
            "padding": null,
            "right": null,
            "top": null,
            "visibility": null,
            "width": null
          }
        },
        "10d6d0e98d91446896ebe0c73b673ff6": {
          "model_module": "@jupyter-widgets/controls",
          "model_name": "DescriptionStyleModel",
          "model_module_version": "1.5.0",
          "state": {
            "_model_module": "@jupyter-widgets/controls",
            "_model_module_version": "1.5.0",
            "_model_name": "DescriptionStyleModel",
            "_view_count": null,
            "_view_module": "@jupyter-widgets/base",
            "_view_module_version": "1.2.0",
            "_view_name": "StyleView",
            "description_width": ""
          }
        },
        "69b50c26f25a482eb2c7652c2a4042b5": {
          "model_module": "@jupyter-widgets/base",
          "model_name": "LayoutModel",
          "model_module_version": "1.2.0",
          "state": {
            "_model_module": "@jupyter-widgets/base",
            "_model_module_version": "1.2.0",
            "_model_name": "LayoutModel",
            "_view_count": null,
            "_view_module": "@jupyter-widgets/base",
            "_view_module_version": "1.2.0",
            "_view_name": "LayoutView",
            "align_content": null,
            "align_items": null,
            "align_self": null,
            "border": null,
            "bottom": null,
            "display": null,
            "flex": null,
            "flex_flow": null,
            "grid_area": null,
            "grid_auto_columns": null,
            "grid_auto_flow": null,
            "grid_auto_rows": null,
            "grid_column": null,
            "grid_gap": null,
            "grid_row": null,
            "grid_template_areas": null,
            "grid_template_columns": null,
            "grid_template_rows": null,
            "height": null,
            "justify_content": null,
            "justify_items": null,
            "left": null,
            "margin": null,
            "max_height": null,
            "max_width": null,
            "min_height": null,
            "min_width": null,
            "object_fit": null,
            "object_position": null,
            "order": null,
            "overflow": null,
            "overflow_x": null,
            "overflow_y": null,
            "padding": null,
            "right": null,
            "top": null,
            "visibility": null,
            "width": null
          }
        },
        "4132363b675342528928d58b0d3d9ebd": {
          "model_module": "@jupyter-widgets/controls",
          "model_name": "ProgressStyleModel",
          "model_module_version": "1.5.0",
          "state": {
            "_model_module": "@jupyter-widgets/controls",
            "_model_module_version": "1.5.0",
            "_model_name": "ProgressStyleModel",
            "_view_count": null,
            "_view_module": "@jupyter-widgets/base",
            "_view_module_version": "1.2.0",
            "_view_name": "StyleView",
            "bar_color": null,
            "description_width": ""
          }
        },
        "27622740cba2487aa71446cb5c33d8be": {
          "model_module": "@jupyter-widgets/base",
          "model_name": "LayoutModel",
          "model_module_version": "1.2.0",
          "state": {
            "_model_module": "@jupyter-widgets/base",
            "_model_module_version": "1.2.0",
            "_model_name": "LayoutModel",
            "_view_count": null,
            "_view_module": "@jupyter-widgets/base",
            "_view_module_version": "1.2.0",
            "_view_name": "LayoutView",
            "align_content": null,
            "align_items": null,
            "align_self": null,
            "border": null,
            "bottom": null,
            "display": null,
            "flex": null,
            "flex_flow": null,
            "grid_area": null,
            "grid_auto_columns": null,
            "grid_auto_flow": null,
            "grid_auto_rows": null,
            "grid_column": null,
            "grid_gap": null,
            "grid_row": null,
            "grid_template_areas": null,
            "grid_template_columns": null,
            "grid_template_rows": null,
            "height": null,
            "justify_content": null,
            "justify_items": null,
            "left": null,
            "margin": null,
            "max_height": null,
            "max_width": null,
            "min_height": null,
            "min_width": null,
            "object_fit": null,
            "object_position": null,
            "order": null,
            "overflow": null,
            "overflow_x": null,
            "overflow_y": null,
            "padding": null,
            "right": null,
            "top": null,
            "visibility": null,
            "width": null
          }
        },
        "f14e193fa7704c7e9a604d4746b5b821": {
          "model_module": "@jupyter-widgets/controls",
          "model_name": "DescriptionStyleModel",
          "model_module_version": "1.5.0",
          "state": {
            "_model_module": "@jupyter-widgets/controls",
            "_model_module_version": "1.5.0",
            "_model_name": "DescriptionStyleModel",
            "_view_count": null,
            "_view_module": "@jupyter-widgets/base",
            "_view_module_version": "1.2.0",
            "_view_name": "StyleView",
            "description_width": ""
          }
        }
      }
    }
  },
  "cells": [
    {
      "cell_type": "markdown",
      "metadata": {
        "id": "view-in-github",
        "colab_type": "text"
      },
      "source": [
        "<a href=\"https://colab.research.google.com/github/Witcape/PSO/blob/main/Different_Initialisation_Methods.ipynb\" target=\"_parent\"><img src=\"https://colab.research.google.com/assets/colab-badge.svg\" alt=\"Open In Colab\"/></a>"
      ]
    },
    {
      "cell_type": "markdown",
      "source": [
        "###Installing LLM"
      ],
      "metadata": {
        "id": "9uP6rkKmNnMe"
      }
    },
    {
      "cell_type": "code",
      "source": [
        "# !pip install accelerate\n",
        "# import accelerate"
      ],
      "metadata": {
        "id": "kY6BJbl4e8Fb"
      },
      "execution_count": 1,
      "outputs": []
    },
    {
      "cell_type": "code",
      "execution_count": 2,
      "metadata": {
        "colab": {
          "base_uri": "https://localhost:8080/"
        },
        "id": "LI3J3o7JdXmC",
        "outputId": "5af48984-ec17-4fcd-f82a-0fbc48e1345c"
      },
      "outputs": [
        {
          "output_type": "stream",
          "name": "stdout",
          "text": [
            "Using pip 23.1.2 from /usr/local/lib/python3.10/dist-packages/pip (python 3.10)\n",
            "Collecting llama-cpp-python==0.1.78\n",
            "  Downloading llama_cpp_python-0.1.78.tar.gz (1.7 MB)\n",
            "\u001b[2K     \u001b[90m━━━━━━━━━━━━━━━━━━━━━━━━━━━━━━━━━━━━━━━━\u001b[0m \u001b[32m1.7/1.7 MB\u001b[0m \u001b[31m11.4 MB/s\u001b[0m eta \u001b[36m0:00:00\u001b[0m\n",
            "\u001b[?25h  Running command pip subprocess to install build dependencies\n",
            "  Using pip 23.1.2 from /usr/local/lib/python3.10/dist-packages/pip (python 3.10)\n",
            "  Collecting setuptools>=42\n",
            "    Using cached setuptools-70.1.1-py3-none-any.whl (883 kB)\n",
            "  Collecting scikit-build>=0.13\n",
            "    Downloading scikit_build-0.18.0-py3-none-any.whl (85 kB)\n",
            "       ━━━━━━━━━━━━━━━━━━━━━━━━━━━━━━━━━━━━━━━━ 85.3/85.3 kB 1.3 MB/s eta 0:00:00\n",
            "  Collecting cmake>=3.18\n",
            "    Downloading cmake-3.29.6-py3-none-manylinux_2_17_x86_64.manylinux2014_x86_64.whl (26.7 MB)\n",
            "       ━━━━━━━━━━━━━━━━━━━━━━━━━━━━━━━━━━━━━━━━ 26.7/26.7 MB 15.3 MB/s eta 0:00:00\n",
            "  Collecting ninja\n",
            "    Downloading ninja-1.11.1.1-py2.py3-none-manylinux1_x86_64.manylinux_2_5_x86_64.whl (307 kB)\n",
            "       ━━━━━━━━━━━━━━━━━━━━━━━━━━━━━━━━━━━━━━━━ 307.2/307.2 kB 11.1 MB/s eta 0:00:00\n",
            "  Collecting distro (from scikit-build>=0.13)\n",
            "    Downloading distro-1.9.0-py3-none-any.whl (20 kB)\n",
            "  Collecting packaging (from scikit-build>=0.13)\n",
            "    Downloading packaging-24.1-py3-none-any.whl (53 kB)\n",
            "       ━━━━━━━━━━━━━━━━━━━━━━━━━━━━━━━━━━━━━━━━ 54.0/54.0 kB 3.8 MB/s eta 0:00:00\n",
            "  Collecting tomli (from scikit-build>=0.13)\n",
            "    Downloading tomli-2.0.1-py3-none-any.whl (12 kB)\n",
            "  Collecting wheel>=0.32.0 (from scikit-build>=0.13)\n",
            "    Using cached wheel-0.43.0-py3-none-any.whl (65 kB)\n",
            "  Installing collected packages: ninja, wheel, tomli, setuptools, packaging, distro, cmake, scikit-build\n",
            "    Creating /tmp/pip-build-env-19_5sou9/overlay/local/bin\n",
            "    changing mode of /tmp/pip-build-env-19_5sou9/overlay/local/bin/ninja to 755\n",
            "    changing mode of /tmp/pip-build-env-19_5sou9/overlay/local/bin/wheel to 755\n",
            "    changing mode of /tmp/pip-build-env-19_5sou9/overlay/local/bin/distro to 755\n",
            "    changing mode of /tmp/pip-build-env-19_5sou9/overlay/local/bin/cmake to 755\n",
            "    changing mode of /tmp/pip-build-env-19_5sou9/overlay/local/bin/cpack to 755\n",
            "    changing mode of /tmp/pip-build-env-19_5sou9/overlay/local/bin/ctest to 755\n",
            "  ERROR: pip's dependency resolver does not currently take into account all the packages that are installed. This behaviour is the source of the following dependency conflicts.\n",
            "  ipython 7.34.0 requires jedi>=0.16, which is not installed.\n",
            "  Successfully installed cmake-3.29.6 distro-1.9.0 ninja-1.11.1.1 packaging-24.1 scikit-build-0.18.0 setuptools-70.1.1 tomli-2.0.1 wheel-0.43.0\n",
            "  Installing build dependencies ... \u001b[?25l\u001b[?25hdone\n",
            "  Running command Getting requirements to build wheel\n",
            "  running egg_info\n",
            "  writing llama_cpp_python.egg-info/PKG-INFO\n",
            "  writing dependency_links to llama_cpp_python.egg-info/dependency_links.txt\n",
            "  writing requirements to llama_cpp_python.egg-info/requires.txt\n",
            "  writing top-level names to llama_cpp_python.egg-info/top_level.txt\n",
            "  reading manifest file 'llama_cpp_python.egg-info/SOURCES.txt'\n",
            "  adding license file 'LICENSE.md'\n",
            "  writing manifest file 'llama_cpp_python.egg-info/SOURCES.txt'\n",
            "  Getting requirements to build wheel ... \u001b[?25l\u001b[?25hdone\n",
            "  Running command Preparing metadata (pyproject.toml)\n",
            "  running dist_info\n",
            "  creating /tmp/pip-modern-metadata-bit09_wo/llama_cpp_python.egg-info\n",
            "  writing /tmp/pip-modern-metadata-bit09_wo/llama_cpp_python.egg-info/PKG-INFO\n",
            "  writing dependency_links to /tmp/pip-modern-metadata-bit09_wo/llama_cpp_python.egg-info/dependency_links.txt\n",
            "  writing requirements to /tmp/pip-modern-metadata-bit09_wo/llama_cpp_python.egg-info/requires.txt\n",
            "  writing top-level names to /tmp/pip-modern-metadata-bit09_wo/llama_cpp_python.egg-info/top_level.txt\n",
            "  writing manifest file '/tmp/pip-modern-metadata-bit09_wo/llama_cpp_python.egg-info/SOURCES.txt'\n",
            "  reading manifest file '/tmp/pip-modern-metadata-bit09_wo/llama_cpp_python.egg-info/SOURCES.txt'\n",
            "  adding license file 'LICENSE.md'\n",
            "  writing manifest file '/tmp/pip-modern-metadata-bit09_wo/llama_cpp_python.egg-info/SOURCES.txt'\n",
            "  creating '/tmp/pip-modern-metadata-bit09_wo/llama_cpp_python-0.1.78.dist-info'\n",
            "  Preparing metadata (pyproject.toml) ... \u001b[?25l\u001b[?25hdone\n",
            "Collecting numpy==1.23.4\n",
            "  Downloading numpy-1.23.4-cp310-cp310-manylinux_2_17_x86_64.manylinux2014_x86_64.whl (17.1 MB)\n",
            "\u001b[2K     \u001b[90m━━━━━━━━━━━━━━━━━━━━━━━━━━━━━━━━━━━━━━━━\u001b[0m \u001b[32m17.1/17.1 MB\u001b[0m \u001b[31m104.8 MB/s\u001b[0m eta \u001b[36m0:00:00\u001b[0m\n",
            "\u001b[?25hCollecting typing-extensions>=4.5.0 (from llama-cpp-python==0.1.78)\n",
            "  Downloading typing_extensions-4.12.2-py3-none-any.whl (37 kB)\n",
            "Collecting diskcache>=5.6.1 (from llama-cpp-python==0.1.78)\n",
            "  Downloading diskcache-5.6.3-py3-none-any.whl (45 kB)\n",
            "\u001b[2K     \u001b[90m━━━━━━━━━━━━━━━━━━━━━━━━━━━━━━━━━━━━━━━━\u001b[0m \u001b[32m45.5/45.5 kB\u001b[0m \u001b[31m166.2 MB/s\u001b[0m eta \u001b[36m0:00:00\u001b[0m\n",
            "\u001b[?25hBuilding wheels for collected packages: llama-cpp-python\n",
            "  Running command Building wheel for llama-cpp-python (pyproject.toml)\n",
            "\n",
            "\n",
            "  --------------------------------------------------------------------------------\n",
            "  -- Trying 'Ninja' generator\n",
            "  --------------------------------\n",
            "  ---------------------------\n",
            "  ----------------------\n",
            "  -----------------\n",
            "  ------------\n",
            "  -------\n",
            "  --\n",
            "  Not searching for unused variables given on the command line.\n",
            "  -- The C compiler identification is GNU 11.4.0\n",
            "  -- Detecting C compiler ABI info\n",
            "  -- Detecting C compiler ABI info - done\n",
            "  -- Check for working C compiler: /usr/bin/cc - skipped\n",
            "  -- Detecting C compile features\n",
            "  -- Detecting C compile features - done\n",
            "  -- The CXX compiler identification is GNU 11.4.0\n",
            "  -- Detecting CXX compiler ABI info\n",
            "  -- Detecting CXX compiler ABI info - done\n",
            "  -- Check for working CXX compiler: /usr/bin/c++ - skipped\n",
            "  -- Detecting CXX compile features\n",
            "  -- Detecting CXX compile features - done\n",
            "  -- Configuring done (0.8s)\n",
            "  -- Generating done (0.0s)\n",
            "  -- Build files have been written to: /tmp/pip-install-vryk0a9l/llama-cpp-python_f332b50d3e78408891a76385d62e0c48/_cmake_test_compile/build\n",
            "  --\n",
            "  -------\n",
            "  ------------\n",
            "  -----------------\n",
            "  ----------------------\n",
            "  ---------------------------\n",
            "  --------------------------------\n",
            "  -- Trying 'Ninja' generator - success\n",
            "  --------------------------------------------------------------------------------\n",
            "\n",
            "  Configuring Project\n",
            "    Working directory:\n",
            "      /tmp/pip-install-vryk0a9l/llama-cpp-python_f332b50d3e78408891a76385d62e0c48/_skbuild/linux-x86_64-3.10/cmake-build\n",
            "    Command:\n",
            "      /tmp/pip-build-env-19_5sou9/overlay/local/lib/python3.10/dist-packages/cmake/data/bin/cmake /tmp/pip-install-vryk0a9l/llama-cpp-python_f332b50d3e78408891a76385d62e0c48 -G Ninja -DCMAKE_MAKE_PROGRAM:FILEPATH=/tmp/pip-build-env-19_5sou9/overlay/local/lib/python3.10/dist-packages/ninja/data/bin/ninja --no-warn-unused-cli -DCMAKE_INSTALL_PREFIX:PATH=/tmp/pip-install-vryk0a9l/llama-cpp-python_f332b50d3e78408891a76385d62e0c48/_skbuild/linux-x86_64-3.10/cmake-install -DPYTHON_VERSION_STRING:STRING=3.10.12 -DSKBUILD:INTERNAL=TRUE -DCMAKE_MODULE_PATH:PATH=/tmp/pip-build-env-19_5sou9/overlay/local/lib/python3.10/dist-packages/skbuild/resources/cmake -DPYTHON_EXECUTABLE:PATH=/usr/bin/python3 -DPYTHON_INCLUDE_DIR:PATH=/usr/include/python3.10 -DPYTHON_LIBRARY:PATH=/usr/lib/x86_64-linux-gnu/libpython3.10.so -DPython_EXECUTABLE:PATH=/usr/bin/python3 -DPython_ROOT_DIR:PATH=/usr -DPython_FIND_REGISTRY:STRING=NEVER -DPython_INCLUDE_DIR:PATH=/usr/include/python3.10 -DPython3_EXECUTABLE:PATH=/usr/bin/python3 -DPython3_ROOT_DIR:PATH=/usr -DPython3_FIND_REGISTRY:STRING=NEVER -DPython3_INCLUDE_DIR:PATH=/usr/include/python3.10 -DCMAKE_MAKE_PROGRAM:FILEPATH=/tmp/pip-build-env-19_5sou9/overlay/local/lib/python3.10/dist-packages/ninja/data/bin/ninja -DLLAMA_CUBLAS=on -DCMAKE_BUILD_TYPE:STRING=Release -DLLAMA_CUBLAS=on\n",
            "\n",
            "  Not searching for unused variables given on the command line.\n",
            "  -- The C compiler identification is GNU 11.4.0\n",
            "  -- The CXX compiler identification is GNU 11.4.0\n",
            "  -- Detecting C compiler ABI info\n",
            "  -- Detecting C compiler ABI info - done\n",
            "  -- Check for working C compiler: /usr/bin/cc - skipped\n",
            "  -- Detecting C compile features\n",
            "  -- Detecting C compile features - done\n",
            "  -- Detecting CXX compiler ABI info\n",
            "  -- Detecting CXX compiler ABI info - done\n",
            "  -- Check for working CXX compiler: /usr/bin/c++ - skipped\n",
            "  -- Detecting CXX compile features\n",
            "  -- Detecting CXX compile features - done\n",
            "  -- Found Git: /usr/bin/git (found version \"2.34.1\")\n",
            "  fatal: not a git repository (or any of the parent directories): .git\n",
            "  fatal: not a git repository (or any of the parent directories): .git\n",
            "  CMake Warning at vendor/llama.cpp/CMakeLists.txt:117 (message):\n",
            "    Git repository not found; to enable automatic generation of build info,\n",
            "    make sure Git is installed and the project is a Git repository.\n",
            "\n",
            "\n",
            "  -- Performing Test CMAKE_HAVE_LIBC_PTHREAD\n",
            "  -- Performing Test CMAKE_HAVE_LIBC_PTHREAD - Success\n",
            "  -- Found Threads: TRUE\n",
            "  -- Found CUDAToolkit: /usr/local/cuda/targets/x86_64-linux/include (found version \"12.2.140\")\n",
            "  -- cuBLAS found\n",
            "  -- The CUDA compiler identification is NVIDIA 12.2.140\n",
            "  -- Detecting CUDA compiler ABI info\n",
            "  -- Detecting CUDA compiler ABI info - done\n",
            "  -- Check for working CUDA compiler: /usr/local/cuda/bin/nvcc - skipped\n",
            "  -- Detecting CUDA compile features\n",
            "  -- Detecting CUDA compile features - done\n",
            "  -- Using CUDA architectures: 52;61;70\n",
            "  -- CMAKE_SYSTEM_PROCESSOR: x86_64\n",
            "  -- x86 detected\n",
            "  -- Configuring done (5.5s)\n",
            "  -- Generating done (0.0s)\n",
            "  -- Build files have been written to: /tmp/pip-install-vryk0a9l/llama-cpp-python_f332b50d3e78408891a76385d62e0c48/_skbuild/linux-x86_64-3.10/cmake-build\n",
            "  [1/9] Building C object vendor/llama.cpp/CMakeFiles/ggml.dir/ggml-alloc.c.o\n",
            "  [2/9] Building C object vendor/llama.cpp/CMakeFiles/ggml.dir/k_quants.c.o\n",
            "  [3/9] Building C object vendor/llama.cpp/CMakeFiles/ggml.dir/ggml.c.o\n",
            "  [4/9] Building CXX object vendor/llama.cpp/CMakeFiles/llama.dir/llama.cpp.o\n",
            "  [5/9] Building CUDA object vendor/llama.cpp/CMakeFiles/ggml.dir/ggml-cuda.cu.o\n",
            "  [6/9] Linking CXX shared library vendor/llama.cpp/libllama.so\n",
            "  [7/9] Linking CUDA shared library vendor/llama.cpp/libggml_shared.so\n",
            "  [8/9] Linking CUDA static library vendor/llama.cpp/libggml_static.a\n",
            "  [8/9] Install the project...\n",
            "  -- Install configuration: \"Release\"\n",
            "  -- Installing: /tmp/pip-install-vryk0a9l/llama-cpp-python_f332b50d3e78408891a76385d62e0c48/_skbuild/linux-x86_64-3.10/cmake-install/lib/libggml_shared.so\n",
            "  -- Installing: /tmp/pip-install-vryk0a9l/llama-cpp-python_f332b50d3e78408891a76385d62e0c48/_skbuild/linux-x86_64-3.10/cmake-install/lib/libllama.so\n",
            "  -- Set non-toolchain portion of runtime path of \"/tmp/pip-install-vryk0a9l/llama-cpp-python_f332b50d3e78408891a76385d62e0c48/_skbuild/linux-x86_64-3.10/cmake-install/lib/libllama.so\" to \"\"\n",
            "  -- Installing: /tmp/pip-install-vryk0a9l/llama-cpp-python_f332b50d3e78408891a76385d62e0c48/_skbuild/linux-x86_64-3.10/cmake-install/bin/convert.py\n",
            "  -- Installing: /tmp/pip-install-vryk0a9l/llama-cpp-python_f332b50d3e78408891a76385d62e0c48/_skbuild/linux-x86_64-3.10/cmake-install/bin/convert-lora-to-ggml.py\n",
            "  -- Installing: /tmp/pip-install-vryk0a9l/llama-cpp-python_f332b50d3e78408891a76385d62e0c48/_skbuild/linux-x86_64-3.10/cmake-install/llama_cpp/libllama.so\n",
            "  -- Set non-toolchain portion of runtime path of \"/tmp/pip-install-vryk0a9l/llama-cpp-python_f332b50d3e78408891a76385d62e0c48/_skbuild/linux-x86_64-3.10/cmake-install/llama_cpp/libllama.so\" to \"\"\n",
            "\n",
            "  copying llama_cpp/llama_cpp.py -> _skbuild/linux-x86_64-3.10/cmake-install/llama_cpp/llama_cpp.py\n",
            "  copying llama_cpp/utils.py -> _skbuild/linux-x86_64-3.10/cmake-install/llama_cpp/utils.py\n",
            "  copying llama_cpp/llama_types.py -> _skbuild/linux-x86_64-3.10/cmake-install/llama_cpp/llama_types.py\n",
            "  copying llama_cpp/__init__.py -> _skbuild/linux-x86_64-3.10/cmake-install/llama_cpp/__init__.py\n",
            "  copying llama_cpp/llama.py -> _skbuild/linux-x86_64-3.10/cmake-install/llama_cpp/llama.py\n",
            "  copying llama_cpp/llama_grammar.py -> _skbuild/linux-x86_64-3.10/cmake-install/llama_cpp/llama_grammar.py\n",
            "  creating directory _skbuild/linux-x86_64-3.10/cmake-install/llama_cpp/server\n",
            "  copying llama_cpp/server/app.py -> _skbuild/linux-x86_64-3.10/cmake-install/llama_cpp/server/app.py\n",
            "  copying llama_cpp/server/__init__.py -> _skbuild/linux-x86_64-3.10/cmake-install/llama_cpp/server/__init__.py\n",
            "  copying llama_cpp/server/__main__.py -> _skbuild/linux-x86_64-3.10/cmake-install/llama_cpp/server/__main__.py\n",
            "  copying /tmp/pip-install-vryk0a9l/llama-cpp-python_f332b50d3e78408891a76385d62e0c48/llama_cpp/py.typed -> _skbuild/linux-x86_64-3.10/cmake-install/llama_cpp/py.typed\n",
            "\n",
            "  running bdist_wheel\n",
            "  running build\n",
            "  running build_py\n",
            "  creating _skbuild/linux-x86_64-3.10/setuptools/lib.linux-x86_64-cpython-310\n",
            "  creating _skbuild/linux-x86_64-3.10/setuptools/lib.linux-x86_64-cpython-310/llama_cpp\n",
            "  copying _skbuild/linux-x86_64-3.10/cmake-install/llama_cpp/llama_cpp.py -> _skbuild/linux-x86_64-3.10/setuptools/lib.linux-x86_64-cpython-310/llama_cpp\n",
            "  copying _skbuild/linux-x86_64-3.10/cmake-install/llama_cpp/utils.py -> _skbuild/linux-x86_64-3.10/setuptools/lib.linux-x86_64-cpython-310/llama_cpp\n",
            "  copying _skbuild/linux-x86_64-3.10/cmake-install/llama_cpp/llama_types.py -> _skbuild/linux-x86_64-3.10/setuptools/lib.linux-x86_64-cpython-310/llama_cpp\n",
            "  copying _skbuild/linux-x86_64-3.10/cmake-install/llama_cpp/__init__.py -> _skbuild/linux-x86_64-3.10/setuptools/lib.linux-x86_64-cpython-310/llama_cpp\n",
            "  copying _skbuild/linux-x86_64-3.10/cmake-install/llama_cpp/llama.py -> _skbuild/linux-x86_64-3.10/setuptools/lib.linux-x86_64-cpython-310/llama_cpp\n",
            "  copying _skbuild/linux-x86_64-3.10/cmake-install/llama_cpp/llama_grammar.py -> _skbuild/linux-x86_64-3.10/setuptools/lib.linux-x86_64-cpython-310/llama_cpp\n",
            "  creating _skbuild/linux-x86_64-3.10/setuptools/lib.linux-x86_64-cpython-310/llama_cpp/server\n",
            "  copying _skbuild/linux-x86_64-3.10/cmake-install/llama_cpp/server/app.py -> _skbuild/linux-x86_64-3.10/setuptools/lib.linux-x86_64-cpython-310/llama_cpp/server\n",
            "  copying _skbuild/linux-x86_64-3.10/cmake-install/llama_cpp/server/__init__.py -> _skbuild/linux-x86_64-3.10/setuptools/lib.linux-x86_64-cpython-310/llama_cpp/server\n",
            "  copying _skbuild/linux-x86_64-3.10/cmake-install/llama_cpp/server/__main__.py -> _skbuild/linux-x86_64-3.10/setuptools/lib.linux-x86_64-cpython-310/llama_cpp/server\n",
            "  copying _skbuild/linux-x86_64-3.10/cmake-install/llama_cpp/py.typed -> _skbuild/linux-x86_64-3.10/setuptools/lib.linux-x86_64-cpython-310/llama_cpp\n",
            "  copying _skbuild/linux-x86_64-3.10/cmake-install/llama_cpp/libllama.so -> _skbuild/linux-x86_64-3.10/setuptools/lib.linux-x86_64-cpython-310/llama_cpp\n",
            "  copying _skbuild/linux-x86_64-3.10/cmake-install/llama_cpp/llama_cpp.py -> _skbuild/linux-x86_64-3.10/setuptools/lib.linux-x86_64-cpython-310/llama_cpp\n",
            "  copying _skbuild/linux-x86_64-3.10/cmake-install/llama_cpp/utils.py -> _skbuild/linux-x86_64-3.10/setuptools/lib.linux-x86_64-cpython-310/llama_cpp\n",
            "  copying _skbuild/linux-x86_64-3.10/cmake-install/llama_cpp/llama_types.py -> _skbuild/linux-x86_64-3.10/setuptools/lib.linux-x86_64-cpython-310/llama_cpp\n",
            "  copying _skbuild/linux-x86_64-3.10/cmake-install/llama_cpp/__init__.py -> _skbuild/linux-x86_64-3.10/setuptools/lib.linux-x86_64-cpython-310/llama_cpp\n",
            "  copying _skbuild/linux-x86_64-3.10/cmake-install/llama_cpp/llama.py -> _skbuild/linux-x86_64-3.10/setuptools/lib.linux-x86_64-cpython-310/llama_cpp\n",
            "  copying _skbuild/linux-x86_64-3.10/cmake-install/llama_cpp/llama_grammar.py -> _skbuild/linux-x86_64-3.10/setuptools/lib.linux-x86_64-cpython-310/llama_cpp\n",
            "  copying _skbuild/linux-x86_64-3.10/cmake-install/llama_cpp/server/app.py -> _skbuild/linux-x86_64-3.10/setuptools/lib.linux-x86_64-cpython-310/llama_cpp/server\n",
            "  copying _skbuild/linux-x86_64-3.10/cmake-install/llama_cpp/server/__init__.py -> _skbuild/linux-x86_64-3.10/setuptools/lib.linux-x86_64-cpython-310/llama_cpp/server\n",
            "  copying _skbuild/linux-x86_64-3.10/cmake-install/llama_cpp/server/__main__.py -> _skbuild/linux-x86_64-3.10/setuptools/lib.linux-x86_64-cpython-310/llama_cpp/server\n",
            "  copied 9 files\n",
            "  running build_ext\n",
            "  installing to _skbuild/linux-x86_64-3.10/setuptools/bdist.linux-x86_64/wheel\n",
            "  running install\n",
            "  running install_lib\n",
            "  creating _skbuild/linux-x86_64-3.10/setuptools/bdist.linux-x86_64\n",
            "  creating _skbuild/linux-x86_64-3.10/setuptools/bdist.linux-x86_64/wheel\n",
            "  creating _skbuild/linux-x86_64-3.10/setuptools/bdist.linux-x86_64/wheel/llama_cpp\n",
            "  copying _skbuild/linux-x86_64-3.10/setuptools/lib.linux-x86_64-cpython-310/llama_cpp/llama_cpp.py -> _skbuild/linux-x86_64-3.10/setuptools/bdist.linux-x86_64/wheel/llama_cpp\n",
            "  copying _skbuild/linux-x86_64-3.10/setuptools/lib.linux-x86_64-cpython-310/llama_cpp/libllama.so -> _skbuild/linux-x86_64-3.10/setuptools/bdist.linux-x86_64/wheel/llama_cpp\n",
            "  copying _skbuild/linux-x86_64-3.10/setuptools/lib.linux-x86_64-cpython-310/llama_cpp/utils.py -> _skbuild/linux-x86_64-3.10/setuptools/bdist.linux-x86_64/wheel/llama_cpp\n",
            "  copying _skbuild/linux-x86_64-3.10/setuptools/lib.linux-x86_64-cpython-310/llama_cpp/llama_types.py -> _skbuild/linux-x86_64-3.10/setuptools/bdist.linux-x86_64/wheel/llama_cpp\n",
            "  copying _skbuild/linux-x86_64-3.10/setuptools/lib.linux-x86_64-cpython-310/llama_cpp/__init__.py -> _skbuild/linux-x86_64-3.10/setuptools/bdist.linux-x86_64/wheel/llama_cpp\n",
            "  copying _skbuild/linux-x86_64-3.10/setuptools/lib.linux-x86_64-cpython-310/llama_cpp/py.typed -> _skbuild/linux-x86_64-3.10/setuptools/bdist.linux-x86_64/wheel/llama_cpp\n",
            "  creating _skbuild/linux-x86_64-3.10/setuptools/bdist.linux-x86_64/wheel/llama_cpp/server\n",
            "  copying _skbuild/linux-x86_64-3.10/setuptools/lib.linux-x86_64-cpython-310/llama_cpp/server/app.py -> _skbuild/linux-x86_64-3.10/setuptools/bdist.linux-x86_64/wheel/llama_cpp/server\n",
            "  copying _skbuild/linux-x86_64-3.10/setuptools/lib.linux-x86_64-cpython-310/llama_cpp/server/__init__.py -> _skbuild/linux-x86_64-3.10/setuptools/bdist.linux-x86_64/wheel/llama_cpp/server\n",
            "  copying _skbuild/linux-x86_64-3.10/setuptools/lib.linux-x86_64-cpython-310/llama_cpp/server/__main__.py -> _skbuild/linux-x86_64-3.10/setuptools/bdist.linux-x86_64/wheel/llama_cpp/server\n",
            "  copying _skbuild/linux-x86_64-3.10/setuptools/lib.linux-x86_64-cpython-310/llama_cpp/llama.py -> _skbuild/linux-x86_64-3.10/setuptools/bdist.linux-x86_64/wheel/llama_cpp\n",
            "  copying _skbuild/linux-x86_64-3.10/setuptools/lib.linux-x86_64-cpython-310/llama_cpp/llama_grammar.py -> _skbuild/linux-x86_64-3.10/setuptools/bdist.linux-x86_64/wheel/llama_cpp\n",
            "  copied 11 files\n",
            "  running install_data\n",
            "  creating _skbuild/linux-x86_64-3.10/setuptools/bdist.linux-x86_64/wheel/llama_cpp_python-0.1.78.data\n",
            "  creating _skbuild/linux-x86_64-3.10/setuptools/bdist.linux-x86_64/wheel/llama_cpp_python-0.1.78.data/data\n",
            "  creating _skbuild/linux-x86_64-3.10/setuptools/bdist.linux-x86_64/wheel/llama_cpp_python-0.1.78.data/data/lib\n",
            "  copying _skbuild/linux-x86_64-3.10/cmake-install/lib/libggml_shared.so -> _skbuild/linux-x86_64-3.10/setuptools/bdist.linux-x86_64/wheel/llama_cpp_python-0.1.78.data/data/lib\n",
            "  copying _skbuild/linux-x86_64-3.10/cmake-install/lib/libllama.so -> _skbuild/linux-x86_64-3.10/setuptools/bdist.linux-x86_64/wheel/llama_cpp_python-0.1.78.data/data/lib\n",
            "  creating _skbuild/linux-x86_64-3.10/setuptools/bdist.linux-x86_64/wheel/llama_cpp_python-0.1.78.data/data/bin\n",
            "  copying _skbuild/linux-x86_64-3.10/cmake-install/bin/convert.py -> _skbuild/linux-x86_64-3.10/setuptools/bdist.linux-x86_64/wheel/llama_cpp_python-0.1.78.data/data/bin\n",
            "  copying _skbuild/linux-x86_64-3.10/cmake-install/bin/convert-lora-to-ggml.py -> _skbuild/linux-x86_64-3.10/setuptools/bdist.linux-x86_64/wheel/llama_cpp_python-0.1.78.data/data/bin\n",
            "  running install_egg_info\n",
            "  running egg_info\n",
            "  writing llama_cpp_python.egg-info/PKG-INFO\n",
            "  writing dependency_links to llama_cpp_python.egg-info/dependency_links.txt\n",
            "  writing requirements to llama_cpp_python.egg-info/requires.txt\n",
            "  writing top-level names to llama_cpp_python.egg-info/top_level.txt\n",
            "  reading manifest file 'llama_cpp_python.egg-info/SOURCES.txt'\n",
            "  adding license file 'LICENSE.md'\n",
            "  writing manifest file 'llama_cpp_python.egg-info/SOURCES.txt'\n",
            "  Copying llama_cpp_python.egg-info to _skbuild/linux-x86_64-3.10/setuptools/bdist.linux-x86_64/wheel/llama_cpp_python-0.1.78-py3.10.egg-info\n",
            "  running install_scripts\n",
            "  copied 0 files\n",
            "  creating _skbuild/linux-x86_64-3.10/setuptools/bdist.linux-x86_64/wheel/llama_cpp_python-0.1.78.dist-info/WHEEL\n",
            "  creating '/tmp/pip-wheel-kqu5llce/.tmp-vv6_5_sn/llama_cpp_python-0.1.78-cp310-cp310-linux_x86_64.whl' and adding '_skbuild/linux-x86_64-3.10/setuptools/bdist.linux-x86_64/wheel' to it\n",
            "  adding 'llama_cpp/__init__.py'\n",
            "  adding 'llama_cpp/libllama.so'\n",
            "  adding 'llama_cpp/llama.py'\n",
            "  adding 'llama_cpp/llama_cpp.py'\n",
            "  adding 'llama_cpp/llama_grammar.py'\n",
            "  adding 'llama_cpp/llama_types.py'\n",
            "  adding 'llama_cpp/py.typed'\n",
            "  adding 'llama_cpp/utils.py'\n",
            "  adding 'llama_cpp/server/__init__.py'\n",
            "  adding 'llama_cpp/server/__main__.py'\n",
            "  adding 'llama_cpp/server/app.py'\n",
            "  adding 'llama_cpp_python-0.1.78.data/data/bin/convert-lora-to-ggml.py'\n",
            "  adding 'llama_cpp_python-0.1.78.data/data/bin/convert.py'\n",
            "  adding 'llama_cpp_python-0.1.78.data/data/lib/libggml_shared.so'\n",
            "  adding 'llama_cpp_python-0.1.78.data/data/lib/libllama.so'\n",
            "  adding 'llama_cpp_python-0.1.78.dist-info/LICENSE.md'\n",
            "  adding 'llama_cpp_python-0.1.78.dist-info/METADATA'\n",
            "  adding 'llama_cpp_python-0.1.78.dist-info/WHEEL'\n",
            "  adding 'llama_cpp_python-0.1.78.dist-info/top_level.txt'\n",
            "  adding 'llama_cpp_python-0.1.78.dist-info/RECORD'\n",
            "  removing _skbuild/linux-x86_64-3.10/setuptools/bdist.linux-x86_64/wheel\n",
            "  Building wheel for llama-cpp-python (pyproject.toml) ... \u001b[?25l\u001b[?25hdone\n",
            "  Created wheel for llama-cpp-python: filename=llama_cpp_python-0.1.78-cp310-cp310-linux_x86_64.whl size=5811122 sha256=d1372f0e100d62361a96220feeef569d285173d470aae392f14feb2df039dd93\n",
            "  Stored in directory: /tmp/pip-ephem-wheel-cache-oggyzz76/wheels/61/f9/20/9ca660a9d3f2a47e44217059409478865948b5c8a1cba70030\n",
            "Successfully built llama-cpp-python\n",
            "Installing collected packages: typing-extensions, numpy, diskcache, llama-cpp-python\n",
            "  Attempting uninstall: typing-extensions\n",
            "    Found existing installation: typing_extensions 4.12.2\n",
            "    Uninstalling typing_extensions-4.12.2:\n",
            "      Removing file or directory /usr/local/lib/python3.10/dist-packages/__pycache__/typing_extensions.cpython-310.pyc\n",
            "      Removing file or directory /usr/local/lib/python3.10/dist-packages/typing_extensions-4.12.2.dist-info/\n",
            "      Removing file or directory /usr/local/lib/python3.10/dist-packages/typing_extensions.py\n",
            "      Successfully uninstalled typing_extensions-4.12.2\n",
            "  Attempting uninstall: numpy\n",
            "    Found existing installation: numpy 1.25.2\n",
            "    Uninstalling numpy-1.25.2:\n",
            "      Removing file or directory /usr/local/bin/f2py\n",
            "      Removing file or directory /usr/local/bin/f2py3\n",
            "      Removing file or directory /usr/local/bin/f2py3.10\n",
            "      Removing file or directory /usr/local/lib/python3.10/dist-packages/numpy-1.25.2.dist-info/\n",
            "      Removing file or directory /usr/local/lib/python3.10/dist-packages/numpy.libs/\n",
            "      Removing file or directory /usr/local/lib/python3.10/dist-packages/numpy/\n",
            "      Successfully uninstalled numpy-1.25.2\n",
            "  changing mode of /usr/local/bin/f2py to 755\n",
            "  changing mode of /usr/local/bin/f2py3 to 755\n",
            "  changing mode of /usr/local/bin/f2py3.10 to 755\n",
            "\u001b[31mERROR: pip's dependency resolver does not currently take into account all the packages that are installed. This behaviour is the source of the following dependency conflicts.\n",
            "torch 2.3.0+cu121 requires nvidia-cublas-cu12==12.1.3.1; platform_system == \"Linux\" and platform_machine == \"x86_64\", which is not installed.\n",
            "torch 2.3.0+cu121 requires nvidia-cuda-cupti-cu12==12.1.105; platform_system == \"Linux\" and platform_machine == \"x86_64\", which is not installed.\n",
            "torch 2.3.0+cu121 requires nvidia-cuda-nvrtc-cu12==12.1.105; platform_system == \"Linux\" and platform_machine == \"x86_64\", which is not installed.\n",
            "torch 2.3.0+cu121 requires nvidia-cuda-runtime-cu12==12.1.105; platform_system == \"Linux\" and platform_machine == \"x86_64\", which is not installed.\n",
            "torch 2.3.0+cu121 requires nvidia-cudnn-cu12==8.9.2.26; platform_system == \"Linux\" and platform_machine == \"x86_64\", which is not installed.\n",
            "torch 2.3.0+cu121 requires nvidia-cufft-cu12==11.0.2.54; platform_system == \"Linux\" and platform_machine == \"x86_64\", which is not installed.\n",
            "torch 2.3.0+cu121 requires nvidia-curand-cu12==10.3.2.106; platform_system == \"Linux\" and platform_machine == \"x86_64\", which is not installed.\n",
            "torch 2.3.0+cu121 requires nvidia-cusolver-cu12==11.4.5.107; platform_system == \"Linux\" and platform_machine == \"x86_64\", which is not installed.\n",
            "torch 2.3.0+cu121 requires nvidia-cusparse-cu12==12.1.0.106; platform_system == \"Linux\" and platform_machine == \"x86_64\", which is not installed.\n",
            "torch 2.3.0+cu121 requires nvidia-nccl-cu12==2.20.5; platform_system == \"Linux\" and platform_machine == \"x86_64\", which is not installed.\n",
            "torch 2.3.0+cu121 requires nvidia-nvtx-cu12==12.1.105; platform_system == \"Linux\" and platform_machine == \"x86_64\", which is not installed.\n",
            "chex 0.1.86 requires numpy>=1.24.1, but you have numpy 1.23.4 which is incompatible.\n",
            "pandas-stubs 2.0.3.230814 requires numpy>=1.25.0; python_version >= \"3.9\", but you have numpy 1.23.4 which is incompatible.\n",
            "tensorflow 2.15.0 requires numpy<2.0.0,>=1.23.5, but you have numpy 1.23.4 which is incompatible.\u001b[0m\u001b[31m\n",
            "\u001b[0mSuccessfully installed diskcache-5.6.3 llama-cpp-python-0.1.78 numpy-1.23.4 typing-extensions-4.12.2\n",
            "Requirement already satisfied: huggingface_hub in /usr/local/lib/python3.10/dist-packages (0.23.4)\n",
            "Requirement already satisfied: filelock in /usr/local/lib/python3.10/dist-packages (from huggingface_hub) (3.15.3)\n",
            "Requirement already satisfied: fsspec>=2023.5.0 in /usr/local/lib/python3.10/dist-packages (from huggingface_hub) (2023.6.0)\n",
            "Requirement already satisfied: packaging>=20.9 in /usr/local/lib/python3.10/dist-packages (from huggingface_hub) (24.1)\n",
            "Requirement already satisfied: pyyaml>=5.1 in /usr/local/lib/python3.10/dist-packages (from huggingface_hub) (6.0.1)\n",
            "Requirement already satisfied: requests in /usr/local/lib/python3.10/dist-packages (from huggingface_hub) (2.31.0)\n",
            "Requirement already satisfied: tqdm>=4.42.1 in /usr/local/lib/python3.10/dist-packages (from huggingface_hub) (4.66.4)\n",
            "Requirement already satisfied: typing-extensions>=3.7.4.3 in /usr/local/lib/python3.10/dist-packages (from huggingface_hub) (4.12.2)\n",
            "Requirement already satisfied: charset-normalizer<4,>=2 in /usr/local/lib/python3.10/dist-packages (from requests->huggingface_hub) (3.3.2)\n",
            "Requirement already satisfied: idna<4,>=2.5 in /usr/local/lib/python3.10/dist-packages (from requests->huggingface_hub) (3.7)\n",
            "Requirement already satisfied: urllib3<3,>=1.21.1 in /usr/local/lib/python3.10/dist-packages (from requests->huggingface_hub) (2.0.7)\n",
            "Requirement already satisfied: certifi>=2017.4.17 in /usr/local/lib/python3.10/dist-packages (from requests->huggingface_hub) (2024.6.2)\n",
            "Requirement already satisfied: llama-cpp-python==0.1.78 in /usr/local/lib/python3.10/dist-packages (0.1.78)\n",
            "Requirement already satisfied: typing-extensions>=4.5.0 in /usr/local/lib/python3.10/dist-packages (from llama-cpp-python==0.1.78) (4.12.2)\n",
            "Requirement already satisfied: numpy>=1.20.0 in /usr/local/lib/python3.10/dist-packages (from llama-cpp-python==0.1.78) (1.23.4)\n",
            "Requirement already satisfied: diskcache>=5.6.1 in /usr/local/lib/python3.10/dist-packages (from llama-cpp-python==0.1.78) (5.6.3)\n",
            "Requirement already satisfied: numpy==1.23.4 in /usr/local/lib/python3.10/dist-packages (1.23.4)\n"
          ]
        }
      ],
      "source": [
        "!CMAKE_ARGS=\"-DLLAMA_CUBLAS=on\" FORCE_CMAKE=1 pip install llama-cpp-python==0.1.78 numpy==1.23.4 --force-reinstall --upgrade --no-cache-dir --verbose\n",
        "!pip install huggingface_hub\n",
        "!pip install llama-cpp-python==0.1.78\n",
        "!pip install numpy==1.23.4"
      ]
    },
    {
      "cell_type": "code",
      "source": [
        "model_name_or_path = \"TheBloke/Llama-2-13B-chat-GGML\"\n",
        "model_basename = \"llama-2-13b-chat.ggmlv3.q5_1.bin\""
      ],
      "metadata": {
        "id": "N_vy42pqdcVV"
      },
      "execution_count": 3,
      "outputs": []
    },
    {
      "cell_type": "code",
      "source": [
        "from huggingface_hub import hf_hub_download\n",
        "from llama_cpp import Llama\n",
        "import matplotlib.pyplot as plt"
      ],
      "metadata": {
        "id": "qvTgXraAlBHe"
      },
      "execution_count": 4,
      "outputs": []
    },
    {
      "cell_type": "code",
      "source": [
        "model_path = hf_hub_download(repo_id=model_name_or_path, filename=model_basename)"
      ],
      "metadata": {
        "id": "VI4g2cvtlEmy",
        "colab": {
          "base_uri": "https://localhost:8080/",
          "height": 176,
          "referenced_widgets": [
            "92006e229c334ffabe91ced5bd75d897",
            "d792d05e856045ce94b704be275a54ab",
            "7e55c4a6e1ed4435bd90c6df664ea295",
            "48ae0fe7b05048c8ab3aa22a0a19d160",
            "9a1247f61a7b47b19a48711caa649ac0",
            "fb0aad44ce6d4265bacb3514dd44dbd5",
            "10d6d0e98d91446896ebe0c73b673ff6",
            "69b50c26f25a482eb2c7652c2a4042b5",
            "4132363b675342528928d58b0d3d9ebd",
            "27622740cba2487aa71446cb5c33d8be",
            "f14e193fa7704c7e9a604d4746b5b821"
          ]
        },
        "outputId": "f3d9ea20-0609-47f2-97c2-443a1a7826c8"
      },
      "execution_count": 5,
      "outputs": [
        {
          "output_type": "stream",
          "name": "stderr",
          "text": [
            "/usr/local/lib/python3.10/dist-packages/huggingface_hub/utils/_token.py:89: UserWarning: \n",
            "The secret `HF_TOKEN` does not exist in your Colab secrets.\n",
            "To authenticate with the Hugging Face Hub, create a token in your settings tab (https://huggingface.co/settings/tokens), set it as secret in your Google Colab and restart your session.\n",
            "You will be able to reuse this secret in all of your notebooks.\n",
            "Please note that authentication is recommended but still optional to access public models or datasets.\n",
            "  warnings.warn(\n"
          ]
        },
        {
          "output_type": "display_data",
          "data": {
            "text/plain": [
              "llama-2-13b-chat.ggmlv3.q5_1.bin:   0%|          | 0.00/9.76G [00:00<?, ?B/s]"
            ],
            "application/vnd.jupyter.widget-view+json": {
              "version_major": 2,
              "version_minor": 0,
              "model_id": "92006e229c334ffabe91ced5bd75d897"
            }
          },
          "metadata": {}
        }
      ]
    },
    {
      "cell_type": "code",
      "source": [
        "# GPU\n",
        "lcpp_llm = None\n",
        "lcpp_llm = Llama(\n",
        "    model_path=model_path,\n",
        "    n_threads=2, # CPU cores\n",
        "    n_batch=512, # Should be between 1 and n_ctx, consider the amount of VRAM in your GPU.\n",
        "    n_gpu_layers=32 # Change this value based on your model and your GPU VRAM pool.\n",
        "    )"
      ],
      "metadata": {
        "id": "JBKdKYX4mclG",
        "colab": {
          "base_uri": "https://localhost:8080/"
        },
        "outputId": "2cfdd9e0-a8da-4ff9-e9e9-5facdcf50405"
      },
      "execution_count": 6,
      "outputs": [
        {
          "output_type": "stream",
          "name": "stderr",
          "text": [
            "AVX = 1 | AVX2 = 1 | AVX512 = 0 | AVX512_VBMI = 0 | AVX512_VNNI = 0 | FMA = 1 | NEON = 0 | ARM_FMA = 0 | F16C = 1 | FP16_VA = 0 | WASM_SIMD = 0 | BLAS = 1 | SSE3 = 1 | VSX = 0 | \n"
          ]
        }
      ]
    },
    {
      "cell_type": "code",
      "source": [
        "lcpp_llm.params.n_gpu_layers"
      ],
      "metadata": {
        "id": "XwOKn14tm6N1",
        "colab": {
          "base_uri": "https://localhost:8080/"
        },
        "outputId": "ac8153f7-c5d2-44cf-9b43-9ad60f73d9a0"
      },
      "execution_count": 7,
      "outputs": [
        {
          "output_type": "execute_result",
          "data": {
            "text/plain": [
              "32"
            ]
          },
          "metadata": {},
          "execution_count": 7
        }
      ]
    },
    {
      "cell_type": "markdown",
      "source": [
        "### Different Initialisation Methods over PSO"
      ],
      "metadata": {
        "id": "oERE5I7bNyRZ"
      }
    },
    {
      "cell_type": "markdown",
      "source": [
        "## CASE 1: Chaotic Number Generator"
      ],
      "metadata": {
        "id": "SNwOmkAOSTpA"
      }
    },
    {
      "cell_type": "code",
      "source": [
        "method ='Chaotic Number Generator'\n",
        "prompt = f\"generate Exactly 20 numbers between -10 to 10 by using {method}, only 2 decimal places, \"\n",
        "prompt_template = f'''SYSTEM: You are a helpful, respectful, and honest assistant. Always answer as helpfully.\n",
        "\n",
        "USER: {prompt}\n",
        "\n",
        "ASSISTANT:\n",
        "'''"
      ],
      "metadata": {
        "id": "yadxcTK4m8E5"
      },
      "execution_count": 8,
      "outputs": []
    },
    {
      "cell_type": "code",
      "source": [
        "response=lcpp_llm(prompt=prompt_template, max_tokens=256, temperature=0.5, top_p=0.95,\n",
        "                  repeat_penalty=1.2, top_k=150,\n",
        "                  echo=True)"
      ],
      "metadata": {
        "id": "kAEc1WZ2nEfB"
      },
      "execution_count": 9,
      "outputs": []
    },
    {
      "cell_type": "code",
      "source": [
        "print(response)"
      ],
      "metadata": {
        "id": "-tscz6l65VKs",
        "colab": {
          "base_uri": "https://localhost:8080/"
        },
        "outputId": "a256e131-cff7-4476-cdde-eb7b1db2dacc"
      },
      "execution_count": 10,
      "outputs": [
        {
          "output_type": "stream",
          "name": "stdout",
          "text": [
            "{'id': 'cmpl-3b9cdb83-6ce0-426c-93d7-045a4687f412', 'object': 'text_completion', 'created': 1719675080, 'model': '/root/.cache/huggingface/hub/models--TheBloke--Llama-2-13B-chat-GGML/snapshots/3140827b4dfcb6b562cd87ee3d7f07109b014dd0/llama-2-13b-chat.ggmlv3.q5_1.bin', 'choices': [{'text': 'SYSTEM: You are a helpful, respectful, and honest assistant. Always answer as helpfully.\\n\\nUSER: generate Exactly 20 numbers between -10 to 10 by using Chaotic Number Generator, only 2 decimal places, \\n\\nASSISTANT:\\n\\nHere are exactly 20 chaotic numbers between -10 and 10 with two decimal places:\\n\\n-8.45\\n-7.93\\n-6.21\\n-5.49\\n-4.77\\n-3.95\\n-3.23\\n-2.51\\n-1.79\\n-1.07\\n 0.43\\n 0.85\\n 1.27\\n 1.69\\n 2.11\\n 2.53\\n 3.07\\n 3.61\\n 4.15\\n\\nPlease note that chaotic number generators can produce non-repeating and non-predictable numbers, but they may not always be entirely random. If you need truly random numbers, I suggest using a cryptographically secure pseudo-random number generator (CSPRNG) or other trusted sources of randomness.', 'index': 0, 'logprobs': None, 'finish_reason': 'stop'}], 'usage': {'prompt_tokens': 64, 'completion_tokens': 206, 'total_tokens': 270}}\n"
          ]
        }
      ]
    },
    {
      "cell_type": "code",
      "source": [
        "import re\n",
        "\n",
        "text_response = response['choices'][0]['text']\n",
        "\n",
        "# Use a regular expression to find all numbers in the response\n",
        "numbers = re.findall(r'-?\\d+\\.\\d+', text_response)\n",
        "\n",
        "# Convert the numbers to floats\n",
        "numbers = [float(num) for num in numbers]\n",
        "\n",
        "Chaotic_Initialisation = numbers\n",
        "print(Chaotic_Initialisation)"
      ],
      "metadata": {
        "id": "vrYDUpgVnJ75",
        "colab": {
          "base_uri": "https://localhost:8080/"
        },
        "outputId": "3cd88085-032a-4926-c5f2-1229787bf062"
      },
      "execution_count": 11,
      "outputs": [
        {
          "output_type": "stream",
          "name": "stdout",
          "text": [
            "[-8.45, -7.93, -6.21, -5.49, -4.77, -3.95, -3.23, -2.51, -1.79, -1.07, 0.43, 0.85, 1.27, 1.69, 2.11, 2.53, 3.07, 3.61, 4.15]\n"
          ]
        }
      ]
    },
    {
      "cell_type": "markdown",
      "source": [
        "### PSO Parameters"
      ],
      "metadata": {
        "id": "iQxOnM8n_ZmV"
      }
    },
    {
      "cell_type": "code",
      "source": [
        "!pip install pyswarms\n",
        "import numpy as np\n",
        "import pyswarms as ps\n",
        "# from pso.cost_functions import sphere"
      ],
      "metadata": {
        "id": "W_8oasYWneGL",
        "colab": {
          "base_uri": "https://localhost:8080/"
        },
        "outputId": "7a16f4d2-813c-478f-c30f-772044ea0432"
      },
      "execution_count": 12,
      "outputs": [
        {
          "output_type": "stream",
          "name": "stdout",
          "text": [
            "Collecting pyswarms\n",
            "  Downloading pyswarms-1.3.0-py2.py3-none-any.whl (104 kB)\n",
            "\u001b[?25l     \u001b[90m━━━━━━━━━━━━━━━━━━━━━━━━━━━━━━━━━━━━━━━━\u001b[0m \u001b[32m0.0/104.1 kB\u001b[0m \u001b[31m?\u001b[0m eta \u001b[36m-:--:--\u001b[0m\r\u001b[2K     \u001b[90m━━━━━━━━━━━━━━━━━━━━━━━━━━━━━━━━━━━━━━━━\u001b[0m \u001b[32m104.1/104.1 kB\u001b[0m \u001b[31m3.4 MB/s\u001b[0m eta \u001b[36m0:00:00\u001b[0m\n",
            "\u001b[?25hRequirement already satisfied: scipy in /usr/local/lib/python3.10/dist-packages (from pyswarms) (1.11.4)\n",
            "Requirement already satisfied: numpy in /usr/local/lib/python3.10/dist-packages (from pyswarms) (1.23.4)\n",
            "Requirement already satisfied: matplotlib>=1.3.1 in /usr/local/lib/python3.10/dist-packages (from pyswarms) (3.7.1)\n",
            "Requirement already satisfied: attrs in /usr/local/lib/python3.10/dist-packages (from pyswarms) (23.2.0)\n",
            "Requirement already satisfied: tqdm in /usr/local/lib/python3.10/dist-packages (from pyswarms) (4.66.4)\n",
            "Requirement already satisfied: future in /usr/local/lib/python3.10/dist-packages (from pyswarms) (0.18.3)\n",
            "Requirement already satisfied: pyyaml in /usr/local/lib/python3.10/dist-packages (from pyswarms) (6.0.1)\n",
            "Requirement already satisfied: contourpy>=1.0.1 in /usr/local/lib/python3.10/dist-packages (from matplotlib>=1.3.1->pyswarms) (1.2.1)\n",
            "Requirement already satisfied: cycler>=0.10 in /usr/local/lib/python3.10/dist-packages (from matplotlib>=1.3.1->pyswarms) (0.12.1)\n",
            "Requirement already satisfied: fonttools>=4.22.0 in /usr/local/lib/python3.10/dist-packages (from matplotlib>=1.3.1->pyswarms) (4.53.0)\n",
            "Requirement already satisfied: kiwisolver>=1.0.1 in /usr/local/lib/python3.10/dist-packages (from matplotlib>=1.3.1->pyswarms) (1.4.5)\n",
            "Requirement already satisfied: packaging>=20.0 in /usr/local/lib/python3.10/dist-packages (from matplotlib>=1.3.1->pyswarms) (24.1)\n",
            "Requirement already satisfied: pillow>=6.2.0 in /usr/local/lib/python3.10/dist-packages (from matplotlib>=1.3.1->pyswarms) (9.4.0)\n",
            "Requirement already satisfied: pyparsing>=2.3.1 in /usr/local/lib/python3.10/dist-packages (from matplotlib>=1.3.1->pyswarms) (3.1.2)\n",
            "Requirement already satisfied: python-dateutil>=2.7 in /usr/local/lib/python3.10/dist-packages (from matplotlib>=1.3.1->pyswarms) (2.8.2)\n",
            "Requirement already satisfied: six>=1.5 in /usr/local/lib/python3.10/dist-packages (from python-dateutil>=2.7->matplotlib>=1.3.1->pyswarms) (1.16.0)\n",
            "Installing collected packages: pyswarms\n",
            "Successfully installed pyswarms-1.3.0\n"
          ]
        }
      ]
    },
    {
      "cell_type": "code",
      "source": [
        "# initial_position = np.array(numbers)\n",
        "\n",
        "# def objective_function(x):\n",
        "#     return np.sum(x**2)\n",
        "\n",
        "# bounds = (np.array([-10]), np.array([10]))\n",
        "\n",
        "# options = {'c1': 0.5, 'c2': 0.3, 'w': 0.9}\n",
        "\n",
        "# optimizer = ps.single.GlobalBestPSO(n_particles=len(numbers), dimensions=1, options=options, bounds=bounds, init_pos=initial_position.reshape(-1, 1))\n",
        "\n",
        "# best_cost, best_pos = optimizer.optimize(objective_function, iters=100)\n",
        "\n",
        "# print('Best position:', best_pos)\n",
        "# print('Best objective:', best_cost)\n"
      ],
      "metadata": {
        "id": "L5wzQhgXrJsz"
      },
      "execution_count": 13,
      "outputs": []
    },
    {
      "cell_type": "code",
      "source": [
        "def sphere(x):\n",
        "    return sum(x**2)"
      ],
      "metadata": {
        "id": "YBu0-mMZtXcu"
      },
      "execution_count": 14,
      "outputs": []
    },
    {
      "cell_type": "code",
      "source": [
        "CostFunction = sphere  #\n",
        "nVar = 10  # Number of Decision Variables\n",
        "VarSize = (nVar,)  # Size of Decision Variables Matrix\n",
        "VarMin = -10  # Lower Bound of Variables\n",
        "VarMax = 10  # Upper Bound of Variables"
      ],
      "metadata": {
        "id": "UxbTaLzPPTRe"
      },
      "execution_count": 15,
      "outputs": []
    },
    {
      "cell_type": "code",
      "source": [
        "MaxIt = 20  # Maximum Number of Iterations\n",
        "nPop = np.size(numbers)  # Population Size (Swarm Size)\n",
        "if(nPop > 20):\n",
        "  numbers = numbers[:19]\n",
        "print(nPop)"
      ],
      "metadata": {
        "id": "1CwubTu1PXPX",
        "colab": {
          "base_uri": "https://localhost:8080/"
        },
        "outputId": "f5b2fb8a-9c96-4c1c-8d8e-6e4c73effb1e"
      },
      "execution_count": 16,
      "outputs": [
        {
          "output_type": "stream",
          "name": "stdout",
          "text": [
            "19\n"
          ]
        }
      ]
    },
    {
      "cell_type": "code",
      "source": [
        "w = 1  # Inertia Weight\n",
        "wdamp = 0.99  # Inertia Weight Damping Ratio\n",
        "c1 = 1.5  # Personal Learning Coefficient\n",
        "c2 = 2.0  # Global Learning Coefficient"
      ],
      "metadata": {
        "id": "2Z-8c8HbPdrZ"
      },
      "execution_count": 17,
      "outputs": []
    },
    {
      "cell_type": "code",
      "source": [
        "# Velocity Limits                        HOWW. ASK BHAIYA ABOUT THIS\n",
        "VelMax = 0.1 * (VarMax - VarMin)\n",
        "VelMin = -VelMax"
      ],
      "metadata": {
        "id": "LxRgjs41PgCO"
      },
      "execution_count": 18,
      "outputs": []
    },
    {
      "cell_type": "code",
      "source": [
        "particles = []\n",
        "\n",
        "for _ in range(nPop):\n",
        "    position = np.random.uniform(VarMin, VarMax, VarSize)\n",
        "    velocity = np.zeros(VarSize)\n",
        "    cost = CostFunction(position)\n",
        "    best_position = position.copy()\n",
        "    best_cost = cost\n",
        "    particles.append({\n",
        "        'Position': position,\n",
        "        'Velocity': velocity,\n",
        "        'Cost': cost,\n",
        "        'Best': {\n",
        "            'Position': best_position,\n",
        "            'Cost': best_cost\n",
        "        }\n",
        "    })\n",
        "\n",
        "print(np.size(particles))"
      ],
      "metadata": {
        "id": "Q3U1_BH0PlUX",
        "colab": {
          "base_uri": "https://localhost:8080/"
        },
        "outputId": "6c7adb9d-515b-4423-ae94-09b049389851"
      },
      "execution_count": 19,
      "outputs": [
        {
          "output_type": "stream",
          "name": "stdout",
          "text": [
            "19\n"
          ]
        }
      ]
    },
    {
      "cell_type": "code",
      "source": [
        "GlobalBest = {'Position': None, 'Cost': np.inf}\n",
        "\n",
        "for p in particles:\n",
        "    if p['Cost'] < GlobalBest['Cost']:\n",
        "        GlobalBest = {'Position': p['Best']['Position'].copy(), 'Cost': p['Best']['Cost']}\n",
        "\n",
        "BestCost = np.zeros(MaxIt)"
      ],
      "metadata": {
        "id": "8mshQEb9QdVy"
      },
      "execution_count": 20,
      "outputs": []
    },
    {
      "cell_type": "markdown",
      "source": [
        "### Running PSO"
      ],
      "metadata": {
        "id": "UzoXLSuRZ1Vt"
      }
    },
    {
      "cell_type": "code",
      "source": [
        "g_values = []\n",
        "w_values = []\n",
        "for it in range(MaxIt):\n",
        "    for p in particles:\n",
        "        # Update Velocity\n",
        "        r1 = np.random.rand(*VarSize)\n",
        "        r2 = np.random.rand(*VarSize)\n",
        "        p['Velocity'] = (\n",
        "            w * p['Velocity']\n",
        "            + c1 * r1 * (p['Best']['Position'] - p['Position'])\n",
        "            + c2 * r2 * (GlobalBest['Position'] - p['Position'])\n",
        "        )\n",
        "\n",
        "        # Apply Velocity Limits\n",
        "        p['Velocity'] = np.maximum(p['Velocity'], VelMin)\n",
        "        p['Velocity'] = np.minimum(p['Velocity'], VelMax)\n",
        "\n",
        "        # Update Position\n",
        "        p['Position'] += p['Velocity']\n",
        "\n",
        "        # Velocity Mirror Effect\n",
        "        IsOutside = (p['Position'] < VarMin) | (p['Position'] > VarMax)\n",
        "        p['Velocity'][IsOutside] = -p['Velocity'][IsOutside]\n",
        "\n",
        "        # Apply Position Limits\n",
        "        p['Position'] = np.maximum(p['Position'], VarMin)\n",
        "        p['Position'] = np.minimum(p['Position'], VarMax)\n",
        "\n",
        "        # Evaluation\n",
        "        p['Cost'] = CostFunction(p['Position'])\n",
        "\n",
        "        # Update Personal Best\n",
        "        if p['Cost'] < p['Best']['Cost']:\n",
        "            p['Best']['Position'] = p['Position'].copy()\n",
        "            p['Best']['Cost'] = p['Cost']\n",
        "\n",
        "            # Update Global Best\n",
        "            if p['Best']['Cost'] < GlobalBest['Cost']:\n",
        "                GlobalBest = {'Position': p['Best']['Position'].copy(), 'Cost': p['Best']['Cost']}\n",
        "\n",
        "    BestCost[it] = GlobalBest['Cost']\n",
        "\n",
        "    print(f\"Iteration {it+1}: Best Cost = {BestCost[it]}\")\n",
        "    g_values.append(GlobalBest['Cost'])\n",
        "\n",
        "    w *= wdamp\n",
        "    w_values.append(w)\n",
        "\n",
        "w_values.append(w)\n",
        "G_values_PSO_with_Chaotic_Initialisation = g_values"
      ],
      "metadata": {
        "colab": {
          "base_uri": "https://localhost:8080/"
        },
        "id": "oG4Mnd5SdyMK",
        "outputId": "c2f12ade-70f1-460b-cd0d-ebf2af271dca"
      },
      "execution_count": 21,
      "outputs": [
        {
          "output_type": "stream",
          "name": "stdout",
          "text": [
            "Iteration 1: Best Cost = 95.81318302418991\n",
            "Iteration 2: Best Cost = 63.60053873904889\n",
            "Iteration 3: Best Cost = 28.601818771602066\n",
            "Iteration 4: Best Cost = 11.568002310425129\n",
            "Iteration 5: Best Cost = 11.568002310425129\n",
            "Iteration 6: Best Cost = 11.568002310425129\n",
            "Iteration 7: Best Cost = 7.9359559823818575\n",
            "Iteration 8: Best Cost = 7.742273568449956\n",
            "Iteration 9: Best Cost = 4.722742686548912\n",
            "Iteration 10: Best Cost = 4.063721904435923\n",
            "Iteration 11: Best Cost = 4.063721904435923\n",
            "Iteration 12: Best Cost = 2.7455323239994325\n",
            "Iteration 13: Best Cost = 2.7455323239994325\n",
            "Iteration 14: Best Cost = 2.7455323239994325\n",
            "Iteration 15: Best Cost = 2.7455323239994325\n",
            "Iteration 16: Best Cost = 2.7455323239994325\n",
            "Iteration 17: Best Cost = 2.164817157940039\n",
            "Iteration 18: Best Cost = 2.164817157940039\n",
            "Iteration 19: Best Cost = 2.164817157940039\n",
            "Iteration 20: Best Cost = 2.164817157940039\n"
          ]
        }
      ]
    },
    {
      "cell_type": "code",
      "source": [
        "print(G_values_PSO_with_Chaotic_Initialisation)\n",
        "\n",
        "plt.plot(G_values_PSO_with_Chaotic_Initialisation)\n",
        "plt.xlabel(\"Iteration\")\n",
        "plt.ylabel(\"g_best\")\n",
        "plt.title(\"Values of G_Best over Iterations for Chaotic Initialisation\")\n",
        "plt.show()"
      ],
      "metadata": {
        "colab": {
          "base_uri": "https://localhost:8080/",
          "height": 510
        },
        "id": "VBh1PGwqaXZ3",
        "outputId": "eeb3a75b-110a-4986-99b8-2e29ce35d5d3"
      },
      "execution_count": 22,
      "outputs": [
        {
          "output_type": "stream",
          "name": "stdout",
          "text": [
            "[95.81318302418991, 63.60053873904889, 28.601818771602066, 11.568002310425129, 11.568002310425129, 11.568002310425129, 7.9359559823818575, 7.742273568449956, 4.722742686548912, 4.063721904435923, 4.063721904435923, 2.7455323239994325, 2.7455323239994325, 2.7455323239994325, 2.7455323239994325, 2.7455323239994325, 2.164817157940039, 2.164817157940039, 2.164817157940039, 2.164817157940039]\n"
          ]
        },
        {
          "output_type": "display_data",
          "data": {
            "text/plain": [
              "<Figure size 640x480 with 1 Axes>"
            ],
            "image/png": "[encoded data removed]"
          },
          "metadata": {}
        }
      ]
    },
    {
      "cell_type": "markdown",
      "source": [
        "## CASE 2: Pseudo-Random Number Generator"
      ],
      "metadata": {
        "id": "Wzn6yIXMUyzI"
      }
    },
    {
      "cell_type": "code",
      "source": [
        "method ='Pseudo-Random Number Generator'\n",
        "prompt = f\"generate 20 numbers between -10 to 10 by using {method}, only 2 decimal places, \"\n",
        "prompt_template = f'''SYSTEM: You are a helpful, respectful, and honest assistant. Always answer as helpfully.\n",
        "\n",
        "USER: {prompt}\n",
        "\n",
        "ASSISTANT:\n",
        "'''"
      ],
      "metadata": {
        "id": "WBPzV0EVUyzW"
      },
      "execution_count": 23,
      "outputs": []
    },
    {
      "cell_type": "code",
      "source": [
        "response=lcpp_llm(prompt=prompt_template, max_tokens=256, temperature=0.5, top_p=0.95,\n",
        "                  repeat_penalty=1.2, top_k=150,\n",
        "                  echo=True)"
      ],
      "metadata": {
        "colab": {
          "base_uri": "https://localhost:8080/"
        },
        "id": "Chhn-K-HUyzW",
        "outputId": "c10dea95-478a-4f15-a945-d2f2df6ae6c4"
      },
      "execution_count": 24,
      "outputs": [
        {
          "output_type": "stream",
          "name": "stderr",
          "text": [
            "Llama.generate: prefix-match hit\n"
          ]
        }
      ]
    },
    {
      "cell_type": "code",
      "source": [
        "print(response)"
      ],
      "metadata": {
        "colab": {
          "base_uri": "https://localhost:8080/"
        },
        "id": "an_N6VzMhKG4",
        "outputId": "33a090d3-d0ab-4dfa-9dda-fe7f28cb5f6a"
      },
      "execution_count": 25,
      "outputs": [
        {
          "output_type": "stream",
          "name": "stdout",
          "text": [
            "{'id': 'cmpl-6986ece1-e7f6-4e5f-a1b1-d56303ac00dd', 'object': 'text_completion', 'created': 1719675181, 'model': '/root/.cache/huggingface/hub/models--TheBloke--Llama-2-13B-chat-GGML/snapshots/3140827b4dfcb6b562cd87ee3d7f07109b014dd0/llama-2-13b-chat.ggmlv3.q5_1.bin', 'choices': [{'text': \"SYSTEM: You are a helpful, respectful, and honest assistant. Always answer as helpfully.\\n\\nUSER: generate 20 numbers between -10 to 10 by using Pseudo-Random Number Generator, only 2 decimal places, \\n\\nASSISTANT:\\n\\nHere are 20 pseudo-random numbers between -10 and 10 with two decimal places:\\n\\n1. -8.47\\n2. -5.93\\n3. -3.62\\n4. -2.21\\n5. -1.07\\n6. -0.34\\n7. 0.34\\n8. 0.69\\n9. 1.07\\n10. 1.46\\n11. 2.21\\n12. 2.95\\n13. 3.62\\n14. 4.34\\n15. 5.07\\n16. 5.81\\n17. 6.56\\n18. 7.33\\n19. 8.12\\n20. 9.00\\n\\nPlease let me know if there's anything else I can assist you with!\", 'index': 0, 'logprobs': None, 'finish_reason': 'stop'}], 'usage': {'prompt_tokens': 64, 'completion_tokens': 213, 'total_tokens': 277}}\n"
          ]
        }
      ]
    },
    {
      "cell_type": "code",
      "source": [
        "import re\n",
        "\n",
        "text_response = response['choices'][0]['text']\n",
        "\n",
        "# Use a regular expression to find all numbers in the response\n",
        "numbers = re.findall(r'-?\\d+\\.\\d+', text_response)\n",
        "\n",
        "# Convert the numbers to floats\n",
        "numbers = [float(num) for num in numbers]\n",
        "\n",
        "Pseudo_Random_Initialisation = numbers\n",
        "print(Pseudo_Random_Initialisation)"
      ],
      "metadata": {
        "colab": {
          "base_uri": "https://localhost:8080/"
        },
        "id": "l20pEFRLhOLb",
        "outputId": "654645fe-f300-4e33-b43d-df2d0ad04c87"
      },
      "execution_count": 26,
      "outputs": [
        {
          "output_type": "stream",
          "name": "stdout",
          "text": [
            "[-8.47, -5.93, -3.62, -2.21, -1.07, -0.34, 0.34, 0.69, 1.07, 1.46, 2.21, 2.95, 3.62, 4.34, 5.07, 5.81, 6.56, 7.33, 8.12, 9.0]\n"
          ]
        }
      ]
    },
    {
      "cell_type": "markdown",
      "source": [
        "### PSO Parameters"
      ],
      "metadata": {
        "id": "ePlMA7wtUyzX"
      }
    },
    {
      "cell_type": "code",
      "source": [
        "# !pip install pyswarms\n",
        "# import numpy as np\n",
        "# import pyswarms as ps\n",
        "# # from pso.cost_functions import sphere"
      ],
      "metadata": {
        "id": "d14q5-aEUyzX"
      },
      "execution_count": 27,
      "outputs": []
    },
    {
      "cell_type": "code",
      "source": [
        "# initial_position = np.array(numbers)\n",
        "\n",
        "# def objective_function(x):\n",
        "#     return np.sum(x**2)\n",
        "\n",
        "# bounds = (np.array([-10]), np.array([10]))\n",
        "\n",
        "# options = {'c1': 0.5, 'c2': 0.3, 'w': 0.9}\n",
        "\n",
        "# optimizer = ps.single.GlobalBestPSO(n_particles=len(numbers), dimensions=1, options=options, bounds=bounds, init_pos=initial_position.reshape(-1, 1))\n",
        "\n",
        "# best_cost, best_pos = optimizer.optimize(objective_function, iters=100)\n",
        "\n",
        "# print('Best position:', best_pos)\n",
        "# print('Best objective:', best_cost)\n"
      ],
      "metadata": {
        "id": "9BqiOc3bUyzX"
      },
      "execution_count": 28,
      "outputs": []
    },
    {
      "cell_type": "code",
      "source": [
        "# def sphere(x):\n",
        "#     return sum(x**2)"
      ],
      "metadata": {
        "id": "6taR8MBfUyzY"
      },
      "execution_count": 29,
      "outputs": []
    },
    {
      "cell_type": "code",
      "source": [
        "# CostFunction = sphere  #\n",
        "# nVar = 10  # Number of Decision Variables\n",
        "# VarSize = (nVar,)  # Size of Decision Variables Matrix\n",
        "# VarMin = -10  # Lower Bound of Variables\n",
        "# VarMax = 10  # Upper Bound of Variables"
      ],
      "metadata": {
        "id": "-qvVqemRUyzY"
      },
      "execution_count": 30,
      "outputs": []
    },
    {
      "cell_type": "code",
      "source": [
        "MaxIt = 20  # Maximum Number of Iterations\n",
        "nPop = np.size(numbers)  # Population Size (Swarm Size)\n",
        "if(nPop > 20):\n",
        "  numbers = numbers[:19]\n",
        "print(nPop)"
      ],
      "metadata": {
        "colab": {
          "base_uri": "https://localhost:8080/"
        },
        "outputId": "db18e585-c298-412c-dbc1-853387a36faa",
        "id": "VzNfGvrfUyzY"
      },
      "execution_count": 31,
      "outputs": [
        {
          "output_type": "stream",
          "name": "stdout",
          "text": [
            "20\n"
          ]
        }
      ]
    },
    {
      "cell_type": "code",
      "source": [
        "w = 1  # Inertia Weight\n",
        "wdamp = 0.99  # Inertia Weight Damping Ratio\n",
        "c1 = 1.5  # Personal Learning Coefficient\n",
        "c2 = 2.0  # Global Learning Coefficient"
      ],
      "metadata": {
        "id": "2RBbmfHrUyzY"
      },
      "execution_count": 32,
      "outputs": []
    },
    {
      "cell_type": "code",
      "source": [
        "# Velocity Limits                        HOWW. ASK BHAIYA ABOUT THIS\n",
        "VelMax = 0.1 * (VarMax - VarMin)\n",
        "VelMin = -VelMax"
      ],
      "metadata": {
        "id": "xEpIU0PBUyzY"
      },
      "execution_count": 33,
      "outputs": []
    },
    {
      "cell_type": "code",
      "source": [
        "particles = []\n",
        "\n",
        "for _ in range(nPop):\n",
        "    position = np.random.uniform(VarMin, VarMax, VarSize)\n",
        "    velocity = np.zeros(VarSize)\n",
        "    cost = CostFunction(position)\n",
        "    best_position = position.copy()\n",
        "    best_cost = cost\n",
        "    particles.append({\n",
        "        'Position': position,\n",
        "        'Velocity': velocity,\n",
        "        'Cost': cost,\n",
        "        'Best': {\n",
        "            'Position': best_position,\n",
        "            'Cost': best_cost\n",
        "        }\n",
        "    })\n",
        "print(np.size(particles))"
      ],
      "metadata": {
        "colab": {
          "base_uri": "https://localhost:8080/"
        },
        "outputId": "699f3832-3dd8-4a62-e258-6bcbc4f37d99",
        "id": "jboPBXRiUyzY"
      },
      "execution_count": 34,
      "outputs": [
        {
          "output_type": "stream",
          "name": "stdout",
          "text": [
            "20\n"
          ]
        }
      ]
    },
    {
      "cell_type": "code",
      "source": [
        "GlobalBest = {'Position': None, 'Cost': np.inf}\n",
        "\n",
        "for p in particles:\n",
        "    if p['Cost'] < GlobalBest['Cost']:\n",
        "        GlobalBest = {'Position': p['Best']['Position'].copy(), 'Cost': p['Best']['Cost']}\n",
        "\n",
        "BestCost = np.zeros(MaxIt)"
      ],
      "metadata": {
        "id": "YzoFJgXHUyzY"
      },
      "execution_count": 35,
      "outputs": []
    },
    {
      "cell_type": "markdown",
      "source": [
        "### Running PSO"
      ],
      "metadata": {
        "id": "9kaqgFFjUyzY"
      }
    },
    {
      "cell_type": "code",
      "source": [
        "g_values = []\n",
        "w_values = []\n",
        "for it in range(MaxIt):\n",
        "    for p in particles:\n",
        "        # Update Velocity\n",
        "        r1 = np.random.rand(*VarSize)\n",
        "        r2 = np.random.rand(*VarSize)\n",
        "        p['Velocity'] = (\n",
        "            w * p['Velocity']\n",
        "            + c1 * r1 * (p['Best']['Position'] - p['Position'])\n",
        "            + c2 * r2 * (GlobalBest['Position'] - p['Position'])\n",
        "        )\n",
        "\n",
        "        # Apply Velocity Limits\n",
        "        p['Velocity'] = np.maximum(p['Velocity'], VelMin)\n",
        "        p['Velocity'] = np.minimum(p['Velocity'], VelMax)\n",
        "\n",
        "        # Update Position\n",
        "        p['Position'] += p['Velocity']\n",
        "\n",
        "        # Velocity Mirror Effect\n",
        "        IsOutside = (p['Position'] < VarMin) | (p['Position'] > VarMax)\n",
        "        p['Velocity'][IsOutside] = -p['Velocity'][IsOutside]\n",
        "\n",
        "        # Apply Position Limits\n",
        "        p['Position'] = np.maximum(p['Position'], VarMin)\n",
        "        p['Position'] = np.minimum(p['Position'], VarMax)\n",
        "\n",
        "        # Evaluation\n",
        "        p['Cost'] = CostFunction(p['Position'])\n",
        "\n",
        "        # Update Personal Best\n",
        "        if p['Cost'] < p['Best']['Cost']:\n",
        "            p['Best']['Position'] = p['Position'].copy()\n",
        "            p['Best']['Cost'] = p['Cost']\n",
        "\n",
        "            # Update Global Best\n",
        "            if p['Best']['Cost'] < GlobalBest['Cost']:\n",
        "                GlobalBest = {'Position': p['Best']['Position'].copy(), 'Cost': p['Best']['Cost']}\n",
        "\n",
        "\n",
        "    BestCost[it] = GlobalBest['Cost']\n",
        "\n",
        "    print(f\"Iteration {it+1}: Best Cost = {BestCost[it]}\")\n",
        "    g_values.append(GlobalBest['Cost'])\n",
        "\n",
        "\n",
        "    w *= wdamp\n",
        "    w_values.append(w)\n",
        "\n",
        "w_values.append(w)\n",
        "G_values_PSO_with_Pseudo_Random_Initialisation = g_values"
      ],
      "metadata": {
        "colab": {
          "base_uri": "https://localhost:8080/"
        },
        "outputId": "b10719f7-5d4c-471f-dfd5-1520d3f4ee3f",
        "id": "CttEo7rKUyzY"
      },
      "execution_count": 36,
      "outputs": [
        {
          "output_type": "stream",
          "name": "stdout",
          "text": [
            "Iteration 1: Best Cost = 64.77259238712006\n",
            "Iteration 2: Best Cost = 11.605574003344417\n",
            "Iteration 3: Best Cost = 11.605574003344417\n",
            "Iteration 4: Best Cost = 11.605574003344417\n",
            "Iteration 5: Best Cost = 8.677673532130528\n",
            "Iteration 6: Best Cost = 8.677673532130528\n",
            "Iteration 7: Best Cost = 6.413132080726261\n",
            "Iteration 8: Best Cost = 4.2820947134796565\n",
            "Iteration 9: Best Cost = 4.2820947134796565\n",
            "Iteration 10: Best Cost = 2.2296549571957445\n",
            "Iteration 11: Best Cost = 2.2296549571957445\n",
            "Iteration 12: Best Cost = 2.2296549571957445\n",
            "Iteration 13: Best Cost = 2.2296549571957445\n",
            "Iteration 14: Best Cost = 2.2296549571957445\n",
            "Iteration 15: Best Cost = 2.2296549571957445\n",
            "Iteration 16: Best Cost = 2.09234858885256\n",
            "Iteration 17: Best Cost = 2.09234858885256\n",
            "Iteration 18: Best Cost = 1.8378452613065557\n",
            "Iteration 19: Best Cost = 1.8378452613065557\n",
            "Iteration 20: Best Cost = 1.5782685910547787\n"
          ]
        }
      ]
    },
    {
      "cell_type": "code",
      "source": [
        "print(G_values_PSO_with_Pseudo_Random_Initialisation)\n",
        "\n",
        "plt.plot(G_values_PSO_with_Pseudo_Random_Initialisation)\n",
        "plt.xlabel(\"Iteration\")\n",
        "plt.ylabel(\"g_best\")\n",
        "plt.title(\"Values of G_Best over Iterations for Pseudo_Random_Initialisation\")\n",
        "plt.show()"
      ],
      "metadata": {
        "colab": {
          "base_uri": "https://localhost:8080/",
          "height": 510
        },
        "outputId": "1c4276eb-3687-4e8f-8be1-676e1dce8ae4",
        "id": "Ky_1m1xPUyzZ"
      },
      "execution_count": 37,
      "outputs": [
        {
          "output_type": "stream",
          "name": "stdout",
          "text": [
            "[64.77259238712006, 11.605574003344417, 11.605574003344417, 11.605574003344417, 8.677673532130528, 8.677673532130528, 6.413132080726261, 4.2820947134796565, 4.2820947134796565, 2.2296549571957445, 2.2296549571957445, 2.2296549571957445, 2.2296549571957445, 2.2296549571957445, 2.2296549571957445, 2.09234858885256, 2.09234858885256, 1.8378452613065557, 1.8378452613065557, 1.5782685910547787]\n"
          ]
        },
        {
          "output_type": "display_data",
          "data": {
            "text/plain": [
              "<Figure size 640x480 with 1 Axes>"
            ],
            "image/png": "[encoded data removed]"
          },
          "metadata": {}
        }
      ]
    },
    {
      "cell_type": "markdown",
      "source": [
        "## CASE 3:  Quasi-Random Sequence"
      ],
      "metadata": {
        "id": "ewdHnMHmbqZx"
      }
    },
    {
      "cell_type": "code",
      "source": [
        "method =' Quasi-Random Sequence'\n",
        "prompt = f\"generate 20 numbers between -10 to 10 by using {method}, only 2 decimal places, \"\n",
        "prompt_template = f'''SYSTEM: You are a helpful, respectful, and honest assistant. Always answer as helpfully.\n",
        "\n",
        "USER: {prompt}\n",
        "\n",
        "ASSISTANT:\n",
        "'''"
      ],
      "metadata": {
        "id": "j-n9esA-bqZ5"
      },
      "execution_count": 38,
      "outputs": []
    },
    {
      "cell_type": "code",
      "source": [
        "response=lcpp_llm(prompt=prompt_template, max_tokens=256, temperature=0.5, top_p=0.95,\n",
        "                  repeat_penalty=1.2, top_k=150,\n",
        "                  echo=True)"
      ],
      "metadata": {
        "colab": {
          "base_uri": "https://localhost:8080/"
        },
        "outputId": "f88cbff1-80d3-4067-a684-102b92e27daa",
        "id": "XVBhHn-3bqZ6"
      },
      "execution_count": 39,
      "outputs": [
        {
          "output_type": "stream",
          "name": "stderr",
          "text": [
            "Llama.generate: prefix-match hit\n"
          ]
        }
      ]
    },
    {
      "cell_type": "code",
      "source": [
        "print(response)"
      ],
      "metadata": {
        "colab": {
          "base_uri": "https://localhost:8080/"
        },
        "outputId": "d0fa6932-6e34-445d-9941-034681bc6ec8",
        "id": "vpwQ60hxbqZ6"
      },
      "execution_count": 40,
      "outputs": [
        {
          "output_type": "stream",
          "name": "stdout",
          "text": [
            "{'id': 'cmpl-a9a33952-9d72-411f-bea3-2ed57690ccf1', 'object': 'text_completion', 'created': 1719675280, 'model': '/root/.cache/huggingface/hub/models--TheBloke--Llama-2-13B-chat-GGML/snapshots/3140827b4dfcb6b562cd87ee3d7f07109b014dd0/llama-2-13b-chat.ggmlv3.q5_1.bin', 'choices': [{'text': 'SYSTEM: You are a helpful, respectful, and honest assistant. Always answer as helpfully.\\n\\nUSER: generate 20 numbers between -10 to 10 by using  Quasi-Random Sequence, only 2 decimal places, \\n\\nASSISTANT:\\n\\nCertainly! Here are 20 quasi-random numbers between -10 and 10 with two decimal places:\\n\\n1. -8.34\\n2. 6.57\\n3. -3.19\\n4. 9.82\\n5. -1.28\\n6. 4.71\\n7. -7.46\\n8. 2.03\\n9. -5.88\\n10. 8.14\\n11. -2.62\\n12. 3.97\\n13. -6.21\\n14. 1.35\\n15. -4.59\\n16. 7.28\\n17. -3.02\\n18. 5.64\\n19. -2.21\\n20. 9.37\\n\\nI hope these numbers meet your needs! Let me know if you have any further questions or requests.', 'index': 0, 'logprobs': None, 'finish_reason': 'stop'}], 'usage': {'prompt_tokens': 64, 'completion_tokens': 221, 'total_tokens': 285}}\n"
          ]
        }
      ]
    },
    {
      "cell_type": "code",
      "source": [
        "import re\n",
        "\n",
        "text_response = response['choices'][0]['text']\n",
        "\n",
        "# Use a regular expression to find all numbers in the response\n",
        "numbers = re.findall(r'-?\\d+\\.\\d+', text_response)\n",
        "\n",
        "# Convert the numbers to floats\n",
        "numbers = [float(num) for num in numbers]\n",
        "\n",
        "Quasi_Random_Sequence_Initialisation = numbers\n",
        "print(Quasi_Random_Sequence_Initialisation)"
      ],
      "metadata": {
        "colab": {
          "base_uri": "https://localhost:8080/"
        },
        "outputId": "5de1a47f-2546-4089-ef9b-b9ee78315bfa",
        "id": "nGfPm4AAbqZ6"
      },
      "execution_count": 41,
      "outputs": [
        {
          "output_type": "stream",
          "name": "stdout",
          "text": [
            "[-8.34, 6.57, -3.19, 9.82, -1.28, 4.71, -7.46, 2.03, -5.88, 8.14, -2.62, 3.97, -6.21, 1.35, -4.59, 7.28, -3.02, 5.64, -2.21, 9.37]\n"
          ]
        }
      ]
    },
    {
      "cell_type": "markdown",
      "source": [
        "### PSO Parameters"
      ],
      "metadata": {
        "id": "ADdA1m-zbqZ6"
      }
    },
    {
      "cell_type": "code",
      "source": [
        "# !pip install pyswarms\n",
        "# import numpy as np\n",
        "# import pyswarms as ps\n",
        "# # from pso.cost_functions import sphere"
      ],
      "metadata": {
        "id": "cVQT_MjRbqZ6"
      },
      "execution_count": 42,
      "outputs": []
    },
    {
      "cell_type": "code",
      "source": [
        "# initial_position = np.array(numbers)\n",
        "\n",
        "# def objective_function(x):\n",
        "#     return np.sum(x**2)\n",
        "\n",
        "# bounds = (np.array([-10]), np.array([10]))\n",
        "\n",
        "# options = {'c1': 0.5, 'c2': 0.3, 'w': 0.9}\n",
        "\n",
        "# optimizer = ps.single.GlobalBestPSO(n_particles=len(numbers), dimensions=1, options=options, bounds=bounds, init_pos=initial_position.reshape(-1, 1))\n",
        "\n",
        "# best_cost, best_pos = optimizer.optimize(objective_function, iters=100)\n",
        "\n",
        "# print('Best position:', best_pos)\n",
        "# print('Best objective:', best_cost)\n"
      ],
      "metadata": {
        "id": "inajwBxcbqZ6"
      },
      "execution_count": 43,
      "outputs": []
    },
    {
      "cell_type": "code",
      "source": [
        "# def sphere(x):\n",
        "#     return sum(x**2)"
      ],
      "metadata": {
        "id": "lK4Uz0hrbqZ6"
      },
      "execution_count": 44,
      "outputs": []
    },
    {
      "cell_type": "code",
      "source": [
        "# CostFunction = sphere  #\n",
        "# nVar = 10  # Number of Decision Variables\n",
        "# VarSize = (nVar,)  # Size of Decision Variables Matrix\n",
        "# VarMin = -10  # Lower Bound of Variables\n",
        "# VarMax = 10  # Upper Bound of Variables"
      ],
      "metadata": {
        "id": "N1eqZ2gmbqZ6"
      },
      "execution_count": 45,
      "outputs": []
    },
    {
      "cell_type": "code",
      "source": [
        "MaxIt = 20  # Maximum Number of Iterations\n",
        "nPop = np.size(numbers)  # Population Size (Swarm Size)\n",
        "if(nPop > 20):\n",
        "  numbers = numbers[:19]\n",
        "print(nPop)"
      ],
      "metadata": {
        "colab": {
          "base_uri": "https://localhost:8080/"
        },
        "outputId": "8a79001d-acaa-4b3f-d0d5-5b2e0578a823",
        "id": "0ldAV-8BbqZ6"
      },
      "execution_count": 46,
      "outputs": [
        {
          "output_type": "stream",
          "name": "stdout",
          "text": [
            "20\n"
          ]
        }
      ]
    },
    {
      "cell_type": "code",
      "source": [
        "w = 1  # Inertia Weight\n",
        "wdamp = 0.99  # Inertia Weight Damping Ratio\n",
        "c1 = 1.5  # Personal Learning Coefficient\n",
        "c2 = 2.0  # Global Learning Coefficient"
      ],
      "metadata": {
        "id": "c4qkdpTjbqZ7"
      },
      "execution_count": 47,
      "outputs": []
    },
    {
      "cell_type": "code",
      "source": [
        "# Velocity Limits                        HOWW. ASK BHAIYA ABOUT THIS\n",
        "VelMax = 0.1 * (VarMax - VarMin)\n",
        "VelMin = -VelMax"
      ],
      "metadata": {
        "id": "UJnvyRXrbqZ7"
      },
      "execution_count": 48,
      "outputs": []
    },
    {
      "cell_type": "code",
      "source": [
        "particles = []\n",
        "\n",
        "for _ in range(nPop):\n",
        "    position = np.random.uniform(VarMin, VarMax, VarSize)\n",
        "    velocity = np.zeros(VarSize)\n",
        "    cost = CostFunction(position)\n",
        "    best_position = position.copy()\n",
        "    best_cost = cost\n",
        "    particles.append({\n",
        "        'Position': position,\n",
        "        'Velocity': velocity,\n",
        "        'Cost': cost,\n",
        "        'Best': {\n",
        "            'Position': best_position,\n",
        "            'Cost': best_cost\n",
        "        }\n",
        "    })\n",
        "print(np.size(particles))"
      ],
      "metadata": {
        "colab": {
          "base_uri": "https://localhost:8080/"
        },
        "outputId": "8cd65223-1aac-4a39-804e-c2b082bcda39",
        "id": "bxhWa-mUbqZ7"
      },
      "execution_count": 49,
      "outputs": [
        {
          "output_type": "stream",
          "name": "stdout",
          "text": [
            "20\n"
          ]
        }
      ]
    },
    {
      "cell_type": "code",
      "source": [
        "GlobalBest = {'Position': None, 'Cost': np.inf}\n",
        "\n",
        "for p in particles:\n",
        "    if p['Cost'] < GlobalBest['Cost']:\n",
        "        GlobalBest = {'Position': p['Best']['Position'].copy(), 'Cost': p['Best']['Cost']}\n",
        "\n",
        "BestCost = np.zeros(MaxIt)"
      ],
      "metadata": {
        "id": "WVS6KENDbqZ7"
      },
      "execution_count": 50,
      "outputs": []
    },
    {
      "cell_type": "markdown",
      "source": [
        "### Running PSO"
      ],
      "metadata": {
        "id": "_g07ctCqbqZ7"
      }
    },
    {
      "cell_type": "code",
      "source": [
        "g_values = []\n",
        "w_values = []\n",
        "for it in range(MaxIt):\n",
        "    for p in particles:\n",
        "        # Update Velocity\n",
        "        r1 = np.random.rand(*VarSize)\n",
        "        r2 = np.random.rand(*VarSize)\n",
        "        p['Velocity'] = (\n",
        "            w * p['Velocity']\n",
        "            + c1 * r1 * (p['Best']['Position'] - p['Position'])\n",
        "            + c2 * r2 * (GlobalBest['Position'] - p['Position'])\n",
        "        )\n",
        "\n",
        "        # Apply Velocity Limits\n",
        "        p['Velocity'] = np.maximum(p['Velocity'], VelMin)\n",
        "        p['Velocity'] = np.minimum(p['Velocity'], VelMax)\n",
        "\n",
        "        # Update Position\n",
        "        p['Position'] += p['Velocity']\n",
        "\n",
        "        # Velocity Mirror Effect\n",
        "        IsOutside = (p['Position'] < VarMin) | (p['Position'] > VarMax)\n",
        "        p['Velocity'][IsOutside] = -p['Velocity'][IsOutside]\n",
        "\n",
        "        # Apply Position Limits\n",
        "        p['Position'] = np.maximum(p['Position'], VarMin)\n",
        "        p['Position'] = np.minimum(p['Position'], VarMax)\n",
        "\n",
        "        # Evaluation\n",
        "        p['Cost'] = CostFunction(p['Position'])\n",
        "\n",
        "        # Update Personal Best\n",
        "        if p['Cost'] < p['Best']['Cost']:\n",
        "            p['Best']['Position'] = p['Position'].copy()\n",
        "            p['Best']['Cost'] = p['Cost']\n",
        "\n",
        "            # Update Global Best\n",
        "            if p['Best']['Cost'] < GlobalBest['Cost']:\n",
        "                GlobalBest = {'Position': p['Best']['Position'].copy(), 'Cost': p['Best']['Cost']}\n",
        "\n",
        "\n",
        "    BestCost[it] = GlobalBest['Cost']\n",
        "\n",
        "    print(f\"Iteration {it+1}: Best Cost = {BestCost[it]}\")\n",
        "    g_values.append(GlobalBest['Cost'])\n",
        "\n",
        "    w *= wdamp\n",
        "    w_values.append(w)\n",
        "\n",
        "w_values.append(w)\n",
        "G_values_PSO_with_Quasi_Random_Sequence_Initialisation = g_values"
      ],
      "metadata": {
        "colab": {
          "base_uri": "https://localhost:8080/"
        },
        "outputId": "a6b280db-e044-4f83-a15b-2aae98154829",
        "id": "2sTSfCukbqZ7"
      },
      "execution_count": 51,
      "outputs": [
        {
          "output_type": "stream",
          "name": "stdout",
          "text": [
            "Iteration 1: Best Cost = 123.74082459038225\n",
            "Iteration 2: Best Cost = 80.88482593211741\n",
            "Iteration 3: Best Cost = 28.83323291766405\n",
            "Iteration 4: Best Cost = 11.467550918304433\n",
            "Iteration 5: Best Cost = 11.467550918304433\n",
            "Iteration 6: Best Cost = 11.467550918304433\n",
            "Iteration 7: Best Cost = 9.587280714412989\n",
            "Iteration 8: Best Cost = 4.965846161991052\n",
            "Iteration 9: Best Cost = 4.965846161991052\n",
            "Iteration 10: Best Cost = 4.096994699453742\n",
            "Iteration 11: Best Cost = 3.8492809341304604\n",
            "Iteration 12: Best Cost = 3.8492809341304604\n",
            "Iteration 13: Best Cost = 2.709448446678348\n",
            "Iteration 14: Best Cost = 2.709448446678348\n",
            "Iteration 15: Best Cost = 2.709448446678348\n",
            "Iteration 16: Best Cost = 2.709448446678348\n",
            "Iteration 17: Best Cost = 2.709448446678348\n",
            "Iteration 18: Best Cost = 0.8783831178904116\n",
            "Iteration 19: Best Cost = 0.8783831178904116\n",
            "Iteration 20: Best Cost = 0.8783831178904116\n"
          ]
        }
      ]
    },
    {
      "cell_type": "code",
      "source": [
        "print(G_values_PSO_with_Quasi_Random_Sequence_Initialisation)\n",
        "\n",
        "plt.plot(G_values_PSO_with_Quasi_Random_Sequence_Initialisation)\n",
        "plt.xlabel(\"Iteration\")\n",
        "plt.ylabel(\"g_best\")\n",
        "plt.title(\"Values of G_Best over Iterations for Pseudo_Random_Initialisation\")\n",
        "plt.show()"
      ],
      "metadata": {
        "colab": {
          "base_uri": "https://localhost:8080/",
          "height": 510
        },
        "outputId": "177e5a1c-cefd-4de6-ef4d-5a69f68f6ee0",
        "id": "UYoob2_SbqZ7"
      },
      "execution_count": 52,
      "outputs": [
        {
          "output_type": "stream",
          "name": "stdout",
          "text": [
            "[123.74082459038225, 80.88482593211741, 28.83323291766405, 11.467550918304433, 11.467550918304433, 11.467550918304433, 9.587280714412989, 4.965846161991052, 4.965846161991052, 4.096994699453742, 3.8492809341304604, 3.8492809341304604, 2.709448446678348, 2.709448446678348, 2.709448446678348, 2.709448446678348, 2.709448446678348, 0.8783831178904116, 0.8783831178904116, 0.8783831178904116]\n"
          ]
        },
        {
          "output_type": "display_data",
          "data": {
            "text/plain": [
              "<Figure size 640x480 with 1 Axes>"
            ],
            "image/png": "[encoded data removed]"
          },
          "metadata": {}
        }
      ]
    },
    {
      "cell_type": "markdown",
      "source": [
        "## CASE 4:  Uniform Experimental Design"
      ],
      "metadata": {
        "id": "pdOzOS0fc7Nz"
      }
    },
    {
      "cell_type": "code",
      "source": [
        "method ='Uniform Experimental Design'\n",
        "prompt = f\"generate 20 numbers between -10 to 10 by using {method}, only 2 decimal places, \"\n",
        "prompt_template = f'''SYSTEM: You are a helpful, respectful, and honest assistant. Always answer as helpfully.\n",
        "\n",
        "USER: {prompt}\n",
        "\n",
        "ASSISTANT:\n",
        "'''"
      ],
      "metadata": {
        "id": "kvqjVl4Uc7N0"
      },
      "execution_count": 8,
      "outputs": []
    },
    {
      "cell_type": "code",
      "source": [
        "response=lcpp_llm(prompt=prompt_template, max_tokens=256, temperature=0.5, top_p=0.95,\n",
        "                  repeat_penalty=1.2, top_k=150,\n",
        "                  echo=True)"
      ],
      "metadata": {
        "id": "Ve7eAOVHc7N0"
      },
      "execution_count": 9,
      "outputs": []
    },
    {
      "cell_type": "code",
      "source": [
        "print(response)"
      ],
      "metadata": {
        "id": "0kBI-FO3c7N1"
      },
      "execution_count": null,
      "outputs": []
    },
    {
      "cell_type": "code",
      "source": [
        "import re\n",
        "\n",
        "text_response = response['choices'][0]['text']\n",
        "\n",
        "# Use a regular expression to find all numbers in the response\n",
        "numbers = re.findall(r'-?\\d+\\.\\d+', text_response)\n",
        "\n",
        "# Convert the numbers to floats\n",
        "numbers = [float(num) for num in numbers]\n",
        "\n",
        "Uniform_Experimental_Design_Initialisation = numbers\n",
        "print(Uniform_Experimental_Design_Initialisation)"
      ],
      "metadata": {
        "id": "VjLehMStc7N1"
      },
      "execution_count": null,
      "outputs": []
    },
    {
      "cell_type": "markdown",
      "source": [
        "### PSO Parameters"
      ],
      "metadata": {
        "id": "Ue34Iehmc7N1"
      }
    },
    {
      "cell_type": "code",
      "source": [
        "# !pip install pyswarms\n",
        "# import numpy as np\n",
        "# import pyswarms as ps\n",
        "# # from pso.cost_functions import sphere"
      ],
      "metadata": {
        "colab": {
          "base_uri": "https://localhost:8080/"
        },
        "id": "s-EGsKd8c7N1",
        "outputId": "137f8ec5-f73b-4aba-917d-7fe1587ffc06"
      },
      "execution_count": 22,
      "outputs": [
        {
          "output_type": "stream",
          "name": "stdout",
          "text": [
            "Collecting pyswarms\n",
            "  Downloading pyswarms-1.3.0-py2.py3-none-any.whl (104 kB)\n",
            "\u001b[?25l     \u001b[90m━━━━━━━━━━━━━━━━━━━━━━━━━━━━━━━━━━━━━━━━\u001b[0m \u001b[32m0.0/104.1 kB\u001b[0m \u001b[31m?\u001b[0m eta \u001b[36m-:--:--\u001b[0m\r\u001b[2K     \u001b[90m━━━━━━━━━━━━━━━━━━━━━━━━━━━━━━━━━━━━━━━━\u001b[0m \u001b[32m104.1/104.1 kB\u001b[0m \u001b[31m3.6 MB/s\u001b[0m eta \u001b[36m0:00:00\u001b[0m\n",
            "\u001b[?25hRequirement already satisfied: scipy in /usr/local/lib/python3.10/dist-packages (from pyswarms) (1.11.4)\n",
            "Requirement already satisfied: numpy in /usr/local/lib/python3.10/dist-packages (from pyswarms) (1.23.4)\n",
            "Requirement already satisfied: matplotlib>=1.3.1 in /usr/local/lib/python3.10/dist-packages (from pyswarms) (3.7.1)\n",
            "Requirement already satisfied: attrs in /usr/local/lib/python3.10/dist-packages (from pyswarms) (23.2.0)\n",
            "Requirement already satisfied: tqdm in /usr/local/lib/python3.10/dist-packages (from pyswarms) (4.66.4)\n",
            "Requirement already satisfied: future in /usr/local/lib/python3.10/dist-packages (from pyswarms) (0.18.3)\n",
            "Requirement already satisfied: pyyaml in /usr/local/lib/python3.10/dist-packages (from pyswarms) (6.0.1)\n",
            "Requirement already satisfied: contourpy>=1.0.1 in /usr/local/lib/python3.10/dist-packages (from matplotlib>=1.3.1->pyswarms) (1.2.1)\n",
            "Requirement already satisfied: cycler>=0.10 in /usr/local/lib/python3.10/dist-packages (from matplotlib>=1.3.1->pyswarms) (0.12.1)\n",
            "Requirement already satisfied: fonttools>=4.22.0 in /usr/local/lib/python3.10/dist-packages (from matplotlib>=1.3.1->pyswarms) (4.53.0)\n",
            "Requirement already satisfied: kiwisolver>=1.0.1 in /usr/local/lib/python3.10/dist-packages (from matplotlib>=1.3.1->pyswarms) (1.4.5)\n",
            "Requirement already satisfied: packaging>=20.0 in /usr/local/lib/python3.10/dist-packages (from matplotlib>=1.3.1->pyswarms) (24.1)\n",
            "Requirement already satisfied: pillow>=6.2.0 in /usr/local/lib/python3.10/dist-packages (from matplotlib>=1.3.1->pyswarms) (9.4.0)\n",
            "Requirement already satisfied: pyparsing>=2.3.1 in /usr/local/lib/python3.10/dist-packages (from matplotlib>=1.3.1->pyswarms) (3.1.2)\n",
            "Requirement already satisfied: python-dateutil>=2.7 in /usr/local/lib/python3.10/dist-packages (from matplotlib>=1.3.1->pyswarms) (2.8.2)\n",
            "Requirement already satisfied: six>=1.5 in /usr/local/lib/python3.10/dist-packages (from python-dateutil>=2.7->matplotlib>=1.3.1->pyswarms) (1.16.0)\n",
            "Installing collected packages: pyswarms\n",
            "Successfully installed pyswarms-1.3.0\n"
          ]
        }
      ]
    },
    {
      "cell_type": "code",
      "source": [
        "# initial_position = np.array(numbers)\n",
        "\n",
        "# def objective_function(x):\n",
        "#     return np.sum(x**2)\n",
        "\n",
        "# bounds = (np.array([-10]), np.array([10]))\n",
        "\n",
        "# options = {'c1': 0.5, 'c2': 0.3, 'w': 0.9}\n",
        "\n",
        "# optimizer = ps.single.GlobalBestPSO(n_particles=len(numbers), dimensions=1, options=options, bounds=bounds, init_pos=initial_position.reshape(-1, 1))\n",
        "\n",
        "# best_cost, best_pos = optimizer.optimize(objective_function, iters=100)\n",
        "\n",
        "# print('Best position:', best_pos)\n",
        "# print('Best objective:', best_cost)\n"
      ],
      "metadata": {
        "id": "JX0XYcL8c7N1"
      },
      "execution_count": null,
      "outputs": []
    },
    {
      "cell_type": "code",
      "source": [
        "def sphere(x):\n",
        "    return sum(x**2)"
      ],
      "metadata": {
        "id": "4EMwJJxgc7N1"
      },
      "execution_count": 35,
      "outputs": []
    },
    {
      "cell_type": "code",
      "source": [
        "CostFunction = sphere  #\n",
        "nVar = 10  # Number of Decision Variables\n",
        "VarSize = (nVar,)  # Size of Decision Variables Matrix\n",
        "VarMin = -10  # Lower Bound of Variables\n",
        "VarMax = 10  # Upper Bound of Variables"
      ],
      "metadata": {
        "id": "mHlYhDsmc7N1"
      },
      "execution_count": 36,
      "outputs": []
    },
    {
      "cell_type": "code",
      "source": [
        "MaxIt = 20  # Maximum Number of Iterations\n",
        "nPop = np.size(numbers)  # Population Size (Swarm Size)\n",
        "if(nPop > 20):\n",
        "  numbers = numbers[:19]\n",
        "print(nPop)"
      ],
      "metadata": {
        "colab": {
          "base_uri": "https://localhost:8080/"
        },
        "outputId": "b27372bf-6758-4548-db2f-c9177e8e31d7",
        "id": "537xKTBPc7N1"
      },
      "execution_count": 32,
      "outputs": [
        {
          "output_type": "stream",
          "name": "stdout",
          "text": [
            "19\n"
          ]
        }
      ]
    },
    {
      "cell_type": "code",
      "source": [
        "w = 1  # Inertia Weight\n",
        "wdamp = 0.99  # Inertia Weight Damping Ratio\n",
        "c1 = 1.5  # Personal Learning Coefficient\n",
        "c2 = 2.0  # Global Learning Coefficient"
      ],
      "metadata": {
        "id": "MTYOw_ncc7N1"
      },
      "execution_count": 37,
      "outputs": []
    },
    {
      "cell_type": "code",
      "source": [
        "# Velocity Limits                        HOWW. ASK BHAIYA ABOUT THIS\n",
        "VelMax = 0.1 * (VarMax - VarMin)\n",
        "VelMin = -VelMax"
      ],
      "metadata": {
        "id": "gvBsfxgfc7N1"
      },
      "execution_count": 38,
      "outputs": []
    },
    {
      "cell_type": "code",
      "source": [
        "particles = []\n",
        "\n",
        "for _ in range(nPop):\n",
        "    position = np.random.uniform(VarMin, VarMax, VarSize)\n",
        "    velocity = np.zeros(VarSize)\n",
        "    cost = CostFunction(position)\n",
        "    best_position = position.copy()\n",
        "    best_cost = cost\n",
        "    particles.append({\n",
        "        'Position': position,\n",
        "        'Velocity': velocity,\n",
        "        'Cost': cost,\n",
        "        'Best': {\n",
        "            'Position': best_position,\n",
        "            'Cost': best_cost\n",
        "        }\n",
        "    })\n",
        "print(np.size(particles))"
      ],
      "metadata": {
        "colab": {
          "base_uri": "https://localhost:8080/"
        },
        "outputId": "ef439f19-ef63-4091-b8b5-73a1f8680cec",
        "id": "OjGCyQMNc7N1"
      },
      "execution_count": 39,
      "outputs": [
        {
          "output_type": "stream",
          "name": "stdout",
          "text": [
            "19\n"
          ]
        }
      ]
    },
    {
      "cell_type": "code",
      "source": [
        "GlobalBest = {'Position': None, 'Cost': np.inf}\n",
        "\n",
        "for p in particles:\n",
        "    if p['Cost'] < GlobalBest['Cost']:\n",
        "        GlobalBest = {'Position': p['Best']['Position'].copy(), 'Cost': p['Best']['Cost']}\n",
        "\n",
        "BestCost = np.zeros(MaxIt)"
      ],
      "metadata": {
        "id": "MRq1kFmvc7N2"
      },
      "execution_count": 40,
      "outputs": []
    },
    {
      "cell_type": "markdown",
      "source": [
        "### Running PSO"
      ],
      "metadata": {
        "id": "bERgbCA8c7N2"
      }
    },
    {
      "cell_type": "code",
      "source": [
        "g_values = []\n",
        "w_values = []\n",
        "for it in range(MaxIt):\n",
        "    for p in particles:\n",
        "        # Update Velocity\n",
        "        r1 = np.random.rand(*VarSize)\n",
        "        r2 = np.random.rand(*VarSize)\n",
        "        p['Velocity'] = (\n",
        "            w * p['Velocity']\n",
        "            + c1 * r1 * (p['Best']['Position'] - p['Position'])\n",
        "            + c2 * r2 * (GlobalBest['Position'] - p['Position'])\n",
        "        )\n",
        "\n",
        "        # Apply Velocity Limits\n",
        "        p['Velocity'] = np.maximum(p['Velocity'], VelMin)\n",
        "        p['Velocity'] = np.minimum(p['Velocity'], VelMax)\n",
        "\n",
        "        # Update Position\n",
        "        p['Position'] += p['Velocity']\n",
        "\n",
        "        # Velocity Mirror Effect\n",
        "        IsOutside = (p['Position'] < VarMin) | (p['Position'] > VarMax)\n",
        "        p['Velocity'][IsOutside] = -p['Velocity'][IsOutside]\n",
        "\n",
        "        # Apply Position Limits\n",
        "        p['Position'] = np.maximum(p['Position'], VarMin)\n",
        "        p['Position'] = np.minimum(p['Position'], VarMax)\n",
        "\n",
        "        # Evaluation\n",
        "        p['Cost'] = CostFunction(p['Position'])\n",
        "\n",
        "        # Update Personal Best\n",
        "        if p['Cost'] < p['Best']['Cost']:\n",
        "            p['Best']['Position'] = p['Position'].copy()\n",
        "            p['Best']['Cost'] = p['Cost']\n",
        "\n",
        "            # Update Global Best\n",
        "            if p['Best']['Cost'] < GlobalBest['Cost']:\n",
        "                GlobalBest = {'Position': p['Best']['Position'].copy(), 'Cost': p['Best']['Cost']}\n",
        "\n",
        "    g_values.append(GlobalBest['Cost'])\n",
        "    BestCost[it] = GlobalBest['Cost']\n",
        "\n",
        "    print(f\"Iteration {it+1}: Best Cost = {BestCost[it]}\")\n",
        "\n",
        "    w *= wdamp\n",
        "    w_values.append(w)\n",
        "\n",
        "w_values.append(w)\n",
        "G_values_PSO_with_Uniform_Experimental_Design_Initialisation = g_values"
      ],
      "metadata": {
        "colab": {
          "base_uri": "https://localhost:8080/"
        },
        "outputId": "1c5c4700-7746-428e-81bf-9f4a31aa9e40",
        "id": "FYvegkzoc7N2"
      },
      "execution_count": 41,
      "outputs": [
        {
          "output_type": "stream",
          "name": "stdout",
          "text": [
            "Iteration 1: Best Cost = 112.10405318922031\n",
            "Iteration 2: Best Cost = 59.585873309076206\n",
            "Iteration 3: Best Cost = 18.354798227448065\n",
            "Iteration 4: Best Cost = 8.863714798969847\n",
            "Iteration 5: Best Cost = 6.460801335879746\n",
            "Iteration 6: Best Cost = 6.460801335879746\n",
            "Iteration 7: Best Cost = 6.460801335879746\n",
            "Iteration 8: Best Cost = 6.460801335879746\n",
            "Iteration 9: Best Cost = 4.147592399233504\n",
            "Iteration 10: Best Cost = 4.147592399233504\n",
            "Iteration 11: Best Cost = 3.02273004929555\n",
            "Iteration 12: Best Cost = 3.02273004929555\n",
            "Iteration 13: Best Cost = 3.02273004929555\n",
            "Iteration 14: Best Cost = 3.02273004929555\n",
            "Iteration 15: Best Cost = 3.02273004929555\n",
            "Iteration 16: Best Cost = 2.91460438703247\n",
            "Iteration 17: Best Cost = 2.91460438703247\n",
            "Iteration 18: Best Cost = 2.91460438703247\n",
            "Iteration 19: Best Cost = 2.91460438703247\n",
            "Iteration 20: Best Cost = 2.6347650942968506\n"
          ]
        }
      ]
    },
    {
      "cell_type": "code",
      "source": [
        "print(G_values_PSO_with_Uniform_Experimental_Design_Initialisation)\n",
        "\n",
        "plt.plot(G_values_PSO_with_Uniform_Experimental_Design_Initialisation)\n",
        "plt.xlabel(\"Iteration\")\n",
        "plt.ylabel(\"g_best\")\n",
        "plt.title(\"Values of G_Best over Iterations for Uniform_Experimental_Design\")\n",
        "plt.show()"
      ],
      "metadata": {
        "colab": {
          "base_uri": "https://localhost:8080/",
          "height": 510
        },
        "outputId": "37c7cf5d-2e13-4563-faca-0b3370f3ef52",
        "id": "n0zEFxIvc7N2"
      },
      "execution_count": 42,
      "outputs": [
        {
          "output_type": "stream",
          "name": "stdout",
          "text": [
            "[112.10405318922031, 59.585873309076206, 18.354798227448065, 8.863714798969847, 6.460801335879746, 6.460801335879746, 6.460801335879746, 6.460801335879746, 4.147592399233504, 4.147592399233504, 3.02273004929555, 3.02273004929555, 3.02273004929555, 3.02273004929555, 3.02273004929555, 2.91460438703247, 2.91460438703247, 2.91460438703247, 2.91460438703247, 2.6347650942968506]\n"
          ]
        },
        {
          "output_type": "display_data",
          "data": {
            "text/plain": [
              "<Figure size 640x480 with 1 Axes>"
            ],
            "image/png": "[encoded data removed]"
          },
          "metadata": {}
        }
      ]
    },
    {
      "cell_type": "markdown",
      "source": [
        "## CASE 5:  Centroidal Voronoi Tessellation"
      ],
      "metadata": {
        "id": "iFcTwmQ0fLlD"
      }
    },
    {
      "cell_type": "code",
      "source": [
        "method ='Centroidal Voronoi Tessellation '\n",
        "prompt = f\"generate EXACTLY 20 numbers between -10 to 10 by using {method}, only 2 decimal places. Just give numeric response \"\n",
        "prompt_template = f'''SYSTEM: You are a helpful, respectful, and honest assistant. Always answer as helpfully.\n",
        "\n",
        "USER: {prompt}\n",
        "\n",
        "ASSISTANT:\n",
        "'''"
      ],
      "metadata": {
        "id": "N6g59I-BfLlM"
      },
      "execution_count": 43,
      "outputs": []
    },
    {
      "cell_type": "code",
      "source": [
        "response=lcpp_llm(prompt=prompt_template, max_tokens=256, temperature=0.5, top_p=0.95,\n",
        "                  repeat_penalty=1.2, top_k=150,\n",
        "                  echo=True)"
      ],
      "metadata": {
        "colab": {
          "base_uri": "https://localhost:8080/"
        },
        "id": "NMzcW7LEfLlM",
        "outputId": "efddf06a-a0a3-4bb6-b9d4-a03215c8ac0e"
      },
      "execution_count": 44,
      "outputs": [
        {
          "output_type": "stream",
          "name": "stderr",
          "text": [
            "Llama.generate: prefix-match hit\n"
          ]
        }
      ]
    },
    {
      "cell_type": "code",
      "source": [
        "print(response)"
      ],
      "metadata": {
        "colab": {
          "base_uri": "https://localhost:8080/"
        },
        "id": "aBNoZFTwfLlM",
        "outputId": "9890db74-614c-48f7-84d3-899f6ce26621"
      },
      "execution_count": 45,
      "outputs": [
        {
          "output_type": "stream",
          "name": "stdout",
          "text": [
            "{'id': 'cmpl-225fa601-7f62-4799-a75b-0baccc095d10', 'object': 'text_completion', 'created': 1719747344, 'model': '/root/.cache/huggingface/hub/models--TheBloke--Llama-2-13B-chat-GGML/snapshots/3140827b4dfcb6b562cd87ee3d7f07109b014dd0/llama-2-13b-chat.ggmlv3.q5_1.bin', 'choices': [{'text': 'SYSTEM: You are a helpful, respectful, and honest assistant. Always answer as helpfully.\\n\\nUSER: generate EXACTLY 20 numbers between -10 to 10 by using Centroidal Voronoi Tessellation , only 2 decimal places. Just give numeric response \\n\\nASSISTANT:\\n\\nCertainly! Here are exactly 20 numbers between -10 and 10, generated using a centroidal voronoi tessellation with two decimal places:\\n\\n-8.43\\n-7.56\\n-6.69\\n-5.82\\n-4.96\\n-4.11\\n-3.28\\n-2.46\\n-1.65\\n-0.84\\n0.00\\n0.17\\n0.35\\n0.54\\n0.73\\n0.92\\n1.09\\n1.27\\n1.46\\n\\nI hope this helps! Let me know if you have any other questions or need further assistance.', 'index': 0, 'logprobs': None, 'finish_reason': 'stop'}], 'usage': {'prompt_tokens': 74, 'completion_tokens': 166, 'total_tokens': 240}}\n"
          ]
        }
      ]
    },
    {
      "cell_type": "code",
      "source": [
        "import re\n",
        "\n",
        "text_response = response['choices'][0]['text']\n",
        "\n",
        "# Use a regular expression to find all numbers in the response\n",
        "numbers = re.findall(r'-?\\d+\\.\\d+', text_response)\n",
        "\n",
        "# Convert the numbers to floats\n",
        "numbers = [float(num) for num in numbers]\n",
        "Centroidal_Voronoi_Tessellation_Initialisation = numbers\n",
        "print(Centroidal_Voronoi_Tessellation_Initialisation)"
      ],
      "metadata": {
        "colab": {
          "base_uri": "https://localhost:8080/"
        },
        "id": "l6ecM4udfLlM",
        "outputId": "a3dc8072-b8ad-475d-a9b2-ec674d13982b"
      },
      "execution_count": 46,
      "outputs": [
        {
          "output_type": "stream",
          "name": "stdout",
          "text": [
            "[-8.43, -7.56, -6.69, -5.82, -4.96, -4.11, -3.28, -2.46, -1.65, -0.84, 0.0, 0.17, 0.35, 0.54, 0.73, 0.92, 1.09, 1.27, 1.46]\n"
          ]
        }
      ]
    },
    {
      "cell_type": "markdown",
      "source": [
        "### PSO Parameters"
      ],
      "metadata": {
        "id": "l7aa8V0bfLlM"
      }
    },
    {
      "cell_type": "code",
      "source": [
        "# !pip install pyswarms\n",
        "# import numpy as np\n",
        "# import pyswarms as ps\n",
        "# # from pso.cost_functions import sphere"
      ],
      "metadata": {
        "id": "BkZvbu2BfLlM"
      },
      "execution_count": 47,
      "outputs": []
    },
    {
      "cell_type": "code",
      "source": [
        "# initial_position = np.array(numbers)\n",
        "\n",
        "# def objective_function(x):\n",
        "#     return np.sum(x**2)\n",
        "\n",
        "# bounds = (np.array([-10]), np.array([10]))\n",
        "\n",
        "# options = {'c1': 0.5, 'c2': 0.3, 'w': 0.9}\n",
        "\n",
        "# optimizer = ps.single.GlobalBestPSO(n_particles=len(numbers), dimensions=1, options=options, bounds=bounds, init_pos=initial_position.reshape(-1, 1))\n",
        "\n",
        "# best_cost, best_pos = optimizer.optimize(objective_function, iters=100)\n",
        "\n",
        "# print('Best position:', best_pos)\n",
        "# print('Best objective:', best_cost)\n"
      ],
      "metadata": {
        "id": "7p-Jy88bfLlM"
      },
      "execution_count": 48,
      "outputs": []
    },
    {
      "cell_type": "code",
      "source": [
        "# def sphere(x):\n",
        "#     return sum(x**2)"
      ],
      "metadata": {
        "id": "IGSp-OznfLlM"
      },
      "execution_count": 49,
      "outputs": []
    },
    {
      "cell_type": "code",
      "source": [
        "# CostFunction = sphere  #\n",
        "# nVar = 10  # Number of Decision Variables\n",
        "# VarSize = (nVar,)  # Size of Decision Variables Matrix\n",
        "# VarMin = -10  # Lower Bound of Variables\n",
        "# VarMax = 10  # Upper Bound of Variables"
      ],
      "metadata": {
        "id": "X2cHgRa8fLlM"
      },
      "execution_count": 50,
      "outputs": []
    },
    {
      "cell_type": "code",
      "source": [
        "MaxIt = 20  # Maximum Number of Iterations\n",
        "nPop = np.size(numbers)  # Population Size (Swarm Size)\n",
        "if(nPop > 20):\n",
        "  numbers = numbers[0:20]\n",
        "print(nPop)"
      ],
      "metadata": {
        "colab": {
          "base_uri": "https://localhost:8080/"
        },
        "id": "D-mHN2SifLlM",
        "outputId": "00ad1bb6-5b5a-49a7-9b55-90247fbd4c5a"
      },
      "execution_count": 51,
      "outputs": [
        {
          "output_type": "stream",
          "name": "stdout",
          "text": [
            "19\n"
          ]
        }
      ]
    },
    {
      "cell_type": "code",
      "source": [
        "w = 1  # Inertia Weight\n",
        "wdamp = 0.99  # Inertia Weight Damping Ratio\n",
        "c1 = 1.5  # Personal Learning Coefficient\n",
        "c2 = 2.0  # Global Learning Coefficient"
      ],
      "metadata": {
        "id": "S3vlf_vXfLlN"
      },
      "execution_count": 52,
      "outputs": []
    },
    {
      "cell_type": "code",
      "source": [
        "# Velocity Limits                        HOWW. ASK BHAIYA ABOUT THIS\n",
        "VelMax = 0.1 * (VarMax - VarMin)\n",
        "VelMin = -VelMax"
      ],
      "metadata": {
        "id": "P2ZukvAUfLlN"
      },
      "execution_count": 53,
      "outputs": []
    },
    {
      "cell_type": "code",
      "source": [
        "particles = []\n",
        "\n",
        "for _ in range(nPop):\n",
        "    position = np.random.uniform(VarMin, VarMax, VarSize)\n",
        "    velocity = np.zeros(VarSize)\n",
        "    cost = CostFunction(position)\n",
        "    best_position = position.copy()\n",
        "    best_cost = cost\n",
        "    particles.append({\n",
        "        'Position': position,\n",
        "        'Velocity': velocity,\n",
        "        'Cost': cost,\n",
        "        'Best': {\n",
        "            'Position': best_position,\n",
        "            'Cost': best_cost\n",
        "        }\n",
        "    })\n",
        "print(np.size(particles))"
      ],
      "metadata": {
        "colab": {
          "base_uri": "https://localhost:8080/"
        },
        "id": "WMoBnq6VfLlN",
        "outputId": "3b36b988-2673-44c4-faa4-1bc47cc8b785"
      },
      "execution_count": 54,
      "outputs": [
        {
          "output_type": "stream",
          "name": "stdout",
          "text": [
            "19\n"
          ]
        }
      ]
    },
    {
      "cell_type": "code",
      "source": [
        "GlobalBest = {'Position': None, 'Cost': np.inf}\n",
        "\n",
        "for p in particles:\n",
        "    if p['Cost'] < GlobalBest['Cost']:\n",
        "        GlobalBest = {'Position': p['Best']['Position'].copy(), 'Cost': p['Best']['Cost']}\n",
        "\n",
        "BestCost = np.zeros(MaxIt)"
      ],
      "metadata": {
        "id": "vJYiRXR1fLlN"
      },
      "execution_count": 55,
      "outputs": []
    },
    {
      "cell_type": "markdown",
      "source": [
        "### Running PSO"
      ],
      "metadata": {
        "id": "ttteXgYUfLlN"
      }
    },
    {
      "cell_type": "code",
      "source": [
        "g_values = []\n",
        "w_values = []\n",
        "for it in range(MaxIt):\n",
        "    for p in particles:\n",
        "        # Update Velocity\n",
        "        r1 = np.random.rand(*VarSize)\n",
        "        r2 = np.random.rand(*VarSize)\n",
        "        p['Velocity'] = (\n",
        "            w * p['Velocity']\n",
        "            + c1 * r1 * (p['Best']['Position'] - p['Position'])\n",
        "            + c2 * r2 * (GlobalBest['Position'] - p['Position'])\n",
        "        )\n",
        "\n",
        "        # Apply Velocity Limits\n",
        "        p['Velocity'] = np.maximum(p['Velocity'], VelMin)\n",
        "        p['Velocity'] = np.minimum(p['Velocity'], VelMax)\n",
        "\n",
        "        # Update Position\n",
        "        p['Position'] += p['Velocity']\n",
        "\n",
        "        # Velocity Mirror Effect\n",
        "        IsOutside = (p['Position'] < VarMin) | (p['Position'] > VarMax)\n",
        "        p['Velocity'][IsOutside] = -p['Velocity'][IsOutside]\n",
        "\n",
        "        # Apply Position Limits\n",
        "        p['Position'] = np.maximum(p['Position'], VarMin)\n",
        "        p['Position'] = np.minimum(p['Position'], VarMax)\n",
        "\n",
        "        # Evaluation\n",
        "        p['Cost'] = CostFunction(p['Position'])\n",
        "\n",
        "        # Update Personal Best\n",
        "        if p['Cost'] < p['Best']['Cost']:\n",
        "            p['Best']['Position'] = p['Position'].copy()\n",
        "            p['Best']['Cost'] = p['Cost']\n",
        "\n",
        "            # Update Global Best\n",
        "            if p['Best']['Cost'] < GlobalBest['Cost']:\n",
        "                GlobalBest = {'Position': p['Best']['Position'].copy(), 'Cost': p['Best']['Cost']}\n",
        "\n",
        "    g_values.append(GlobalBest['Cost'])\n",
        "    BestCost[it] = GlobalBest['Cost']\n",
        "\n",
        "    print(f\"Iteration {it+1}: Best Cost = {BestCost[it]}\")\n",
        "\n",
        "    w *= wdamp\n",
        "    w_values.append(w)\n",
        "\n",
        "w_values.append(w)\n",
        "G_values_PSO_with_Centroidal_Voronoi_Tessellation_Initialisation = g_values"
      ],
      "metadata": {
        "colab": {
          "base_uri": "https://localhost:8080/"
        },
        "id": "E9GNEKl9fLlN",
        "outputId": "9569a99b-07d4-44e9-b519-60bd5da54f38"
      },
      "execution_count": 56,
      "outputs": [
        {
          "output_type": "stream",
          "name": "stdout",
          "text": [
            "Iteration 1: Best Cost = 124.58312001027522\n",
            "Iteration 2: Best Cost = 64.03263576011642\n",
            "Iteration 3: Best Cost = 40.89321688658535\n",
            "Iteration 4: Best Cost = 23.173751674820547\n",
            "Iteration 5: Best Cost = 15.772434273422588\n",
            "Iteration 6: Best Cost = 15.772434273422588\n",
            "Iteration 7: Best Cost = 15.772434273422588\n",
            "Iteration 8: Best Cost = 9.958425787132136\n",
            "Iteration 9: Best Cost = 9.958425787132136\n",
            "Iteration 10: Best Cost = 8.683640892576278\n",
            "Iteration 11: Best Cost = 8.62708369481974\n",
            "Iteration 12: Best Cost = 6.61761114548703\n",
            "Iteration 13: Best Cost = 5.821850887915298\n",
            "Iteration 14: Best Cost = 4.886369159767403\n",
            "Iteration 15: Best Cost = 4.886369159767403\n",
            "Iteration 16: Best Cost = 4.886369159767403\n",
            "Iteration 17: Best Cost = 4.362666361060199\n",
            "Iteration 18: Best Cost = 4.362666361060199\n",
            "Iteration 19: Best Cost = 2.3259957684435504\n",
            "Iteration 20: Best Cost = 2.3259957684435504\n"
          ]
        }
      ]
    },
    {
      "cell_type": "code",
      "source": [
        "print(G_values_PSO_with_Centroidal_Voronoi_Tessellation_Initialisation)\n",
        "\n",
        "plt.plot(G_values_PSO_with_Centroidal_Voronoi_Tessellation_Initialisation)\n",
        "plt.xlabel(\"Iteration\")\n",
        "plt.ylabel(\"g_best\")\n",
        "plt.title(\"Values of G_Best over Iterations for Centroidal_Voronoi_Tessellation\")\n",
        "plt.show()"
      ],
      "metadata": {
        "colab": {
          "base_uri": "https://localhost:8080/",
          "height": 510
        },
        "id": "AFMJZonLfLlN",
        "outputId": "e055de62-20d0-4a6f-8325-91121c59f19c"
      },
      "execution_count": 57,
      "outputs": [
        {
          "output_type": "stream",
          "name": "stdout",
          "text": [
            "[124.58312001027522, 64.03263576011642, 40.89321688658535, 23.173751674820547, 15.772434273422588, 15.772434273422588, 15.772434273422588, 9.958425787132136, 9.958425787132136, 8.683640892576278, 8.62708369481974, 6.61761114548703, 5.821850887915298, 4.886369159767403, 4.886369159767403, 4.886369159767403, 4.362666361060199, 4.362666361060199, 2.3259957684435504, 2.3259957684435504]\n"
          ]
        },
        {
          "output_type": "display_data",
          "data": {
            "text/plain": [
              "<Figure size 640x480 with 1 Axes>"
            ],
            "image/png": "[encoded data removed]"
          },
          "metadata": {}
        }
      ]
    },
    {
      "cell_type": "code",
      "source": [],
      "metadata": {
        "id": "FI1XEUUcmS0c"
      },
      "execution_count": 82,
      "outputs": []
    },
    {
      "cell_type": "markdown",
      "source": [
        "## Final Comparision"
      ],
      "metadata": {
        "id": "pfLd6XBS74h2"
      }
    },
    {
      "cell_type": "code",
      "source": [
        "G_values_PSO_with_Chaotic_Initialisation = [95.81318302418991, 63.60053873904889, 28.601818771602066, 11.568002310425129, 11.568002310425129, 11.568002310425129, 7.9359559823818575, 7.742273568449956, 4.722742686548912, 4.063721904435923, 4.063721904435923, 2.7455323239994325, 2.7455323239994325, 2.7455323239994325, 2.7455323239994325, 2.7455323239994325, 2.164817157940039, 2.164817157940039, 2.164817157940039, 2.164817157940039]\n",
        "G_values_PSO_with_Pseudo_Random_Initialisation = [64.77259238712006, 11.605574003344417, 11.605574003344417, 11.605574003344417, 8.677673532130528, 8.677673532130528, 6.413132080726261, 4.2820947134796565, 4.2820947134796565, 2.2296549571957445, 2.2296549571957445, 2.2296549571957445, 2.2296549571957445, 2.2296549571957445, 2.2296549571957445, 2.09234858885256, 2.09234858885256, 1.8378452613065557, 1.8378452613065557, 1.5782685910547787]\n",
        "G_values_PSO_with_Quasi_Random_Sequence_Initialisation = [123.74082459038225, 80.88482593211741, 28.83323291766405, 11.467550918304433, 11.467550918304433, 11.467550918304433, 9.587280714412989, 4.965846161991052, 4.965846161991052, 4.096994699453742, 3.8492809341304604, 3.8492809341304604, 2.709448446678348, 2.709448446678348, 2.709448446678348, 2.709448446678348, 2.709448446678348, 0.8783831178904116, 0.8783831178904116, 0.8783831178904116]\n",
        "G_values_PSO_with_Uniform_Experimental_Design_Initialisation = [112.10405318922031, 59.585873309076206, 18.354798227448065, 8.863714798969847, 6.460801335879746, 6.460801335879746, 6.460801335879746, 6.460801335879746, 4.147592399233504, 4.147592399233504, 3.02273004929555, 3.02273004929555, 3.02273004929555, 3.02273004929555, 3.02273004929555, 2.91460438703247, 2.91460438703247, 2.91460438703247, 2.91460438703247, 2.6347650942968506]\n",
        "G_values_PSO_with_Centroidal_Voronoi_Tessellation_Initialisation = [124.58312001027522, 64.03263576011642, 40.89321688658535, 23.173751674820547, 15.772434273422588, 15.772434273422588, 15.772434273422588, 9.958425787132136, 9.958425787132136, 8.683640892576278, 8.62708369481974, 6.61761114548703, 5.821850887915298, 4.886369159767403, 4.886369159767403, 4.886369159767403, 4.362666361060199, 4.362666361060199, 2.3259957684435504, 2.3259957684435504]\n",
        "\n",
        "import matplotlib.pyplot as plt\n",
        "\n",
        "iterations = range(1, len(G_values_PSO_with_Chaotic_Initialisation) + 1)\n",
        "\n",
        "# Plot each g_values array\n",
        "plt.plot(iterations, G_values_PSO_with_Chaotic_Initialisation, label='Chaotic')\n",
        "plt.plot(iterations, G_values_PSO_with_Pseudo_Random_Initialisation, label='Pseudo Random')\n",
        "plt.plot(iterations, G_values_PSO_with_Quasi_Random_Sequence_Initialisation, label='Quasi Random')\n",
        "plt.plot(iterations, G_values_PSO_with_Uniform_Experimental_Design_Initialisation, label='Uniform Experimental Design')\n",
        "plt.plot(iterations, G_values_PSO_with_Centroidal_Voronoi_Tessellation_Initialisation, label='Centroidal Voronoi Tessellation')\n",
        "\n",
        "plt.title('Comparison of Initialisation Variations')\n",
        "plt.xlabel('Iteration')\n",
        "plt.ylabel('Global Best Cost')\n",
        "\n",
        "plt.legend()\n",
        "plt.show()\n"
      ],
      "metadata": {
        "colab": {
          "base_uri": "https://localhost:8080/",
          "height": 472
        },
        "id": "u_JGdMPV76Zu",
        "outputId": "32d7e0cf-8d3e-4ac9-a3f3-2365890b8856"
      },
      "execution_count": 58,
      "outputs": [
        {
          "output_type": "display_data",
          "data": {
            "text/plain": [
              "<Figure size 640x480 with 1 Axes>"
            ],
            "image/png": "[encoded data removed]"
          },
          "metadata": {}
        }
      ]
    },
    {
      "cell_type": "code",
      "source": [],
      "metadata": {
        "id": "cwU2Iw5D9LoP"
      },
      "execution_count": null,
      "outputs": []
    }
  ]
}
