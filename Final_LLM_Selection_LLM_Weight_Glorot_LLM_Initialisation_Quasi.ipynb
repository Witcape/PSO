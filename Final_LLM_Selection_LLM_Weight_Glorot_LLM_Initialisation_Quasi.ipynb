{
  "nbformat": 4,
  "nbformat_minor": 0,
  "metadata": {
    "colab": {
      "provenance": [],
      "gpuType": "T4",
      "collapsed_sections": [
        "oERE5I7bNyRZ",
        "UREs2TNnZdCq",
        "M4Mu7IQcZdCz",
        "rEOl4LpQZdC0"
      ],
      "include_colab_link": true
    },
    "kernelspec": {
      "name": "python3",
      "display_name": "Python 3"
    },
    "language_info": {
      "name": "python"
    },
    "accelerator": "GPU",
    "widgets": {
      "application/vnd.jupyter.widget-state+json": {
        "5cf0cec5379742b8bb5b263dfb956d6a": {
          "model_module": "@jupyter-widgets/controls",
          "model_name": "HBoxModel",
          "model_module_version": "1.5.0",
          "state": {
            "_dom_classes": [],
            "_model_module": "@jupyter-widgets/controls",
            "_model_module_version": "1.5.0",
            "_model_name": "HBoxModel",
            "_view_count": null,
            "_view_module": "@jupyter-widgets/controls",
            "_view_module_version": "1.5.0",
            "_view_name": "HBoxView",
            "box_style": "",
            "children": [
              "IPY_MODEL_a1352c633e104a5783ab6f8f94497ca3",
              "IPY_MODEL_813ca530bb3e4ac1a3876e27459a24ac",
              "IPY_MODEL_a6ad66644e6843a1abd652413064e2c3"
            ],
            "layout": "IPY_MODEL_d2e41ca9d13b4208b16e62c190820a3c"
          }
        },
        "a1352c633e104a5783ab6f8f94497ca3": {
          "model_module": "@jupyter-widgets/controls",
          "model_name": "HTMLModel",
          "model_module_version": "1.5.0",
          "state": {
            "_dom_classes": [],
            "_model_module": "@jupyter-widgets/controls",
            "_model_module_version": "1.5.0",
            "_model_name": "HTMLModel",
            "_view_count": null,
            "_view_module": "@jupyter-widgets/controls",
            "_view_module_version": "1.5.0",
            "_view_name": "HTMLView",
            "description": "",
            "description_tooltip": null,
            "layout": "IPY_MODEL_a8b7963208c6417f9ad3d7634d3d49fd",
            "placeholder": "​",
            "style": "IPY_MODEL_0951688bee3e475ba9e81fd30adaaa33",
            "value": "llama-2-13b-chat.ggmlv3.q5_1.bin: 100%"
          }
        },
        "813ca530bb3e4ac1a3876e27459a24ac": {
          "model_module": "@jupyter-widgets/controls",
          "model_name": "FloatProgressModel",
          "model_module_version": "1.5.0",
          "state": {
            "_dom_classes": [],
            "_model_module": "@jupyter-widgets/controls",
            "_model_module_version": "1.5.0",
            "_model_name": "FloatProgressModel",
            "_view_count": null,
            "_view_module": "@jupyter-widgets/controls",
            "_view_module_version": "1.5.0",
            "_view_name": "ProgressView",
            "bar_style": "success",
            "description": "",
            "description_tooltip": null,
            "layout": "IPY_MODEL_f581bb995c9a4007a7bad29c039a4002",
            "max": 9763701888,
            "min": 0,
            "orientation": "horizontal",
            "style": "IPY_MODEL_d3b5eb98877047dfa16cb991ed252e86",
            "value": 9763701888
          }
        },
        "a6ad66644e6843a1abd652413064e2c3": {
          "model_module": "@jupyter-widgets/controls",
          "model_name": "HTMLModel",
          "model_module_version": "1.5.0",
          "state": {
            "_dom_classes": [],
            "_model_module": "@jupyter-widgets/controls",
            "_model_module_version": "1.5.0",
            "_model_name": "HTMLModel",
            "_view_count": null,
            "_view_module": "@jupyter-widgets/controls",
            "_view_module_version": "1.5.0",
            "_view_name": "HTMLView",
            "description": "",
            "description_tooltip": null,
            "layout": "IPY_MODEL_e5b79f6e5b184fa294358e4287974101",
            "placeholder": "​",
            "style": "IPY_MODEL_bd078389bb5d466f9502d867ded228d5",
            "value": " 9.76G/9.76G [00:59&lt;00:00, 277MB/s]"
          }
        },
        "d2e41ca9d13b4208b16e62c190820a3c": {
          "model_module": "@jupyter-widgets/base",
          "model_name": "LayoutModel",
          "model_module_version": "1.2.0",
          "state": {
            "_model_module": "@jupyter-widgets/base",
            "_model_module_version": "1.2.0",
            "_model_name": "LayoutModel",
            "_view_count": null,
            "_view_module": "@jupyter-widgets/base",
            "_view_module_version": "1.2.0",
            "_view_name": "LayoutView",
            "align_content": null,
            "align_items": null,
            "align_self": null,
            "border": null,
            "bottom": null,
            "display": null,
            "flex": null,
            "flex_flow": null,
            "grid_area": null,
            "grid_auto_columns": null,
            "grid_auto_flow": null,
            "grid_auto_rows": null,
            "grid_column": null,
            "grid_gap": null,
            "grid_row": null,
            "grid_template_areas": null,
            "grid_template_columns": null,
            "grid_template_rows": null,
            "height": null,
            "justify_content": null,
            "justify_items": null,
            "left": null,
            "margin": null,
            "max_height": null,
            "max_width": null,
            "min_height": null,
            "min_width": null,
            "object_fit": null,
            "object_position": null,
            "order": null,
            "overflow": null,
            "overflow_x": null,
            "overflow_y": null,
            "padding": null,
            "right": null,
            "top": null,
            "visibility": null,
            "width": null
          }
        },
        "a8b7963208c6417f9ad3d7634d3d49fd": {
          "model_module": "@jupyter-widgets/base",
          "model_name": "LayoutModel",
          "model_module_version": "1.2.0",
          "state": {
            "_model_module": "@jupyter-widgets/base",
            "_model_module_version": "1.2.0",
            "_model_name": "LayoutModel",
            "_view_count": null,
            "_view_module": "@jupyter-widgets/base",
            "_view_module_version": "1.2.0",
            "_view_name": "LayoutView",
            "align_content": null,
            "align_items": null,
            "align_self": null,
            "border": null,
            "bottom": null,
            "display": null,
            "flex": null,
            "flex_flow": null,
            "grid_area": null,
            "grid_auto_columns": null,
            "grid_auto_flow": null,
            "grid_auto_rows": null,
            "grid_column": null,
            "grid_gap": null,
            "grid_row": null,
            "grid_template_areas": null,
            "grid_template_columns": null,
            "grid_template_rows": null,
            "height": null,
            "justify_content": null,
            "justify_items": null,
            "left": null,
            "margin": null,
            "max_height": null,
            "max_width": null,
            "min_height": null,
            "min_width": null,
            "object_fit": null,
            "object_position": null,
            "order": null,
            "overflow": null,
            "overflow_x": null,
            "overflow_y": null,
            "padding": null,
            "right": null,
            "top": null,
            "visibility": null,
            "width": null
          }
        },
        "0951688bee3e475ba9e81fd30adaaa33": {
          "model_module": "@jupyter-widgets/controls",
          "model_name": "DescriptionStyleModel",
          "model_module_version": "1.5.0",
          "state": {
            "_model_module": "@jupyter-widgets/controls",
            "_model_module_version": "1.5.0",
            "_model_name": "DescriptionStyleModel",
            "_view_count": null,
            "_view_module": "@jupyter-widgets/base",
            "_view_module_version": "1.2.0",
            "_view_name": "StyleView",
            "description_width": ""
          }
        },
        "f581bb995c9a4007a7bad29c039a4002": {
          "model_module": "@jupyter-widgets/base",
          "model_name": "LayoutModel",
          "model_module_version": "1.2.0",
          "state": {
            "_model_module": "@jupyter-widgets/base",
            "_model_module_version": "1.2.0",
            "_model_name": "LayoutModel",
            "_view_count": null,
            "_view_module": "@jupyter-widgets/base",
            "_view_module_version": "1.2.0",
            "_view_name": "LayoutView",
            "align_content": null,
            "align_items": null,
            "align_self": null,
            "border": null,
            "bottom": null,
            "display": null,
            "flex": null,
            "flex_flow": null,
            "grid_area": null,
            "grid_auto_columns": null,
            "grid_auto_flow": null,
            "grid_auto_rows": null,
            "grid_column": null,
            "grid_gap": null,
            "grid_row": null,
            "grid_template_areas": null,
            "grid_template_columns": null,
            "grid_template_rows": null,
            "height": null,
            "justify_content": null,
            "justify_items": null,
            "left": null,
            "margin": null,
            "max_height": null,
            "max_width": null,
            "min_height": null,
            "min_width": null,
            "object_fit": null,
            "object_position": null,
            "order": null,
            "overflow": null,
            "overflow_x": null,
            "overflow_y": null,
            "padding": null,
            "right": null,
            "top": null,
            "visibility": null,
            "width": null
          }
        },
        "d3b5eb98877047dfa16cb991ed252e86": {
          "model_module": "@jupyter-widgets/controls",
          "model_name": "ProgressStyleModel",
          "model_module_version": "1.5.0",
          "state": {
            "_model_module": "@jupyter-widgets/controls",
            "_model_module_version": "1.5.0",
            "_model_name": "ProgressStyleModel",
            "_view_count": null,
            "_view_module": "@jupyter-widgets/base",
            "_view_module_version": "1.2.0",
            "_view_name": "StyleView",
            "bar_color": null,
            "description_width": ""
          }
        },
        "e5b79f6e5b184fa294358e4287974101": {
          "model_module": "@jupyter-widgets/base",
          "model_name": "LayoutModel",
          "model_module_version": "1.2.0",
          "state": {
            "_model_module": "@jupyter-widgets/base",
            "_model_module_version": "1.2.0",
            "_model_name": "LayoutModel",
            "_view_count": null,
            "_view_module": "@jupyter-widgets/base",
            "_view_module_version": "1.2.0",
            "_view_name": "LayoutView",
            "align_content": null,
            "align_items": null,
            "align_self": null,
            "border": null,
            "bottom": null,
            "display": null,
            "flex": null,
            "flex_flow": null,
            "grid_area": null,
            "grid_auto_columns": null,
            "grid_auto_flow": null,
            "grid_auto_rows": null,
            "grid_column": null,
            "grid_gap": null,
            "grid_row": null,
            "grid_template_areas": null,
            "grid_template_columns": null,
            "grid_template_rows": null,
            "height": null,
            "justify_content": null,
            "justify_items": null,
            "left": null,
            "margin": null,
            "max_height": null,
            "max_width": null,
            "min_height": null,
            "min_width": null,
            "object_fit": null,
            "object_position": null,
            "order": null,
            "overflow": null,
            "overflow_x": null,
            "overflow_y": null,
            "padding": null,
            "right": null,
            "top": null,
            "visibility": null,
            "width": null
          }
        },
        "bd078389bb5d466f9502d867ded228d5": {
          "model_module": "@jupyter-widgets/controls",
          "model_name": "DescriptionStyleModel",
          "model_module_version": "1.5.0",
          "state": {
            "_model_module": "@jupyter-widgets/controls",
            "_model_module_version": "1.5.0",
            "_model_name": "DescriptionStyleModel",
            "_view_count": null,
            "_view_module": "@jupyter-widgets/base",
            "_view_module_version": "1.2.0",
            "_view_name": "StyleView",
            "description_width": ""
          }
        }
      }
    }
  },
  "cells": [
    {
      "cell_type": "markdown",
      "metadata": {
        "id": "view-in-github",
        "colab_type": "text"
      },
      "source": [
        "<a href=\"https://colab.research.google.com/github/Witcape/PSO/blob/main/Final_LLM_Selection_LLM_Weight_Glorot_LLM_Initialisation_Quasi.ipynb\" target=\"_parent\"><img src=\"https://colab.research.google.com/assets/colab-badge.svg\" alt=\"Open In Colab\"/></a>"
      ]
    },
    {
      "cell_type": "markdown",
      "source": [
        "###Installing LLM"
      ],
      "metadata": {
        "id": "9uP6rkKmNnMe"
      }
    },
    {
      "cell_type": "code",
      "source": [
        "# !pip install accelerate\n",
        "# import accelerate"
      ],
      "metadata": {
        "id": "kY6BJbl4e8Fb"
      },
      "execution_count": 6,
      "outputs": []
    },
    {
      "cell_type": "code",
      "execution_count": 7,
      "metadata": {
        "colab": {
          "base_uri": "https://localhost:8080/"
        },
        "id": "LI3J3o7JdXmC",
        "outputId": "2da77937-ed71-43bd-af77-2afb7fcc0e71"
      },
      "outputs": [
        {
          "output_type": "stream",
          "name": "stdout",
          "text": [
            "Using pip 23.1.2 from /usr/local/lib/python3.10/dist-packages/pip (python 3.10)\n",
            "Collecting llama-cpp-python==0.1.78\n",
            "  Downloading llama_cpp_python-0.1.78.tar.gz (1.7 MB)\n",
            "\u001b[2K     \u001b[90m━━━━━━━━━━━━━━━━━━━━━━━━━━━━━━━━━━━━━━━━\u001b[0m \u001b[32m1.7/1.7 MB\u001b[0m \u001b[31m9.1 MB/s\u001b[0m eta \u001b[36m0:00:00\u001b[0m\n",
            "\u001b[?25h  Running command pip subprocess to install build dependencies\n",
            "  Using pip 23.1.2 from /usr/local/lib/python3.10/dist-packages/pip (python 3.10)\n",
            "  Collecting setuptools>=42\n",
            "    Using cached setuptools-70.2.0-py3-none-any.whl (930 kB)\n",
            "  Collecting scikit-build>=0.13\n",
            "    Using cached scikit_build-0.18.0-py3-none-any.whl (85 kB)\n",
            "  Collecting cmake>=3.18\n",
            "    Using cached cmake-3.30.0-py3-none-manylinux_2_17_x86_64.manylinux2014_x86_64.whl (26.9 MB)\n",
            "  Collecting ninja\n",
            "    Using cached ninja-1.11.1.1-py2.py3-none-manylinux1_x86_64.manylinux_2_5_x86_64.whl (307 kB)\n",
            "  Collecting distro (from scikit-build>=0.13)\n",
            "    Using cached distro-1.9.0-py3-none-any.whl (20 kB)\n",
            "  Collecting packaging (from scikit-build>=0.13)\n",
            "    Using cached packaging-24.1-py3-none-any.whl (53 kB)\n",
            "  Collecting tomli (from scikit-build>=0.13)\n",
            "    Using cached tomli-2.0.1-py3-none-any.whl (12 kB)\n",
            "  Collecting wheel>=0.32.0 (from scikit-build>=0.13)\n",
            "    Using cached wheel-0.43.0-py3-none-any.whl (65 kB)\n",
            "  Installing collected packages: ninja, wheel, tomli, setuptools, packaging, distro, cmake, scikit-build\n",
            "    Creating /tmp/pip-build-env-xevixhah/overlay/local/bin\n",
            "    changing mode of /tmp/pip-build-env-xevixhah/overlay/local/bin/ninja to 755\n",
            "    changing mode of /tmp/pip-build-env-xevixhah/overlay/local/bin/wheel to 755\n",
            "    changing mode of /tmp/pip-build-env-xevixhah/overlay/local/bin/distro to 755\n",
            "    changing mode of /tmp/pip-build-env-xevixhah/overlay/local/bin/cmake to 755\n",
            "    changing mode of /tmp/pip-build-env-xevixhah/overlay/local/bin/cpack to 755\n",
            "    changing mode of /tmp/pip-build-env-xevixhah/overlay/local/bin/ctest to 755\n",
            "  ERROR: pip's dependency resolver does not currently take into account all the packages that are installed. This behaviour is the source of the following dependency conflicts.\n",
            "  ipython 7.34.0 requires jedi>=0.16, which is not installed.\n",
            "  tensorflow 2.15.0 requires numpy<2.0.0,>=1.23.5, but you have numpy 1.23.4 which is incompatible.\n",
            "  Successfully installed cmake-3.30.0 distro-1.9.0 ninja-1.11.1.1 packaging-24.1 scikit-build-0.18.0 setuptools-70.2.0 tomli-2.0.1 wheel-0.43.0\n",
            "  Installing build dependencies ... \u001b[?25l\u001b[?25hdone\n",
            "  Running command Getting requirements to build wheel\n",
            "  running egg_info\n",
            "  writing llama_cpp_python.egg-info/PKG-INFO\n",
            "  writing dependency_links to llama_cpp_python.egg-info/dependency_links.txt\n",
            "  writing requirements to llama_cpp_python.egg-info/requires.txt\n",
            "  writing top-level names to llama_cpp_python.egg-info/top_level.txt\n",
            "  reading manifest file 'llama_cpp_python.egg-info/SOURCES.txt'\n",
            "  adding license file 'LICENSE.md'\n",
            "  writing manifest file 'llama_cpp_python.egg-info/SOURCES.txt'\n",
            "  Getting requirements to build wheel ... \u001b[?25l\u001b[?25hdone\n",
            "  Running command Preparing metadata (pyproject.toml)\n",
            "  running dist_info\n",
            "  creating /tmp/pip-modern-metadata-gj3nxs65/llama_cpp_python.egg-info\n",
            "  writing /tmp/pip-modern-metadata-gj3nxs65/llama_cpp_python.egg-info/PKG-INFO\n",
            "  writing dependency_links to /tmp/pip-modern-metadata-gj3nxs65/llama_cpp_python.egg-info/dependency_links.txt\n",
            "  writing requirements to /tmp/pip-modern-metadata-gj3nxs65/llama_cpp_python.egg-info/requires.txt\n",
            "  writing top-level names to /tmp/pip-modern-metadata-gj3nxs65/llama_cpp_python.egg-info/top_level.txt\n",
            "  writing manifest file '/tmp/pip-modern-metadata-gj3nxs65/llama_cpp_python.egg-info/SOURCES.txt'\n",
            "  reading manifest file '/tmp/pip-modern-metadata-gj3nxs65/llama_cpp_python.egg-info/SOURCES.txt'\n",
            "  adding license file 'LICENSE.md'\n",
            "  writing manifest file '/tmp/pip-modern-metadata-gj3nxs65/llama_cpp_python.egg-info/SOURCES.txt'\n",
            "  creating '/tmp/pip-modern-metadata-gj3nxs65/llama_cpp_python-0.1.78.dist-info'\n",
            "  Preparing metadata (pyproject.toml) ... \u001b[?25l\u001b[?25hdone\n",
            "Collecting numpy==1.23.4\n",
            "  Downloading numpy-1.23.4-cp310-cp310-manylinux_2_17_x86_64.manylinux2014_x86_64.whl (17.1 MB)\n",
            "\u001b[2K     \u001b[90m━━━━━━━━━━━━━━━━━━━━━━━━━━━━━━━━━━━━━━━━\u001b[0m \u001b[32m17.1/17.1 MB\u001b[0m \u001b[31m67.7 MB/s\u001b[0m eta \u001b[36m0:00:00\u001b[0m\n",
            "\u001b[?25hCollecting typing-extensions>=4.5.0 (from llama-cpp-python==0.1.78)\n",
            "  Downloading typing_extensions-4.12.2-py3-none-any.whl (37 kB)\n",
            "Collecting diskcache>=5.6.1 (from llama-cpp-python==0.1.78)\n",
            "  Downloading diskcache-5.6.3-py3-none-any.whl (45 kB)\n",
            "\u001b[2K     \u001b[90m━━━━━━━━━━━━━━━━━━━━━━━━━━━━━━━━━━━━━━━━\u001b[0m \u001b[32m45.5/45.5 kB\u001b[0m \u001b[31m162.9 MB/s\u001b[0m eta \u001b[36m0:00:00\u001b[0m\n",
            "\u001b[?25hBuilding wheels for collected packages: llama-cpp-python\n",
            "  Running command Building wheel for llama-cpp-python (pyproject.toml)\n",
            "\n",
            "\n",
            "  --------------------------------------------------------------------------------\n",
            "  -- Trying 'Ninja' generator\n",
            "  --------------------------------\n",
            "  ---------------------------\n",
            "  ----------------------\n",
            "  -----------------\n",
            "  ------------\n",
            "  -------\n",
            "  --\n",
            "  Not searching for unused variables given on the command line.\n",
            "  -- The C compiler identification is GNU 11.4.0\n",
            "  -- Detecting C compiler ABI info\n",
            "  -- Detecting C compiler ABI info - done\n",
            "  -- Check for working C compiler: /usr/bin/cc - skipped\n",
            "  -- Detecting C compile features\n",
            "  -- Detecting C compile features - done\n",
            "  -- The CXX compiler identification is GNU 11.4.0\n",
            "  -- Detecting CXX compiler ABI info\n",
            "  -- Detecting CXX compiler ABI info - done\n",
            "  -- Check for working CXX compiler: /usr/bin/c++ - skipped\n",
            "  -- Detecting CXX compile features\n",
            "  -- Detecting CXX compile features - done\n",
            "  -- Configuring done (0.8s)\n",
            "  -- Generating done (0.0s)\n",
            "  -- Build files have been written to: /tmp/pip-install-ator90p9/llama-cpp-python_297c5ac3570d41ac805cfc460f61b5fa/_cmake_test_compile/build\n",
            "  --\n",
            "  -------\n",
            "  ------------\n",
            "  -----------------\n",
            "  ----------------------\n",
            "  ---------------------------\n",
            "  --------------------------------\n",
            "  -- Trying 'Ninja' generator - success\n",
            "  --------------------------------------------------------------------------------\n",
            "\n",
            "  Configuring Project\n",
            "    Working directory:\n",
            "      /tmp/pip-install-ator90p9/llama-cpp-python_297c5ac3570d41ac805cfc460f61b5fa/_skbuild/linux-x86_64-3.10/cmake-build\n",
            "    Command:\n",
            "      /tmp/pip-build-env-xevixhah/overlay/local/lib/python3.10/dist-packages/cmake/data/bin/cmake /tmp/pip-install-ator90p9/llama-cpp-python_297c5ac3570d41ac805cfc460f61b5fa -G Ninja -DCMAKE_MAKE_PROGRAM:FILEPATH=/tmp/pip-build-env-xevixhah/overlay/local/lib/python3.10/dist-packages/ninja/data/bin/ninja --no-warn-unused-cli -DCMAKE_INSTALL_PREFIX:PATH=/tmp/pip-install-ator90p9/llama-cpp-python_297c5ac3570d41ac805cfc460f61b5fa/_skbuild/linux-x86_64-3.10/cmake-install -DPYTHON_VERSION_STRING:STRING=3.10.12 -DSKBUILD:INTERNAL=TRUE -DCMAKE_MODULE_PATH:PATH=/tmp/pip-build-env-xevixhah/overlay/local/lib/python3.10/dist-packages/skbuild/resources/cmake -DPYTHON_EXECUTABLE:PATH=/usr/bin/python3 -DPYTHON_INCLUDE_DIR:PATH=/usr/include/python3.10 -DPYTHON_LIBRARY:PATH=/usr/lib/x86_64-linux-gnu/libpython3.10.so -DPython_EXECUTABLE:PATH=/usr/bin/python3 -DPython_ROOT_DIR:PATH=/usr -DPython_FIND_REGISTRY:STRING=NEVER -DPython_INCLUDE_DIR:PATH=/usr/include/python3.10 -DPython3_EXECUTABLE:PATH=/usr/bin/python3 -DPython3_ROOT_DIR:PATH=/usr -DPython3_FIND_REGISTRY:STRING=NEVER -DPython3_INCLUDE_DIR:PATH=/usr/include/python3.10 -DCMAKE_MAKE_PROGRAM:FILEPATH=/tmp/pip-build-env-xevixhah/overlay/local/lib/python3.10/dist-packages/ninja/data/bin/ninja -DLLAMA_CUBLAS=on -DCMAKE_BUILD_TYPE:STRING=Release -DLLAMA_CUBLAS=on\n",
            "\n",
            "  Not searching for unused variables given on the command line.\n",
            "  -- The C compiler identification is GNU 11.4.0\n",
            "  -- The CXX compiler identification is GNU 11.4.0\n",
            "  -- Detecting C compiler ABI info\n",
            "  -- Detecting C compiler ABI info - done\n",
            "  -- Check for working C compiler: /usr/bin/cc - skipped\n",
            "  -- Detecting C compile features\n",
            "  -- Detecting C compile features - done\n",
            "  -- Detecting CXX compiler ABI info\n",
            "  -- Detecting CXX compiler ABI info - done\n",
            "  -- Check for working CXX compiler: /usr/bin/c++ - skipped\n",
            "  -- Detecting CXX compile features\n",
            "  -- Detecting CXX compile features - done\n",
            "  -- Found Git: /usr/bin/git (found version \"2.34.1\")\n",
            "  fatal: not a git repository (or any of the parent directories): .git\n",
            "  fatal: not a git repository (or any of the parent directories): .git\n",
            "  CMake Warning at vendor/llama.cpp/CMakeLists.txt:117 (message):\n",
            "    Git repository not found; to enable automatic generation of build info,\n",
            "    make sure Git is installed and the project is a Git repository.\n",
            "\n",
            "\n",
            "  -- Performing Test CMAKE_HAVE_LIBC_PTHREAD\n",
            "  -- Performing Test CMAKE_HAVE_LIBC_PTHREAD - Success\n",
            "  -- Found Threads: TRUE\n",
            "  -- Found CUDAToolkit: /usr/local/cuda/targets/x86_64-linux/include (found version \"12.2.140\")\n",
            "  -- cuBLAS found\n",
            "  -- The CUDA compiler identification is NVIDIA 12.2.140\n",
            "  -- Detecting CUDA compiler ABI info\n",
            "  -- Detecting CUDA compiler ABI info - done\n",
            "  -- Check for working CUDA compiler: /usr/local/cuda/bin/nvcc - skipped\n",
            "  -- Detecting CUDA compile features\n",
            "  -- Detecting CUDA compile features - done\n",
            "  -- Using CUDA architectures: 52;61;70\n",
            "  -- CMAKE_SYSTEM_PROCESSOR: x86_64\n",
            "  -- x86 detected\n",
            "  -- Configuring done (5.1s)\n",
            "  -- Generating done (0.1s)\n",
            "  -- Build files have been written to: /tmp/pip-install-ator90p9/llama-cpp-python_297c5ac3570d41ac805cfc460f61b5fa/_skbuild/linux-x86_64-3.10/cmake-build\n",
            "  [1/9] Building C object vendor/llama.cpp/CMakeFiles/ggml.dir/ggml-alloc.c.o\n",
            "  [2/9] Building C object vendor/llama.cpp/CMakeFiles/ggml.dir/k_quants.c.o\n",
            "  [3/9] Building C object vendor/llama.cpp/CMakeFiles/ggml.dir/ggml.c.o\n",
            "  [4/9] Building CXX object vendor/llama.cpp/CMakeFiles/llama.dir/llama.cpp.o\n",
            "  [5/9] Building CUDA object vendor/llama.cpp/CMakeFiles/ggml.dir/ggml-cuda.cu.o\n",
            "  [6/9] Linking CUDA static library vendor/llama.cpp/libggml_static.a\n",
            "  [7/9] Linking CUDA shared library vendor/llama.cpp/libggml_shared.so\n",
            "  [8/9] Linking CXX shared library vendor/llama.cpp/libllama.so\n",
            "  [8/9] Install the project...\n",
            "  -- Install configuration: \"Release\"\n",
            "  -- Installing: /tmp/pip-install-ator90p9/llama-cpp-python_297c5ac3570d41ac805cfc460f61b5fa/_skbuild/linux-x86_64-3.10/cmake-install/lib/libggml_shared.so\n",
            "  -- Installing: /tmp/pip-install-ator90p9/llama-cpp-python_297c5ac3570d41ac805cfc460f61b5fa/_skbuild/linux-x86_64-3.10/cmake-install/lib/libllama.so\n",
            "  -- Set non-toolchain portion of runtime path of \"/tmp/pip-install-ator90p9/llama-cpp-python_297c5ac3570d41ac805cfc460f61b5fa/_skbuild/linux-x86_64-3.10/cmake-install/lib/libllama.so\" to \"\"\n",
            "  -- Installing: /tmp/pip-install-ator90p9/llama-cpp-python_297c5ac3570d41ac805cfc460f61b5fa/_skbuild/linux-x86_64-3.10/cmake-install/bin/convert.py\n",
            "  -- Installing: /tmp/pip-install-ator90p9/llama-cpp-python_297c5ac3570d41ac805cfc460f61b5fa/_skbuild/linux-x86_64-3.10/cmake-install/bin/convert-lora-to-ggml.py\n",
            "  -- Installing: /tmp/pip-install-ator90p9/llama-cpp-python_297c5ac3570d41ac805cfc460f61b5fa/_skbuild/linux-x86_64-3.10/cmake-install/llama_cpp/libllama.so\n",
            "  -- Set non-toolchain portion of runtime path of \"/tmp/pip-install-ator90p9/llama-cpp-python_297c5ac3570d41ac805cfc460f61b5fa/_skbuild/linux-x86_64-3.10/cmake-install/llama_cpp/libllama.so\" to \"\"\n",
            "\n",
            "  copying llama_cpp/llama_grammar.py -> _skbuild/linux-x86_64-3.10/cmake-install/llama_cpp/llama_grammar.py\n",
            "  copying llama_cpp/utils.py -> _skbuild/linux-x86_64-3.10/cmake-install/llama_cpp/utils.py\n",
            "  copying llama_cpp/llama.py -> _skbuild/linux-x86_64-3.10/cmake-install/llama_cpp/llama.py\n",
            "  copying llama_cpp/llama_cpp.py -> _skbuild/linux-x86_64-3.10/cmake-install/llama_cpp/llama_cpp.py\n",
            "  copying llama_cpp/llama_types.py -> _skbuild/linux-x86_64-3.10/cmake-install/llama_cpp/llama_types.py\n",
            "  copying llama_cpp/__init__.py -> _skbuild/linux-x86_64-3.10/cmake-install/llama_cpp/__init__.py\n",
            "  creating directory _skbuild/linux-x86_64-3.10/cmake-install/llama_cpp/server\n",
            "  copying llama_cpp/server/app.py -> _skbuild/linux-x86_64-3.10/cmake-install/llama_cpp/server/app.py\n",
            "  copying llama_cpp/server/__main__.py -> _skbuild/linux-x86_64-3.10/cmake-install/llama_cpp/server/__main__.py\n",
            "  copying llama_cpp/server/__init__.py -> _skbuild/linux-x86_64-3.10/cmake-install/llama_cpp/server/__init__.py\n",
            "  copying /tmp/pip-install-ator90p9/llama-cpp-python_297c5ac3570d41ac805cfc460f61b5fa/llama_cpp/py.typed -> _skbuild/linux-x86_64-3.10/cmake-install/llama_cpp/py.typed\n",
            "\n",
            "  running bdist_wheel\n",
            "  running build\n",
            "  running build_py\n",
            "  creating _skbuild/linux-x86_64-3.10/setuptools/lib.linux-x86_64-cpython-310\n",
            "  creating _skbuild/linux-x86_64-3.10/setuptools/lib.linux-x86_64-cpython-310/llama_cpp\n",
            "  copying _skbuild/linux-x86_64-3.10/cmake-install/llama_cpp/llama_grammar.py -> _skbuild/linux-x86_64-3.10/setuptools/lib.linux-x86_64-cpython-310/llama_cpp\n",
            "  copying _skbuild/linux-x86_64-3.10/cmake-install/llama_cpp/utils.py -> _skbuild/linux-x86_64-3.10/setuptools/lib.linux-x86_64-cpython-310/llama_cpp\n",
            "  copying _skbuild/linux-x86_64-3.10/cmake-install/llama_cpp/llama.py -> _skbuild/linux-x86_64-3.10/setuptools/lib.linux-x86_64-cpython-310/llama_cpp\n",
            "  copying _skbuild/linux-x86_64-3.10/cmake-install/llama_cpp/llama_cpp.py -> _skbuild/linux-x86_64-3.10/setuptools/lib.linux-x86_64-cpython-310/llama_cpp\n",
            "  copying _skbuild/linux-x86_64-3.10/cmake-install/llama_cpp/llama_types.py -> _skbuild/linux-x86_64-3.10/setuptools/lib.linux-x86_64-cpython-310/llama_cpp\n",
            "  copying _skbuild/linux-x86_64-3.10/cmake-install/llama_cpp/__init__.py -> _skbuild/linux-x86_64-3.10/setuptools/lib.linux-x86_64-cpython-310/llama_cpp\n",
            "  creating _skbuild/linux-x86_64-3.10/setuptools/lib.linux-x86_64-cpython-310/llama_cpp/server\n",
            "  copying _skbuild/linux-x86_64-3.10/cmake-install/llama_cpp/server/app.py -> _skbuild/linux-x86_64-3.10/setuptools/lib.linux-x86_64-cpython-310/llama_cpp/server\n",
            "  copying _skbuild/linux-x86_64-3.10/cmake-install/llama_cpp/server/__main__.py -> _skbuild/linux-x86_64-3.10/setuptools/lib.linux-x86_64-cpython-310/llama_cpp/server\n",
            "  copying _skbuild/linux-x86_64-3.10/cmake-install/llama_cpp/server/__init__.py -> _skbuild/linux-x86_64-3.10/setuptools/lib.linux-x86_64-cpython-310/llama_cpp/server\n",
            "  copying _skbuild/linux-x86_64-3.10/cmake-install/llama_cpp/py.typed -> _skbuild/linux-x86_64-3.10/setuptools/lib.linux-x86_64-cpython-310/llama_cpp\n",
            "  copying _skbuild/linux-x86_64-3.10/cmake-install/llama_cpp/libllama.so -> _skbuild/linux-x86_64-3.10/setuptools/lib.linux-x86_64-cpython-310/llama_cpp\n",
            "  copying _skbuild/linux-x86_64-3.10/cmake-install/llama_cpp/llama_grammar.py -> _skbuild/linux-x86_64-3.10/setuptools/lib.linux-x86_64-cpython-310/llama_cpp\n",
            "  copying _skbuild/linux-x86_64-3.10/cmake-install/llama_cpp/utils.py -> _skbuild/linux-x86_64-3.10/setuptools/lib.linux-x86_64-cpython-310/llama_cpp\n",
            "  copying _skbuild/linux-x86_64-3.10/cmake-install/llama_cpp/llama.py -> _skbuild/linux-x86_64-3.10/setuptools/lib.linux-x86_64-cpython-310/llama_cpp\n",
            "  copying _skbuild/linux-x86_64-3.10/cmake-install/llama_cpp/llama_cpp.py -> _skbuild/linux-x86_64-3.10/setuptools/lib.linux-x86_64-cpython-310/llama_cpp\n",
            "  copying _skbuild/linux-x86_64-3.10/cmake-install/llama_cpp/llama_types.py -> _skbuild/linux-x86_64-3.10/setuptools/lib.linux-x86_64-cpython-310/llama_cpp\n",
            "  copying _skbuild/linux-x86_64-3.10/cmake-install/llama_cpp/__init__.py -> _skbuild/linux-x86_64-3.10/setuptools/lib.linux-x86_64-cpython-310/llama_cpp\n",
            "  copying _skbuild/linux-x86_64-3.10/cmake-install/llama_cpp/server/app.py -> _skbuild/linux-x86_64-3.10/setuptools/lib.linux-x86_64-cpython-310/llama_cpp/server\n",
            "  copying _skbuild/linux-x86_64-3.10/cmake-install/llama_cpp/server/__main__.py -> _skbuild/linux-x86_64-3.10/setuptools/lib.linux-x86_64-cpython-310/llama_cpp/server\n",
            "  copying _skbuild/linux-x86_64-3.10/cmake-install/llama_cpp/server/__init__.py -> _skbuild/linux-x86_64-3.10/setuptools/lib.linux-x86_64-cpython-310/llama_cpp/server\n",
            "  copied 9 files\n",
            "  running build_ext\n",
            "  installing to _skbuild/linux-x86_64-3.10/setuptools/bdist.linux-x86_64/wheel\n",
            "  running install\n",
            "  running install_lib\n",
            "  creating _skbuild/linux-x86_64-3.10/setuptools/bdist.linux-x86_64\n",
            "  creating _skbuild/linux-x86_64-3.10/setuptools/bdist.linux-x86_64/wheel\n",
            "  creating _skbuild/linux-x86_64-3.10/setuptools/bdist.linux-x86_64/wheel/llama_cpp\n",
            "  copying _skbuild/linux-x86_64-3.10/setuptools/lib.linux-x86_64-cpython-310/llama_cpp/llama_grammar.py -> _skbuild/linux-x86_64-3.10/setuptools/bdist.linux-x86_64/wheel/llama_cpp\n",
            "  copying _skbuild/linux-x86_64-3.10/setuptools/lib.linux-x86_64-cpython-310/llama_cpp/libllama.so -> _skbuild/linux-x86_64-3.10/setuptools/bdist.linux-x86_64/wheel/llama_cpp\n",
            "  copying _skbuild/linux-x86_64-3.10/setuptools/lib.linux-x86_64-cpython-310/llama_cpp/utils.py -> _skbuild/linux-x86_64-3.10/setuptools/bdist.linux-x86_64/wheel/llama_cpp\n",
            "  copying _skbuild/linux-x86_64-3.10/setuptools/lib.linux-x86_64-cpython-310/llama_cpp/llama.py -> _skbuild/linux-x86_64-3.10/setuptools/bdist.linux-x86_64/wheel/llama_cpp\n",
            "  copying _skbuild/linux-x86_64-3.10/setuptools/lib.linux-x86_64-cpython-310/llama_cpp/llama_cpp.py -> _skbuild/linux-x86_64-3.10/setuptools/bdist.linux-x86_64/wheel/llama_cpp\n",
            "  creating _skbuild/linux-x86_64-3.10/setuptools/bdist.linux-x86_64/wheel/llama_cpp/server\n",
            "  copying _skbuild/linux-x86_64-3.10/setuptools/lib.linux-x86_64-cpython-310/llama_cpp/server/app.py -> _skbuild/linux-x86_64-3.10/setuptools/bdist.linux-x86_64/wheel/llama_cpp/server\n",
            "  copying _skbuild/linux-x86_64-3.10/setuptools/lib.linux-x86_64-cpython-310/llama_cpp/server/__main__.py -> _skbuild/linux-x86_64-3.10/setuptools/bdist.linux-x86_64/wheel/llama_cpp/server\n",
            "  copying _skbuild/linux-x86_64-3.10/setuptools/lib.linux-x86_64-cpython-310/llama_cpp/server/__init__.py -> _skbuild/linux-x86_64-3.10/setuptools/bdist.linux-x86_64/wheel/llama_cpp/server\n",
            "  copying _skbuild/linux-x86_64-3.10/setuptools/lib.linux-x86_64-cpython-310/llama_cpp/llama_types.py -> _skbuild/linux-x86_64-3.10/setuptools/bdist.linux-x86_64/wheel/llama_cpp\n",
            "  copying _skbuild/linux-x86_64-3.10/setuptools/lib.linux-x86_64-cpython-310/llama_cpp/py.typed -> _skbuild/linux-x86_64-3.10/setuptools/bdist.linux-x86_64/wheel/llama_cpp\n",
            "  copying _skbuild/linux-x86_64-3.10/setuptools/lib.linux-x86_64-cpython-310/llama_cpp/__init__.py -> _skbuild/linux-x86_64-3.10/setuptools/bdist.linux-x86_64/wheel/llama_cpp\n",
            "  copied 11 files\n",
            "  running install_data\n",
            "  creating _skbuild/linux-x86_64-3.10/setuptools/bdist.linux-x86_64/wheel/llama_cpp_python-0.1.78.data\n",
            "  creating _skbuild/linux-x86_64-3.10/setuptools/bdist.linux-x86_64/wheel/llama_cpp_python-0.1.78.data/data\n",
            "  creating _skbuild/linux-x86_64-3.10/setuptools/bdist.linux-x86_64/wheel/llama_cpp_python-0.1.78.data/data/lib\n",
            "  copying _skbuild/linux-x86_64-3.10/cmake-install/lib/libggml_shared.so -> _skbuild/linux-x86_64-3.10/setuptools/bdist.linux-x86_64/wheel/llama_cpp_python-0.1.78.data/data/lib\n",
            "  copying _skbuild/linux-x86_64-3.10/cmake-install/lib/libllama.so -> _skbuild/linux-x86_64-3.10/setuptools/bdist.linux-x86_64/wheel/llama_cpp_python-0.1.78.data/data/lib\n",
            "  creating _skbuild/linux-x86_64-3.10/setuptools/bdist.linux-x86_64/wheel/llama_cpp_python-0.1.78.data/data/bin\n",
            "  copying _skbuild/linux-x86_64-3.10/cmake-install/bin/convert-lora-to-ggml.py -> _skbuild/linux-x86_64-3.10/setuptools/bdist.linux-x86_64/wheel/llama_cpp_python-0.1.78.data/data/bin\n",
            "  copying _skbuild/linux-x86_64-3.10/cmake-install/bin/convert.py -> _skbuild/linux-x86_64-3.10/setuptools/bdist.linux-x86_64/wheel/llama_cpp_python-0.1.78.data/data/bin\n",
            "  running install_egg_info\n",
            "  running egg_info\n",
            "  writing llama_cpp_python.egg-info/PKG-INFO\n",
            "  writing dependency_links to llama_cpp_python.egg-info/dependency_links.txt\n",
            "  writing requirements to llama_cpp_python.egg-info/requires.txt\n",
            "  writing top-level names to llama_cpp_python.egg-info/top_level.txt\n",
            "  reading manifest file 'llama_cpp_python.egg-info/SOURCES.txt'\n",
            "  adding license file 'LICENSE.md'\n",
            "  writing manifest file 'llama_cpp_python.egg-info/SOURCES.txt'\n",
            "  Copying llama_cpp_python.egg-info to _skbuild/linux-x86_64-3.10/setuptools/bdist.linux-x86_64/wheel/llama_cpp_python-0.1.78-py3.10.egg-info\n",
            "  running install_scripts\n",
            "  copied 0 files\n",
            "  creating _skbuild/linux-x86_64-3.10/setuptools/bdist.linux-x86_64/wheel/llama_cpp_python-0.1.78.dist-info/WHEEL\n",
            "  creating '/tmp/pip-wheel-egtar3wc/.tmp-1qm3qdam/llama_cpp_python-0.1.78-cp310-cp310-linux_x86_64.whl' and adding '_skbuild/linux-x86_64-3.10/setuptools/bdist.linux-x86_64/wheel' to it\n",
            "  adding 'llama_cpp/__init__.py'\n",
            "  adding 'llama_cpp/libllama.so'\n",
            "  adding 'llama_cpp/llama.py'\n",
            "  adding 'llama_cpp/llama_cpp.py'\n",
            "  adding 'llama_cpp/llama_grammar.py'\n",
            "  adding 'llama_cpp/llama_types.py'\n",
            "  adding 'llama_cpp/py.typed'\n",
            "  adding 'llama_cpp/utils.py'\n",
            "  adding 'llama_cpp/server/__init__.py'\n",
            "  adding 'llama_cpp/server/__main__.py'\n",
            "  adding 'llama_cpp/server/app.py'\n",
            "  adding 'llama_cpp_python-0.1.78.data/data/bin/convert-lora-to-ggml.py'\n",
            "  adding 'llama_cpp_python-0.1.78.data/data/bin/convert.py'\n",
            "  adding 'llama_cpp_python-0.1.78.data/data/lib/libggml_shared.so'\n",
            "  adding 'llama_cpp_python-0.1.78.data/data/lib/libllama.so'\n",
            "  adding 'llama_cpp_python-0.1.78.dist-info/LICENSE.md'\n",
            "  adding 'llama_cpp_python-0.1.78.dist-info/METADATA'\n",
            "  adding 'llama_cpp_python-0.1.78.dist-info/WHEEL'\n",
            "  adding 'llama_cpp_python-0.1.78.dist-info/top_level.txt'\n",
            "  adding 'llama_cpp_python-0.1.78.dist-info/RECORD'\n",
            "  removing _skbuild/linux-x86_64-3.10/setuptools/bdist.linux-x86_64/wheel\n",
            "  Building wheel for llama-cpp-python (pyproject.toml) ... \u001b[?25l\u001b[?25hdone\n",
            "  Created wheel for llama-cpp-python: filename=llama_cpp_python-0.1.78-cp310-cp310-linux_x86_64.whl size=5811128 sha256=68157d2d39966c2530154699025bc9e726009ab431ce0bfb3c35db8f5f9acf66\n",
            "  Stored in directory: /tmp/pip-ephem-wheel-cache-s6583i4n/wheels/61/f9/20/9ca660a9d3f2a47e44217059409478865948b5c8a1cba70030\n",
            "Successfully built llama-cpp-python\n",
            "Installing collected packages: typing-extensions, numpy, diskcache, llama-cpp-python\n",
            "  Attempting uninstall: typing-extensions\n",
            "    Found existing installation: typing_extensions 4.12.2\n",
            "    Uninstalling typing_extensions-4.12.2:\n",
            "      Removing file or directory /usr/local/lib/python3.10/dist-packages/__pycache__/typing_extensions.cpython-310.pyc\n",
            "      Removing file or directory /usr/local/lib/python3.10/dist-packages/typing_extensions-4.12.2.dist-info/\n",
            "      Removing file or directory /usr/local/lib/python3.10/dist-packages/typing_extensions.py\n",
            "      Successfully uninstalled typing_extensions-4.12.2\n",
            "  Attempting uninstall: numpy\n",
            "    Found existing installation: numpy 1.23.4\n",
            "    Uninstalling numpy-1.23.4:\n",
            "      Removing file or directory /usr/local/bin/f2py\n",
            "      Removing file or directory /usr/local/bin/f2py3\n",
            "      Removing file or directory /usr/local/bin/f2py3.10\n",
            "      Removing file or directory /usr/local/lib/python3.10/dist-packages/numpy-1.23.4.dist-info/\n",
            "      Removing file or directory /usr/local/lib/python3.10/dist-packages/numpy.libs/\n",
            "      Removing file or directory /usr/local/lib/python3.10/dist-packages/numpy/\n",
            "      Successfully uninstalled numpy-1.23.4\n",
            "  changing mode of /usr/local/bin/f2py to 755\n",
            "  changing mode of /usr/local/bin/f2py3 to 755\n",
            "  changing mode of /usr/local/bin/f2py3.10 to 755\n",
            "  Attempting uninstall: diskcache\n",
            "    Found existing installation: diskcache 5.6.3\n",
            "    Uninstalling diskcache-5.6.3:\n",
            "      Removing file or directory /usr/local/lib/python3.10/dist-packages/diskcache-5.6.3.dist-info/\n",
            "      Removing file or directory /usr/local/lib/python3.10/dist-packages/diskcache/\n",
            "      Successfully uninstalled diskcache-5.6.3\n",
            "  Attempting uninstall: llama-cpp-python\n",
            "    Found existing installation: llama_cpp_python 0.1.78\n",
            "    Uninstalling llama_cpp_python-0.1.78:\n",
            "      Removing file or directory /usr/local/bin/__pycache__/convert-lora-to-ggml.cpython-310.pyc\n",
            "      Removing file or directory /usr/local/bin/__pycache__/convert.cpython-310.pyc\n",
            "      Removing file or directory /usr/local/bin/convert-lora-to-ggml.py\n",
            "      Removing file or directory /usr/local/bin/convert.py\n",
            "      Removing file or directory /usr/local/lib/libggml_shared.so\n",
            "      Removing file or directory /usr/local/lib/libllama.so\n",
            "      Removing file or directory /usr/local/lib/python3.10/dist-packages/llama_cpp/\n",
            "      Removing file or directory /usr/local/lib/python3.10/dist-packages/llama_cpp_python-0.1.78.dist-info/\n",
            "      Successfully uninstalled llama_cpp_python-0.1.78\n",
            "\u001b[31mERROR: pip's dependency resolver does not currently take into account all the packages that are installed. This behaviour is the source of the following dependency conflicts.\n",
            "torch 2.3.0+cu121 requires nvidia-cublas-cu12==12.1.3.1; platform_system == \"Linux\" and platform_machine == \"x86_64\", which is not installed.\n",
            "torch 2.3.0+cu121 requires nvidia-cuda-cupti-cu12==12.1.105; platform_system == \"Linux\" and platform_machine == \"x86_64\", which is not installed.\n",
            "torch 2.3.0+cu121 requires nvidia-cuda-nvrtc-cu12==12.1.105; platform_system == \"Linux\" and platform_machine == \"x86_64\", which is not installed.\n",
            "torch 2.3.0+cu121 requires nvidia-cuda-runtime-cu12==12.1.105; platform_system == \"Linux\" and platform_machine == \"x86_64\", which is not installed.\n",
            "torch 2.3.0+cu121 requires nvidia-cudnn-cu12==8.9.2.26; platform_system == \"Linux\" and platform_machine == \"x86_64\", which is not installed.\n",
            "torch 2.3.0+cu121 requires nvidia-cufft-cu12==11.0.2.54; platform_system == \"Linux\" and platform_machine == \"x86_64\", which is not installed.\n",
            "torch 2.3.0+cu121 requires nvidia-curand-cu12==10.3.2.106; platform_system == \"Linux\" and platform_machine == \"x86_64\", which is not installed.\n",
            "torch 2.3.0+cu121 requires nvidia-cusolver-cu12==11.4.5.107; platform_system == \"Linux\" and platform_machine == \"x86_64\", which is not installed.\n",
            "torch 2.3.0+cu121 requires nvidia-cusparse-cu12==12.1.0.106; platform_system == \"Linux\" and platform_machine == \"x86_64\", which is not installed.\n",
            "torch 2.3.0+cu121 requires nvidia-nccl-cu12==2.20.5; platform_system == \"Linux\" and platform_machine == \"x86_64\", which is not installed.\n",
            "torch 2.3.0+cu121 requires nvidia-nvtx-cu12==12.1.105; platform_system == \"Linux\" and platform_machine == \"x86_64\", which is not installed.\n",
            "chex 0.1.86 requires numpy>=1.24.1, but you have numpy 1.23.4 which is incompatible.\n",
            "pandas-stubs 2.0.3.230814 requires numpy>=1.25.0; python_version >= \"3.9\", but you have numpy 1.23.4 which is incompatible.\n",
            "tensorflow 2.15.0 requires numpy<2.0.0,>=1.23.5, but you have numpy 1.23.4 which is incompatible.\u001b[0m\u001b[31m\n",
            "\u001b[0mSuccessfully installed diskcache-5.6.3 llama-cpp-python-0.1.78 numpy-1.23.4 typing-extensions-4.12.2\n",
            "Requirement already satisfied: huggingface_hub in /usr/local/lib/python3.10/dist-packages (0.23.4)\n",
            "Requirement already satisfied: filelock in /usr/local/lib/python3.10/dist-packages (from huggingface_hub) (3.15.4)\n",
            "Requirement already satisfied: fsspec>=2023.5.0 in /usr/local/lib/python3.10/dist-packages (from huggingface_hub) (2023.6.0)\n",
            "Requirement already satisfied: packaging>=20.9 in /usr/local/lib/python3.10/dist-packages (from huggingface_hub) (24.1)\n",
            "Requirement already satisfied: pyyaml>=5.1 in /usr/local/lib/python3.10/dist-packages (from huggingface_hub) (6.0.1)\n",
            "Requirement already satisfied: requests in /usr/local/lib/python3.10/dist-packages (from huggingface_hub) (2.31.0)\n",
            "Requirement already satisfied: tqdm>=4.42.1 in /usr/local/lib/python3.10/dist-packages (from huggingface_hub) (4.66.4)\n",
            "Requirement already satisfied: typing-extensions>=3.7.4.3 in /usr/local/lib/python3.10/dist-packages (from huggingface_hub) (4.12.2)\n",
            "Requirement already satisfied: charset-normalizer<4,>=2 in /usr/local/lib/python3.10/dist-packages (from requests->huggingface_hub) (3.3.2)\n",
            "Requirement already satisfied: idna<4,>=2.5 in /usr/local/lib/python3.10/dist-packages (from requests->huggingface_hub) (3.7)\n",
            "Requirement already satisfied: urllib3<3,>=1.21.1 in /usr/local/lib/python3.10/dist-packages (from requests->huggingface_hub) (2.0.7)\n",
            "Requirement already satisfied: certifi>=2017.4.17 in /usr/local/lib/python3.10/dist-packages (from requests->huggingface_hub) (2024.6.2)\n",
            "Requirement already satisfied: llama-cpp-python==0.1.78 in /usr/local/lib/python3.10/dist-packages (0.1.78)\n",
            "Requirement already satisfied: typing-extensions>=4.5.0 in /usr/local/lib/python3.10/dist-packages (from llama-cpp-python==0.1.78) (4.12.2)\n",
            "Requirement already satisfied: numpy>=1.20.0 in /usr/local/lib/python3.10/dist-packages (from llama-cpp-python==0.1.78) (1.23.4)\n",
            "Requirement already satisfied: diskcache>=5.6.1 in /usr/local/lib/python3.10/dist-packages (from llama-cpp-python==0.1.78) (5.6.3)\n",
            "Requirement already satisfied: numpy==1.23.4 in /usr/local/lib/python3.10/dist-packages (1.23.4)\n"
          ]
        }
      ],
      "source": [
        "!CMAKE_ARGS=\"-DLLAMA_CUBLAS=on\" FORCE_CMAKE=1 pip install llama-cpp-python==0.1.78 numpy==1.23.4 --force-reinstall --upgrade --no-cache-dir --verbose\n",
        "!pip install huggingface_hub\n",
        "!pip install llama-cpp-python==0.1.78\n",
        "!pip install numpy==1.23.4"
      ]
    },
    {
      "cell_type": "code",
      "source": [
        "model_name_or_path = \"TheBloke/Llama-2-13B-chat-GGML\"\n",
        "model_basename = \"llama-2-13b-chat.ggmlv3.q5_1.bin\""
      ],
      "metadata": {
        "id": "N_vy42pqdcVV"
      },
      "execution_count": 8,
      "outputs": []
    },
    {
      "cell_type": "code",
      "source": [
        "from huggingface_hub import hf_hub_download\n",
        "from llama_cpp import Llama\n",
        "import matplotlib.pyplot as plt"
      ],
      "metadata": {
        "id": "qvTgXraAlBHe"
      },
      "execution_count": 9,
      "outputs": []
    },
    {
      "cell_type": "code",
      "source": [
        "model_path = hf_hub_download(repo_id=model_name_or_path, filename=model_basename)"
      ],
      "metadata": {
        "id": "VI4g2cvtlEmy",
        "colab": {
          "base_uri": "https://localhost:8080/",
          "referenced_widgets": [
            "5cf0cec5379742b8bb5b263dfb956d6a",
            "a1352c633e104a5783ab6f8f94497ca3",
            "813ca530bb3e4ac1a3876e27459a24ac",
            "a6ad66644e6843a1abd652413064e2c3",
            "d2e41ca9d13b4208b16e62c190820a3c",
            "a8b7963208c6417f9ad3d7634d3d49fd",
            "0951688bee3e475ba9e81fd30adaaa33",
            "f581bb995c9a4007a7bad29c039a4002",
            "d3b5eb98877047dfa16cb991ed252e86",
            "e5b79f6e5b184fa294358e4287974101",
            "bd078389bb5d466f9502d867ded228d5"
          ],
          "height": 176
        },
        "outputId": "df95d1e5-e8f0-41be-f58a-17d53d39e6c3"
      },
      "execution_count": 10,
      "outputs": [
        {
          "output_type": "stream",
          "name": "stderr",
          "text": [
            "/usr/local/lib/python3.10/dist-packages/huggingface_hub/utils/_token.py:89: UserWarning: \n",
            "The secret `HF_TOKEN` does not exist in your Colab secrets.\n",
            "To authenticate with the Hugging Face Hub, create a token in your settings tab (https://huggingface.co/settings/tokens), set it as secret in your Google Colab and restart your session.\n",
            "You will be able to reuse this secret in all of your notebooks.\n",
            "Please note that authentication is recommended but still optional to access public models or datasets.\n",
            "  warnings.warn(\n"
          ]
        },
        {
          "output_type": "display_data",
          "data": {
            "text/plain": [
              "llama-2-13b-chat.ggmlv3.q5_1.bin:   0%|          | 0.00/9.76G [00:00<?, ?B/s]"
            ],
            "application/vnd.jupyter.widget-view+json": {
              "version_major": 2,
              "version_minor": 0,
              "model_id": "5cf0cec5379742b8bb5b263dfb956d6a"
            }
          },
          "metadata": {}
        }
      ]
    },
    {
      "cell_type": "code",
      "source": [
        "# GPU\n",
        "lcpp_llm = None\n",
        "lcpp_llm = Llama(\n",
        "    model_path=model_path,\n",
        "    n_threads=2, # CPU cores\n",
        "    n_batch=512, # Should be between 1 and n_ctx, consider the amount of VRAM in your GPU.\n",
        "    n_gpu_layers=32 # Change this value based on your model and your GPU VRAM pool.\n",
        "    )"
      ],
      "metadata": {
        "id": "JBKdKYX4mclG",
        "colab": {
          "base_uri": "https://localhost:8080/"
        },
        "outputId": "c3d0540b-419c-4518-e032-a01d5f76ebee"
      },
      "execution_count": 11,
      "outputs": [
        {
          "output_type": "stream",
          "name": "stderr",
          "text": [
            "AVX = 1 | AVX2 = 1 | AVX512 = 0 | AVX512_VBMI = 0 | AVX512_VNNI = 0 | FMA = 1 | NEON = 0 | ARM_FMA = 0 | F16C = 1 | FP16_VA = 0 | WASM_SIMD = 0 | BLAS = 1 | SSE3 = 1 | VSX = 0 | \n"
          ]
        }
      ]
    },
    {
      "cell_type": "code",
      "source": [
        "lcpp_llm.params.n_gpu_layers"
      ],
      "metadata": {
        "id": "XwOKn14tm6N1",
        "colab": {
          "base_uri": "https://localhost:8080/"
        },
        "outputId": "797093d7-5081-4644-ae62-c5295664fad3"
      },
      "execution_count": 12,
      "outputs": [
        {
          "output_type": "execute_result",
          "data": {
            "text/plain": [
              "32"
            ]
          },
          "metadata": {},
          "execution_count": 12
        }
      ]
    },
    {
      "cell_type": "markdown",
      "source": [
        "### Initialisation using LLM"
      ],
      "metadata": {
        "id": "oERE5I7bNyRZ"
      }
    },
    {
      "cell_type": "code",
      "source": [
        "method =' Quasi-Random Sequence'\n",
        "prompt = f\"generate 20 numbers between -10 to 10 by using {method}, only 2 decimal places, \"\n",
        "prompt_template = f'''SYSTEM: You are a helpful, respectful, and honest assistant. Always answer as helpfully.\n",
        "\n",
        "USER: {prompt}\n",
        "\n",
        "ASSISTANT:\n",
        "'''"
      ],
      "metadata": {
        "id": "d1iJ6vDgyyQc"
      },
      "execution_count": 15,
      "outputs": []
    },
    {
      "cell_type": "code",
      "source": [
        "response=lcpp_llm(prompt=prompt_template, max_tokens=256, temperature=0.5, top_p=0.95,\n",
        "                  repeat_penalty=1.2, top_k=150,\n",
        "                  echo=True)"
      ],
      "metadata": {
        "id": "kAEc1WZ2nEfB",
        "colab": {
          "base_uri": "https://localhost:8080/"
        },
        "outputId": "f103966e-2217-4121-f790-4d759958eeb2"
      },
      "execution_count": 16,
      "outputs": [
        {
          "output_type": "stream",
          "name": "stderr",
          "text": [
            "Llama.generate: prefix-match hit\n"
          ]
        }
      ]
    },
    {
      "cell_type": "code",
      "source": [
        "print(response)"
      ],
      "metadata": {
        "id": "-tscz6l65VKs",
        "colab": {
          "base_uri": "https://localhost:8080/"
        },
        "outputId": "2f0f93a4-12a7-4334-fb41-b4facad2b938"
      },
      "execution_count": 17,
      "outputs": [
        {
          "output_type": "stream",
          "name": "stdout",
          "text": [
            "{'id': 'cmpl-5e34f821-4dca-4b5e-a693-3694c71a53d9', 'object': 'text_completion', 'created': 1720416165, 'model': '/root/.cache/huggingface/hub/models--TheBloke--Llama-2-13B-chat-GGML/snapshots/3140827b4dfcb6b562cd87ee3d7f07109b014dd0/llama-2-13b-chat.ggmlv3.q5_1.bin', 'choices': [{'text': 'SYSTEM: You are a helpful, respectful, and honest assistant. Always answer as helpfully.\\n\\nUSER: generate 20 numbers between -10 to 10 by using  Quasi-Random Sequence, only 2 decimal places, \\n\\nASSISTANT:\\n\\nSure! Here are 20 quasi-random numbers between -10 and 10 with two decimal places:\\n\\n1. -8.47\\n2. -5.63\\n3. -2.92\\n4. -1.74\\n5. -0.98\\n6. -0.49\\n7. -0.27\\n8. 0.15\\n9. 0.42\\n10. 0.76\\n11. 1.13\\n12. 1.52\\n13. 2.01\\n14. 2.53\\n15. 3.11\\n16. 3.72\\n17. 4.48\\n18. 5.39\\n19. 6.46\\n20. 7.70\\n\\nI hope these numbers meet your needs! Let me know if you have any other questions or requests.', 'index': 0, 'logprobs': None, 'finish_reason': 'stop'}], 'usage': {'prompt_tokens': 64, 'completion_tokens': 220, 'total_tokens': 284}}\n"
          ]
        }
      ]
    },
    {
      "cell_type": "code",
      "source": [
        "import re\n",
        "\n",
        "text_response = response['choices'][0]['text']\n",
        "\n",
        "# Use a regular expression to find all numbers in the response\n",
        "numbers = re.findall(r'-?\\d+\\.\\d+', text_response)\n",
        "\n",
        "# Convert the numbers to floats\n",
        "numbers = [float(num) for num in numbers]\n",
        "\n",
        "Quasi_Random_Sequence_Initialisation = numbers\n",
        "print(Quasi_Random_Sequence_Initialisation)"
      ],
      "metadata": {
        "id": "vrYDUpgVnJ75",
        "colab": {
          "base_uri": "https://localhost:8080/"
        },
        "outputId": "9874d1de-8685-484d-b950-e8f755a04f16"
      },
      "execution_count": 18,
      "outputs": [
        {
          "output_type": "stream",
          "name": "stdout",
          "text": [
            "[-8.47, -5.63, -2.92, -1.74, -0.98, -0.49, -0.27, 0.15, 0.42, 0.76, 1.13, 1.52, 2.01, 2.53, 3.11, 3.72, 4.48, 5.39, 6.46, 7.7]\n"
          ]
        }
      ]
    },
    {
      "cell_type": "markdown",
      "source": [
        "## Normalised Glorot Initialization"
      ],
      "metadata": {
        "id": "UREs2TNnZdCq"
      }
    },
    {
      "cell_type": "markdown",
      "source": [
        "###PSO Parameters"
      ],
      "metadata": {
        "id": "M4Mu7IQcZdCz"
      }
    },
    {
      "cell_type": "code",
      "source": [
        "!pip install pyswarms\n",
        "import numpy as np\n",
        "import pyswarms as ps\n",
        "# from pso.cost_functions import sphere"
      ],
      "metadata": {
        "colab": {
          "base_uri": "https://localhost:8080/"
        },
        "outputId": "a6c79284-0fcb-494e-84f6-39050371d5dc",
        "id": "HzgqdMreZdCz"
      },
      "execution_count": 19,
      "outputs": [
        {
          "output_type": "stream",
          "name": "stdout",
          "text": [
            "Collecting pyswarms\n",
            "  Downloading pyswarms-1.3.0-py2.py3-none-any.whl (104 kB)\n",
            "\u001b[?25l     \u001b[90m━━━━━━━━━━━━━━━━━━━━━━━━━━━━━━━━━━━━━━━━\u001b[0m \u001b[32m0.0/104.1 kB\u001b[0m \u001b[31m?\u001b[0m eta \u001b[36m-:--:--\u001b[0m\r\u001b[2K     \u001b[90m━━━━━━━━━━━━━━━━━━━━━━━━━━━━━━━━━━━━━━━━\u001b[0m \u001b[32m104.1/104.1 kB\u001b[0m \u001b[31m2.9 MB/s\u001b[0m eta \u001b[36m0:00:00\u001b[0m\n",
            "\u001b[?25hRequirement already satisfied: scipy in /usr/local/lib/python3.10/dist-packages (from pyswarms) (1.11.4)\n",
            "Requirement already satisfied: numpy in /usr/local/lib/python3.10/dist-packages (from pyswarms) (1.23.4)\n",
            "Requirement already satisfied: matplotlib>=1.3.1 in /usr/local/lib/python3.10/dist-packages (from pyswarms) (3.7.1)\n",
            "Requirement already satisfied: attrs in /usr/local/lib/python3.10/dist-packages (from pyswarms) (23.2.0)\n",
            "Requirement already satisfied: tqdm in /usr/local/lib/python3.10/dist-packages (from pyswarms) (4.66.4)\n",
            "Requirement already satisfied: future in /usr/local/lib/python3.10/dist-packages (from pyswarms) (0.18.3)\n",
            "Requirement already satisfied: pyyaml in /usr/local/lib/python3.10/dist-packages (from pyswarms) (6.0.1)\n",
            "Requirement already satisfied: contourpy>=1.0.1 in /usr/local/lib/python3.10/dist-packages (from matplotlib>=1.3.1->pyswarms) (1.2.1)\n",
            "Requirement already satisfied: cycler>=0.10 in /usr/local/lib/python3.10/dist-packages (from matplotlib>=1.3.1->pyswarms) (0.12.1)\n",
            "Requirement already satisfied: fonttools>=4.22.0 in /usr/local/lib/python3.10/dist-packages (from matplotlib>=1.3.1->pyswarms) (4.53.0)\n",
            "Requirement already satisfied: kiwisolver>=1.0.1 in /usr/local/lib/python3.10/dist-packages (from matplotlib>=1.3.1->pyswarms) (1.4.5)\n",
            "Requirement already satisfied: packaging>=20.0 in /usr/local/lib/python3.10/dist-packages (from matplotlib>=1.3.1->pyswarms) (24.1)\n",
            "Requirement already satisfied: pillow>=6.2.0 in /usr/local/lib/python3.10/dist-packages (from matplotlib>=1.3.1->pyswarms) (9.4.0)\n",
            "Requirement already satisfied: pyparsing>=2.3.1 in /usr/local/lib/python3.10/dist-packages (from matplotlib>=1.3.1->pyswarms) (3.1.2)\n",
            "Requirement already satisfied: python-dateutil>=2.7 in /usr/local/lib/python3.10/dist-packages (from matplotlib>=1.3.1->pyswarms) (2.8.2)\n",
            "Requirement already satisfied: six>=1.5 in /usr/local/lib/python3.10/dist-packages (from python-dateutil>=2.7->matplotlib>=1.3.1->pyswarms) (1.16.0)\n",
            "Installing collected packages: pyswarms\n",
            "Successfully installed pyswarms-1.3.0\n"
          ]
        }
      ]
    },
    {
      "cell_type": "code",
      "source": [
        "# initial_position = np.array(numbers)\n",
        "\n",
        "# def objective_function(x):\n",
        "#     return np.sum(x**2)\n",
        "\n",
        "# bounds = (np.array([-10]), np.array([10]))\n",
        "\n",
        "# options = {'c1': 0.5, 'c2': 0.3, 'w': 0.9}\n",
        "\n",
        "# optimizer = ps.single.GlobalBestPSO(n_particles=len(numbers), dimensions=1, options=options, bounds=bounds, init_pos=initial_position.reshape(-1, 1))\n",
        "\n",
        "# best_cost, best_pos = optimizer.optimize(objective_function, iters=100)\n",
        "\n",
        "# print('Best position:', best_pos)\n",
        "# print('Best objective:', best_cost)\n"
      ],
      "metadata": {
        "id": "wQ7WGQcZZdCz"
      },
      "execution_count": 20,
      "outputs": []
    },
    {
      "cell_type": "code",
      "source": [
        "def sphere(x):\n",
        "    return sum(x**2)"
      ],
      "metadata": {
        "id": "w46JgfM7ZdCz"
      },
      "execution_count": 21,
      "outputs": []
    },
    {
      "cell_type": "code",
      "source": [
        "CostFunction = sphere  #\n",
        "nVar = 10  # Number of Decision Variables\n",
        "VarSize = (nVar,)  # Size of Decision Variables Matrix\n",
        "VarMin = -10  # Lower Bound of Variables\n",
        "VarMax = 10  # Upper Bound of Variables"
      ],
      "metadata": {
        "id": "i07DgetmZdC0"
      },
      "execution_count": 22,
      "outputs": []
    },
    {
      "cell_type": "code",
      "source": [
        "MaxIt = 20  # Maximum Number of Iterations\n",
        "nPop = np.size(numbers)  # Population Size (Swarm Size)\n",
        "print(nPop)"
      ],
      "metadata": {
        "colab": {
          "base_uri": "https://localhost:8080/"
        },
        "outputId": "56c5a29a-c846-45cc-f1b2-b23f2c272547",
        "id": "oUj3yUm8ZdC0"
      },
      "execution_count": 23,
      "outputs": [
        {
          "output_type": "stream",
          "name": "stdout",
          "text": [
            "20\n"
          ]
        }
      ]
    },
    {
      "cell_type": "code",
      "source": [
        "w = 1  # Inertia Weight\n",
        "wdamp = 0.99  # Inertia Weight Damping Ratio\n",
        "c1 = 1.5  # Personal Learning Coefficient\n",
        "c2 = 2.0  # Global Learning Coefficient"
      ],
      "metadata": {
        "id": "yL7luzyMZdC0"
      },
      "execution_count": 24,
      "outputs": []
    },
    {
      "cell_type": "code",
      "source": [
        "# Velocity Limits                        HOWW. ASK BHAIYA ABOUT THIS\n",
        "VelMax = 0.1 * (VarMax - VarMin)\n",
        "VelMin = -VelMax"
      ],
      "metadata": {
        "id": "jEAAnlEMZdC0"
      },
      "execution_count": 25,
      "outputs": []
    },
    {
      "cell_type": "code",
      "source": [
        "particles = []\n",
        "\n",
        "for i in range(nPop):\n",
        "    position = np.array([Quasi_Random_Sequence_Initialisation[i]] * nVar)\n",
        "    velocity = np.zeros(VarSize)\n",
        "    cost = CostFunction(position)\n",
        "    best_position = position.copy()\n",
        "    best_cost = cost\n",
        "    particles.append({\n",
        "        'Position': position,\n",
        "        'Velocity': velocity,\n",
        "        'Cost': cost,\n",
        "        'Best': {\n",
        "            'Position': best_position,\n",
        "            'Cost': best_cost\n",
        "        }\n",
        "    })\n",
        "print(np.size(particles))"
      ],
      "metadata": {
        "colab": {
          "base_uri": "https://localhost:8080/"
        },
        "outputId": "1c40f4ca-da67-4b07-d434-a77a8166d30e",
        "id": "uG4_jeERZdC0"
      },
      "execution_count": 26,
      "outputs": [
        {
          "output_type": "stream",
          "name": "stdout",
          "text": [
            "20\n"
          ]
        }
      ]
    },
    {
      "cell_type": "code",
      "source": [
        "GlobalBest = {'Position': None, 'Cost': np.inf}\n",
        "\n",
        "for p in particles:\n",
        "    if p['Cost'] < GlobalBest['Cost']:\n",
        "        GlobalBest = {'Position': p['Best']['Position'].copy(), 'Cost': p['Best']['Cost']}\n",
        "\n",
        "BestCost = np.zeros(MaxIt)"
      ],
      "metadata": {
        "id": "pC0Ahl6-ZdC0"
      },
      "execution_count": 27,
      "outputs": []
    },
    {
      "cell_type": "markdown",
      "source": [
        "### Weight W using LLM"
      ],
      "metadata": {
        "id": "rEOl4LpQZdC0"
      }
    },
    {
      "cell_type": "code",
      "source": [
        "w_values = []\n",
        "g_values = []\n",
        "\n",
        "for it in range(MaxIt):\n",
        "    for p in particles:\n",
        "        # Update Velocity\n",
        "        r1 = np.random.rand(*VarSize)\n",
        "        r2 = np.random.rand(*VarSize)\n",
        "        p['Velocity'] = (\n",
        "            w * p['Velocity']\n",
        "            + c1 * r1 * (p['Best']['Position'] - p['Position'])\n",
        "            + c2 * r2 * (GlobalBest['Position'] - p['Position'])\n",
        "        )\n",
        "\n",
        "        # Apply Velocity Limits\n",
        "        p['Velocity'] = np.maximum(p['Velocity'], VelMin)\n",
        "        p['Velocity'] = np.minimum(p['Velocity'], VelMax)\n",
        "\n",
        "        # Update Position\n",
        "        p['Position'] += p['Velocity']\n",
        "\n",
        "        # Velocity Mirror Effect\n",
        "        IsOutside = (p['Position'] < VarMin) | (p['Position'] > VarMax)\n",
        "        p['Velocity'][IsOutside] = -p['Velocity'][IsOutside]\n",
        "\n",
        "        # Apply Position Limits\n",
        "        p['Position'] = np.maximum(p['Position'], VarMin)\n",
        "        p['Position'] = np.minimum(p['Position'], VarMax)\n",
        "\n",
        "        # Evaluation\n",
        "        p['Cost'] = CostFunction(p['Position'])\n",
        "\n",
        "        # Update Personal Best\n",
        "        if p['Cost'] < p['Best']['Cost']:\n",
        "            p['Best']['Position'] = p['Position'].copy()\n",
        "            p['Best']['Cost'] = p['Cost']\n",
        "\n",
        "            # Update Global Best\n",
        "            if p['Best']['Cost'] < GlobalBest['Cost']:  # tell best cost using roullete wheel. LLM will check for global best\n",
        "                GlobalBest = {'Position': p['Best']['Position'].copy(), 'Cost': p['Best']['Cost']} # tell best cost using roullete wheel\n",
        "\n",
        "    BestCost[it] = GlobalBest['Cost']\n",
        "\n",
        "    print(f\"Iteration {it+1}: Best Cost = {BestCost[it]}\")\n",
        "\n",
        "    prompt = f\"generate one positive number that is smaller than {w} using Normalised Glorot Initialisation. Don't write anything else, just write that number in decimal notation normally.\"\n",
        "    w_finder_template = f'''SYSTEM: You are a helpful, respectful, and honest assistant. Always answer as helpfully.\n",
        "\n",
        "    USER: {prompt}\n",
        "\n",
        "    ASSISTANT:\n",
        "    '''\n",
        "\n",
        "    w_response = lcpp_llm(prompt=w_finder_template, max_tokens=256, temperature=0.5, top_p=0.95,\n",
        "                          repeat_penalty=1.2, top_k=150,\n",
        "                          echo=True)\n",
        "\n",
        "    g_values.append(GlobalBest['Cost'])\n",
        "    BestCost[it] = GlobalBest['Cost']\n",
        "\n",
        "    text_response = w_response['choices'][0]['text']\n",
        "    value = re.findall(r'-?\\d+\\.\\d+', text_response)\n",
        "    value = [float(num) for num in value]\n",
        "\n",
        "    value = value[np.size(value) - 1]\n",
        "    print(f'w{it+1} = {value}')\n",
        "    w_values.append(w)\n",
        "    w = value\n",
        "\n",
        "w_values.append(w)\n",
        "print(w_values)"
      ],
      "metadata": {
        "colab": {
          "base_uri": "https://localhost:8080/"
        },
        "outputId": "982ce70f-b7ce-4f73-a81d-d82b394129a2",
        "id": "XKRg9aMsZdC0"
      },
      "execution_count": 28,
      "outputs": [
        {
          "output_type": "stream",
          "name": "stdout",
          "text": [
            "Iteration 1: Best Cost = 0.22499999999999995\n"
          ]
        },
        {
          "output_type": "stream",
          "name": "stderr",
          "text": [
            "Llama.generate: prefix-match hit\n"
          ]
        },
        {
          "output_type": "stream",
          "name": "stdout",
          "text": [
            "w1 = 0.25\n",
            "Iteration 2: Best Cost = 0.09810795139627493\n"
          ]
        },
        {
          "output_type": "stream",
          "name": "stderr",
          "text": [
            "Llama.generate: prefix-match hit\n"
          ]
        },
        {
          "output_type": "stream",
          "name": "stdout",
          "text": [
            "w2 = 0.13\n",
            "Iteration 3: Best Cost = 0.08376057910795266\n"
          ]
        },
        {
          "output_type": "stream",
          "name": "stderr",
          "text": [
            "Llama.generate: prefix-match hit\n"
          ]
        },
        {
          "output_type": "stream",
          "name": "stdout",
          "text": [
            "w3 = 0.08\n",
            "Iteration 4: Best Cost = 0.08288748150594472\n"
          ]
        },
        {
          "output_type": "stream",
          "name": "stderr",
          "text": [
            "Llama.generate: prefix-match hit\n"
          ]
        },
        {
          "output_type": "stream",
          "name": "stdout",
          "text": [
            "w4 = 0.065\n",
            "Iteration 5: Best Cost = 0.0794958325554964\n"
          ]
        },
        {
          "output_type": "stream",
          "name": "stderr",
          "text": [
            "Llama.generate: prefix-match hit\n"
          ]
        },
        {
          "output_type": "stream",
          "name": "stdout",
          "text": [
            "w5 = 0.047\n",
            "Iteration 6: Best Cost = 0.0794958325554964\n"
          ]
        },
        {
          "output_type": "stream",
          "name": "stderr",
          "text": [
            "Llama.generate: prefix-match hit\n"
          ]
        },
        {
          "output_type": "stream",
          "name": "stdout",
          "text": [
            "w6 = 0.013\n",
            "Iteration 7: Best Cost = 0.05647756936714182\n"
          ]
        },
        {
          "output_type": "stream",
          "name": "stderr",
          "text": [
            "Llama.generate: prefix-match hit\n"
          ]
        },
        {
          "output_type": "stream",
          "name": "stdout",
          "text": [
            "w7 = 0.007\n",
            "Iteration 8: Best Cost = 0.01717378736112647\n"
          ]
        },
        {
          "output_type": "stream",
          "name": "stderr",
          "text": [
            "Llama.generate: prefix-match hit\n"
          ]
        },
        {
          "output_type": "stream",
          "name": "stdout",
          "text": [
            "w8 = 0.0069245381\n",
            "Iteration 9: Best Cost = 0.015063859889947054\n"
          ]
        },
        {
          "output_type": "stream",
          "name": "stderr",
          "text": [
            "Llama.generate: prefix-match hit\n"
          ]
        },
        {
          "output_type": "stream",
          "name": "stdout",
          "text": [
            "w9 = 0.0067340625\n",
            "Iteration 10: Best Cost = 0.012880192716405028\n"
          ]
        },
        {
          "output_type": "stream",
          "name": "stderr",
          "text": [
            "Llama.generate: prefix-match hit\n"
          ]
        },
        {
          "output_type": "stream",
          "name": "stdout",
          "text": [
            "w10 = 0.0067198572\n",
            "Iteration 11: Best Cost = 0.005028653160480521\n"
          ]
        },
        {
          "output_type": "stream",
          "name": "stderr",
          "text": [
            "Llama.generate: prefix-match hit\n"
          ]
        },
        {
          "output_type": "stream",
          "name": "stdout",
          "text": [
            "w11 = 0.0063412949\n",
            "Iteration 12: Best Cost = 0.0028137935090528383\n"
          ]
        },
        {
          "output_type": "stream",
          "name": "stderr",
          "text": [
            "Llama.generate: prefix-match hit\n"
          ]
        },
        {
          "output_type": "stream",
          "name": "stdout",
          "text": [
            "w12 = 0.0057836329\n",
            "Iteration 13: Best Cost = 0.0027980794544486117\n"
          ]
        },
        {
          "output_type": "stream",
          "name": "stderr",
          "text": [
            "Llama.generate: prefix-match hit\n"
          ]
        },
        {
          "output_type": "stream",
          "name": "stdout",
          "text": [
            "w13 = 0.0045123456\n",
            "Iteration 14: Best Cost = 0.0012864720116673768\n"
          ]
        },
        {
          "output_type": "stream",
          "name": "stderr",
          "text": [
            "Llama.generate: prefix-match hit\n"
          ]
        },
        {
          "output_type": "stream",
          "name": "stdout",
          "text": [
            "w14 = 0.0044879345\n",
            "Iteration 15: Best Cost = 0.0009383082503053399\n"
          ]
        },
        {
          "output_type": "stream",
          "name": "stderr",
          "text": [
            "Llama.generate: prefix-match hit\n"
          ]
        },
        {
          "output_type": "stream",
          "name": "stdout",
          "text": [
            "w15 = 0.0021697579\n",
            "Iteration 16: Best Cost = 0.0008908868609649391\n"
          ]
        },
        {
          "output_type": "stream",
          "name": "stderr",
          "text": [
            "Llama.generate: prefix-match hit\n"
          ]
        },
        {
          "output_type": "stream",
          "name": "stdout",
          "text": [
            "w16 = 0.002143814\n",
            "Iteration 17: Best Cost = 0.0005674393111880318\n"
          ]
        },
        {
          "output_type": "stream",
          "name": "stderr",
          "text": [
            "Llama.generate: prefix-match hit\n"
          ]
        },
        {
          "output_type": "stream",
          "name": "stdout",
          "text": [
            "w17 = 0.002129576\n",
            "Iteration 18: Best Cost = 0.0005313409945839894\n"
          ]
        },
        {
          "output_type": "stream",
          "name": "stderr",
          "text": [
            "Llama.generate: prefix-match hit\n"
          ]
        },
        {
          "output_type": "stream",
          "name": "stdout",
          "text": [
            "w18 = 0.00212843\n",
            "Iteration 19: Best Cost = 0.00044007769767332686\n"
          ]
        },
        {
          "output_type": "stream",
          "name": "stderr",
          "text": [
            "Llama.generate: prefix-match hit\n"
          ]
        },
        {
          "output_type": "stream",
          "name": "stdout",
          "text": [
            "w19 = 0.00212796\n",
            "Iteration 20: Best Cost = 0.00040289315784671983\n"
          ]
        },
        {
          "output_type": "stream",
          "name": "stderr",
          "text": [
            "Llama.generate: prefix-match hit\n"
          ]
        },
        {
          "output_type": "stream",
          "name": "stdout",
          "text": [
            "w20 = 0.00212795\n",
            "[1, 0.25, 0.13, 0.08, 0.065, 0.047, 0.013, 0.007, 0.0069245381, 0.0067340625, 0.0067198572, 0.0063412949, 0.0057836329, 0.0045123456, 0.0044879345, 0.0021697579, 0.002143814, 0.002129576, 0.00212843, 0.00212796, 0.00212795]\n"
          ]
        }
      ]
    },
    {
      "cell_type": "code",
      "source": [
        "print(w_values)"
      ],
      "metadata": {
        "colab": {
          "base_uri": "https://localhost:8080/"
        },
        "outputId": "f1804fa8-7455-41ae-e791-787c096b97eb",
        "id": "_UWrQ34cZdC1"
      },
      "execution_count": 29,
      "outputs": [
        {
          "output_type": "stream",
          "name": "stdout",
          "text": [
            "[1, 0.25, 0.13, 0.08, 0.065, 0.047, 0.013, 0.007, 0.0069245381, 0.0067340625, 0.0067198572, 0.0063412949, 0.0057836329, 0.0045123456, 0.0044879345, 0.0021697579, 0.002143814, 0.002129576, 0.00212843, 0.00212796, 0.00212795]\n"
          ]
        }
      ]
    },
    {
      "cell_type": "code",
      "source": [
        "Normalised_Glorot_weights = w_values\n",
        "plt.plot(Normalised_Glorot_weights)\n",
        "plt.xlabel(\"Iteration\")\n",
        "plt.ylabel(\"Normalised Glorot w\")\n",
        "plt.title(\"Values of Normalised Glorot w over Iterations\")\n",
        "plt.show()"
      ],
      "metadata": {
        "colab": {
          "base_uri": "https://localhost:8080/",
          "height": 472
        },
        "outputId": "3ca6d835-aa66-420c-f1a3-179830a50047",
        "id": "qbHzFgA3ZdC1"
      },
      "execution_count": 30,
      "outputs": [
        {
          "output_type": "display_data",
          "data": {
            "text/plain": [
              "<Figure size 640x480 with 1 Axes>"
            ],
            "image/png": "[encoded data removed]"
          },
          "metadata": {}
        }
      ]
    },
    {
      "cell_type": "code",
      "source": [
        "print(g_values)\n",
        "\n",
        "plt.plot(g_values)\n",
        "plt.xlabel(\"Iteration\")\n",
        "plt.ylabel(\"Ng_values\")\n",
        "plt.title(\"Values of G over Iterations\")\n",
        "plt.show()"
      ],
      "metadata": {
        "colab": {
          "base_uri": "https://localhost:8080/",
          "height": 510
        },
        "id": "aPE8PayAx0Rj",
        "outputId": "740097c1-ed2f-4fed-d1a7-4daf93824810"
      },
      "execution_count": 33,
      "outputs": [
        {
          "output_type": "stream",
          "name": "stdout",
          "text": [
            "[0.22499999999999995, 0.09810795139627493, 0.08376057910795266, 0.08288748150594472, 0.0794958325554964, 0.0794958325554964, 0.05647756936714182, 0.01717378736112647, 0.015063859889947054, 0.012880192716405028, 0.005028653160480521, 0.0028137935090528383, 0.0027980794544486117, 0.0012864720116673768, 0.0009383082503053399, 0.0008908868609649391, 0.0005674393111880318, 0.0005313409945839894, 0.00044007769767332686, 0.00040289315784671983]\n"
          ]
        },
        {
          "output_type": "display_data",
          "data": {
            "text/plain": [
              "<Figure size 640x480 with 1 Axes>"
            ],
            "image/png": "[encoded data removed]"
          },
          "metadata": {}
        }
      ]
    },
    {
      "cell_type": "code",
      "source": [],
      "metadata": {
        "id": "5It5Ir43x7T1"
      },
      "execution_count": 31,
      "outputs": []
    },
    {
      "cell_type": "markdown",
      "source": [
        "## Normalised Glorot Initialization + Roulette Wheel Selection"
      ],
      "metadata": {
        "id": "9APtR0eO09u4"
      }
    },
    {
      "cell_type": "markdown",
      "source": [
        "###PSO Parameters"
      ],
      "metadata": {
        "id": "cCT6psRO09u5"
      }
    },
    {
      "cell_type": "code",
      "source": [
        "!pip install pyswarms\n",
        "import numpy as np\n",
        "import pyswarms as ps\n",
        "# from pso.cost_functions import sphere"
      ],
      "metadata": {
        "colab": {
          "base_uri": "https://localhost:8080/"
        },
        "outputId": "7fd1682a-277b-4e7d-cf5a-0bf113940b6b",
        "id": "5cIzzh-G09u5"
      },
      "execution_count": 34,
      "outputs": [
        {
          "output_type": "stream",
          "name": "stdout",
          "text": [
            "Requirement already satisfied: pyswarms in /usr/local/lib/python3.10/dist-packages (1.3.0)\n",
            "Requirement already satisfied: scipy in /usr/local/lib/python3.10/dist-packages (from pyswarms) (1.11.4)\n",
            "Requirement already satisfied: numpy in /usr/local/lib/python3.10/dist-packages (from pyswarms) (1.23.4)\n",
            "Requirement already satisfied: matplotlib>=1.3.1 in /usr/local/lib/python3.10/dist-packages (from pyswarms) (3.7.1)\n",
            "Requirement already satisfied: attrs in /usr/local/lib/python3.10/dist-packages (from pyswarms) (23.2.0)\n",
            "Requirement already satisfied: tqdm in /usr/local/lib/python3.10/dist-packages (from pyswarms) (4.66.4)\n",
            "Requirement already satisfied: future in /usr/local/lib/python3.10/dist-packages (from pyswarms) (0.18.3)\n",
            "Requirement already satisfied: pyyaml in /usr/local/lib/python3.10/dist-packages (from pyswarms) (6.0.1)\n",
            "Requirement already satisfied: contourpy>=1.0.1 in /usr/local/lib/python3.10/dist-packages (from matplotlib>=1.3.1->pyswarms) (1.2.1)\n",
            "Requirement already satisfied: cycler>=0.10 in /usr/local/lib/python3.10/dist-packages (from matplotlib>=1.3.1->pyswarms) (0.12.1)\n",
            "Requirement already satisfied: fonttools>=4.22.0 in /usr/local/lib/python3.10/dist-packages (from matplotlib>=1.3.1->pyswarms) (4.53.0)\n",
            "Requirement already satisfied: kiwisolver>=1.0.1 in /usr/local/lib/python3.10/dist-packages (from matplotlib>=1.3.1->pyswarms) (1.4.5)\n",
            "Requirement already satisfied: packaging>=20.0 in /usr/local/lib/python3.10/dist-packages (from matplotlib>=1.3.1->pyswarms) (24.1)\n",
            "Requirement already satisfied: pillow>=6.2.0 in /usr/local/lib/python3.10/dist-packages (from matplotlib>=1.3.1->pyswarms) (9.4.0)\n",
            "Requirement already satisfied: pyparsing>=2.3.1 in /usr/local/lib/python3.10/dist-packages (from matplotlib>=1.3.1->pyswarms) (3.1.2)\n",
            "Requirement already satisfied: python-dateutil>=2.7 in /usr/local/lib/python3.10/dist-packages (from matplotlib>=1.3.1->pyswarms) (2.8.2)\n",
            "Requirement already satisfied: six>=1.5 in /usr/local/lib/python3.10/dist-packages (from python-dateutil>=2.7->matplotlib>=1.3.1->pyswarms) (1.16.0)\n"
          ]
        }
      ]
    },
    {
      "cell_type": "code",
      "source": [
        "# initial_position = np.array(numbers)\n",
        "\n",
        "# def objective_function(x):\n",
        "#     return np.sum(x**2)\n",
        "\n",
        "# bounds = (np.array([-10]), np.array([10]))\n",
        "\n",
        "# options = {'c1': 0.5, 'c2': 0.3, 'w': 0.9}\n",
        "\n",
        "# optimizer = ps.single.GlobalBestPSO(n_particles=len(numbers), dimensions=1, options=options, bounds=bounds, init_pos=initial_position.reshape(-1, 1))\n",
        "\n",
        "# best_cost, best_pos = optimizer.optimize(objective_function, iters=100)\n",
        "\n",
        "# print('Best position:', best_pos)\n",
        "# print('Best objective:', best_cost)\n"
      ],
      "metadata": {
        "id": "JG2akeDT09u5"
      },
      "execution_count": 35,
      "outputs": []
    },
    {
      "cell_type": "code",
      "source": [
        "def sphere(x):\n",
        "    return sum(x**2)"
      ],
      "metadata": {
        "id": "u60CZwfj09vD"
      },
      "execution_count": 36,
      "outputs": []
    },
    {
      "cell_type": "code",
      "source": [
        "CostFunction = sphere  #\n",
        "nVar = 10  # Number of Decision Variables\n",
        "VarSize = (nVar,)  # Size of Decision Variables Matrix\n",
        "VarMin = -10  # Lower Bound of Variables\n",
        "VarMax = 10  # Upper Bound of Variables"
      ],
      "metadata": {
        "id": "jhHnv4pZ09vD"
      },
      "execution_count": 37,
      "outputs": []
    },
    {
      "cell_type": "code",
      "source": [
        "MaxIt = 20  # Maximum Number of Iterations\n",
        "nPop = np.size(numbers)  # Population Size (Swarm Size)\n",
        "print(nPop)"
      ],
      "metadata": {
        "colab": {
          "base_uri": "https://localhost:8080/"
        },
        "outputId": "605512d8-54d6-4e9a-f8d0-ebc52ffb243b",
        "id": "D5ZDvMQ709vD"
      },
      "execution_count": 38,
      "outputs": [
        {
          "output_type": "stream",
          "name": "stdout",
          "text": [
            "20\n"
          ]
        }
      ]
    },
    {
      "cell_type": "code",
      "source": [
        "w = 1  # Inertia Weight\n",
        "wdamp = 0.99  # Inertia Weight Damping Ratio\n",
        "c1 = 1.5  # Personal Learning Coefficient\n",
        "c2 = 2.0  # Global Learning Coefficient"
      ],
      "metadata": {
        "id": "uqQYvuVK09vD"
      },
      "execution_count": 39,
      "outputs": []
    },
    {
      "cell_type": "code",
      "source": [
        "# Velocity Limits                        HOWW. ASK BHAIYA ABOUT THIS\n",
        "VelMax = 0.1 * (VarMax - VarMin)\n",
        "VelMin = -VelMax"
      ],
      "metadata": {
        "id": "WKcVIovh09vD"
      },
      "execution_count": 40,
      "outputs": []
    },
    {
      "cell_type": "code",
      "source": [
        "particles = []\n",
        "\n",
        "for i in range(nPop):\n",
        "    position = np.array([Quasi_Random_Sequence_Initialisation[i]] * nVar)\n",
        "    velocity = np.zeros(VarSize)\n",
        "    cost = CostFunction(position)\n",
        "    best_position = position.copy()\n",
        "    best_cost = cost\n",
        "    particles.append({\n",
        "        'Position': position,\n",
        "        'Velocity': velocity,\n",
        "        'Cost': cost,\n",
        "        'Best': {\n",
        "            'Position': best_position,\n",
        "            'Cost': best_cost\n",
        "        }\n",
        "    })\n",
        "print(np.size(particles))"
      ],
      "metadata": {
        "colab": {
          "base_uri": "https://localhost:8080/"
        },
        "outputId": "68ca01ee-6e48-4afb-89ca-b6f7a01755cd",
        "id": "qYZhOopW09vD"
      },
      "execution_count": 41,
      "outputs": [
        {
          "output_type": "stream",
          "name": "stdout",
          "text": [
            "20\n"
          ]
        }
      ]
    },
    {
      "cell_type": "code",
      "source": [
        "GlobalBest = {'Position': None, 'Cost': np.inf}\n",
        "\n",
        "for p in particles:\n",
        "    if p['Cost'] < GlobalBest['Cost']:\n",
        "        GlobalBest = {'Position': p['Best']['Position'].copy(), 'Cost': p['Best']['Cost']}\n",
        "\n",
        "BestCost = np.zeros(MaxIt)"
      ],
      "metadata": {
        "id": "tb35clnx09vD"
      },
      "execution_count": 42,
      "outputs": []
    },
    {
      "cell_type": "markdown",
      "source": [
        "### Weight W using LLM"
      ],
      "metadata": {
        "id": "nguFHIlS09vE"
      }
    },
    {
      "cell_type": "code",
      "source": [
        "w_values = []\n",
        "g_values = []\n",
        "\n",
        "for it in range(MaxIt):\n",
        "    for p in particles:\n",
        "        # Update Velocity\n",
        "        r1 = np.random.rand(*VarSize)\n",
        "        r2 = np.random.rand(*VarSize)\n",
        "        p['Velocity'] = (\n",
        "            w * p['Velocity']\n",
        "            + c1 * r1 * (p['Best']['Position'] - p['Position'])\n",
        "            + c2 * r2 * (GlobalBest['Position'] - p['Position'])\n",
        "        )\n",
        "\n",
        "        # Apply Velocity Limits\n",
        "        p['Velocity'] = np.maximum(p['Velocity'], VelMin)\n",
        "        p['Velocity'] = np.minimum(p['Velocity'], VelMax)\n",
        "\n",
        "        # Update Position\n",
        "        p['Position'] += p['Velocity']\n",
        "\n",
        "        # Velocity Mirror Effect\n",
        "        IsOutside = (p['Position'] < VarMin) | (p['Position'] > VarMax)\n",
        "        p['Velocity'][IsOutside] = -p['Velocity'][IsOutside]\n",
        "\n",
        "        # Apply Position Limits\n",
        "        p['Position'] = np.maximum(p['Position'], VarMin)\n",
        "        p['Position'] = np.minimum(p['Position'], VarMax)\n",
        "\n",
        "        # Evaluation\n",
        "        p['Cost'] = CostFunction(p['Position'])\n",
        "\n",
        "        # Update Personal Best\n",
        "        if p['Cost'] < p['Best']['Cost']:\n",
        "            p['Best']['Position'] = p['Position'].copy()\n",
        "            p['Best']['Cost'] = p['Cost']\n",
        "\n",
        "        print(p['Best']['Cost'])\n",
        "\n",
        "\n",
        "    costs = [p['Best']['Cost'] for p in particles]\n",
        "    costs.append(GlobalBest['Cost'])\n",
        "    min_cost = min(costs)\n",
        "    min_p_best = min([p['Best']['Cost'] for p in particles])\n",
        "\n",
        "    prompt = f\"I am using the Particle Swarm Optimization (PSO) algorithm to minimize the cost function. I have multiple cost values from particles in my swarm, including the current global best cost ({GlobalBest['Cost']}) and various personal best costs from the particles ({min_p_best}). Using the Roulette_wheel, determine which of these values should be the new minimum global best. Don't write anything else, just write that number in decimal notation normally.\"\n",
        "    g_best_finder_template = f'''SYSTEM: You are a helpful, respectful, and honest assistant. Always answer as helpfully.\n",
        "\n",
        "    USER: {prompt}\n",
        "\n",
        "    ASSISTANT:\n",
        "    '''\n",
        "\n",
        "    g_best_response = lcpp_llm(prompt=g_best_finder_template, max_tokens=256, temperature=0.5, top_p=0.95,\n",
        "                              repeat_penalty=1.2, top_k=150,\n",
        "                              echo=True)\n",
        "    print(g_best_response)\n",
        "    g_best_response = g_best_response['choices'][0]['text']\n",
        "    g_best_value = re.findall(r'-?\\d+\\.\\d+', g_best_response)\n",
        "    g_best_value = [float(num) for num in g_best_value]\n",
        "    g_best_value = g_best_value[-1] # take the last value\n",
        "    print(g_best_value)\n",
        "    g_values.append(g_best_value)\n",
        "\n",
        "    if g_best_value < GlobalBest['Cost']:\n",
        "        for p in particles:\n",
        "            if p['Best']['Cost'] == g_best_value:\n",
        "                GlobalBest['Position'] = p['Best']['Position'].copy()\n",
        "                GlobalBest['Cost'] = g_best_value\n",
        "                break\n",
        "\n",
        "    BestCost[it] = GlobalBest['Cost']\n",
        "\n",
        "    print(f\"Iteration {it+1}: Best Cost = {BestCost[it]}\")\n",
        "\n",
        "    prompt = f\"generate one positive number that is smaller than {w} using Normalised Glorot Initialisation. Don't write anything else, just write that number in decimal notation normally.\"\n",
        "    w_finder_template = f'''SYSTEM: You are a helpful, respectful, and honest assistant. Always answer as helpfully.\n",
        "\n",
        "    USER: {prompt}\n",
        "\n",
        "    ASSISTANT:\n",
        "    '''\n",
        "\n",
        "    w_response = lcpp_llm(prompt=w_finder_template, max_tokens=256, temperature=0.5, top_p=0.95,\n",
        "                          repeat_penalty=1.2, top_k=150,\n",
        "                          echo=True)\n",
        "\n",
        "    g_values.append(GlobalBest['Cost'])\n",
        "    BestCost[it] = GlobalBest['Cost']\n",
        "\n",
        "    text_response = w_response['choices'][0]['text']\n",
        "    value = re.findall(r'-?\\d+\\.\\d+', text_response)\n",
        "    value = [float(num) for num in value]\n",
        "\n",
        "    value = value[np.size(value) - 1]\n",
        "    print(f'w{it+1} = {value}')\n",
        "    w_values.append(w)\n",
        "    w = value\n",
        "\n",
        "w_values.append(w)\n",
        "print(g_values)\n",
        "print(w_values)"
      ],
      "metadata": {
        "colab": {
          "base_uri": "https://localhost:8080/"
        },
        "outputId": "c1e1ee73-ed48-4f9c-a03c-efa5d6f359a4",
        "id": "hv32tO-G09vE"
      },
      "execution_count": 43,
      "outputs": [
        {
          "output_type": "stream",
          "name": "stdout",
          "text": [
            "433.81713229401\n",
            "146.32062767364658\n",
            "17.441527168395975\n",
            "6.572406757689307\n",
            "4.010348302236676\n",
            "1.0238237539665875\n",
            "0.5396309317697449\n",
            "0.22499999999999995\n",
            "0.4652600209785952\n",
            "0.9497116271829894\n",
            "4.5653572498359845\n",
            "10.518894512620086\n",
            "11.481723506991923\n",
            "11.098540090111419\n",
            "25.681362617200694\n",
            "43.00420832485044\n",
            "84.53219495412175\n",
            "131.37380982584764\n",
            "216.34106850955044\n",
            "340.5918704955992\n"
          ]
        },
        {
          "output_type": "stream",
          "name": "stderr",
          "text": [
            "Llama.generate: prefix-match hit\n"
          ]
        },
        {
          "output_type": "stream",
          "name": "stdout",
          "text": [
            "{'id': 'cmpl-6af048be-22bd-4df5-8d96-15a8176c0855', 'object': 'text_completion', 'created': 1720417157, 'model': '/root/.cache/huggingface/hub/models--TheBloke--Llama-2-13B-chat-GGML/snapshots/3140827b4dfcb6b562cd87ee3d7f07109b014dd0/llama-2-13b-chat.ggmlv3.q5_1.bin', 'choices': [{'text': \"SYSTEM: You are a helpful, respectful, and honest assistant. Always answer as helpfully.\\n\\n    USER: I am using the Particle Swarm Optimization (PSO) algorithm to minimize the cost function. I have multiple cost values from particles in my swarm, including the current global best cost (0.22499999999999995) and various personal best costs from the particles (0.22499999999999995). Using the Roulette_wheel, determine which of these values should be the new minimum global best. Don't write anything else, just write that number in decimal notation normally.\\n\\n    ASSISTANT:\\n    0.22499999999999995\", 'index': 0, 'logprobs': None, 'finish_reason': 'stop'}], 'usage': {'prompt_tokens': 167, 'completion_tokens': 19, 'total_tokens': 186}}\n",
            "0.22499999999999995\n",
            "Iteration 1: Best Cost = 0.22499999999999995\n"
          ]
        },
        {
          "output_type": "stream",
          "name": "stderr",
          "text": [
            "Llama.generate: prefix-match hit\n"
          ]
        },
        {
          "output_type": "stream",
          "name": "stdout",
          "text": [
            "w1 = 0.432576983\n",
            "215.84528240766\n",
            "35.04914034896647\n",
            "8.62399018525833\n",
            "6.572406757689307\n",
            "4.010348302236676\n",
            "1.0238237539665875\n",
            "0.5396309317697449\n",
            "0.22499999999999995\n",
            "0.15559514927765875\n",
            "0.6227649233631619\n",
            "3.8259522092696368\n",
            "2.6974358798963047\n",
            "5.097792421335597\n",
            "4.693549020382566\n",
            "3.607033668097454\n",
            "4.676180022626572\n",
            "12.523795963732478\n",
            "28.570429834995696\n",
            "72.13677155340181\n",
            "151.02738538721238\n"
          ]
        },
        {
          "output_type": "stream",
          "name": "stderr",
          "text": [
            "Llama.generate: prefix-match hit\n"
          ]
        },
        {
          "output_type": "stream",
          "name": "stdout",
          "text": [
            "{'id': 'cmpl-16b9aa5a-a961-4eb0-947c-1d66bd73d56b', 'object': 'text_completion', 'created': 1720417174, 'model': '/root/.cache/huggingface/hub/models--TheBloke--Llama-2-13B-chat-GGML/snapshots/3140827b4dfcb6b562cd87ee3d7f07109b014dd0/llama-2-13b-chat.ggmlv3.q5_1.bin', 'choices': [{'text': \"SYSTEM: You are a helpful, respectful, and honest assistant. Always answer as helpfully.\\n\\n    USER: I am using the Particle Swarm Optimization (PSO) algorithm to minimize the cost function. I have multiple cost values from particles in my swarm, including the current global best cost (0.22499999999999995) and various personal best costs from the particles (0.15559514927765875). Using the Roulette_wheel, determine which of these values should be the new minimum global best. Don't write anything else, just write that number in decimal notation normally.\\n\\n    ASSISTANT:\\n    0.15559514927765875\", 'index': 0, 'logprobs': None, 'finish_reason': 'stop'}], 'usage': {'prompt_tokens': 167, 'completion_tokens': 19, 'total_tokens': 186}}\n",
            "0.15559514927765875\n",
            "Iteration 2: Best Cost = 0.15559514927765875\n"
          ]
        },
        {
          "output_type": "stream",
          "name": "stderr",
          "text": [
            "Llama.generate: prefix-match hit\n"
          ]
        },
        {
          "output_type": "stream",
          "name": "stdout",
          "text": [
            "w2 = 0.123456789\n",
            "70.6069418960661\n",
            "8.368052380322693\n",
            "3.0170548560394996\n",
            "5.746497206665392\n",
            "3.3476067912463057\n",
            "1.0238237539665875\n",
            "0.5396309317697449\n",
            "0.16474650919565556\n",
            "0.1455716568387742\n",
            "0.3382434537423987\n",
            "1.2401521488364224\n",
            "1.0580931677506267\n",
            "1.2201909325562763\n",
            "3.364422834395971\n",
            "1.6335222314586737\n",
            "2.1799839512844517\n",
            "0.9230068490163634\n",
            "3.9352525804037364\n",
            "14.81063849044126\n",
            "53.874212833437724\n"
          ]
        },
        {
          "output_type": "stream",
          "name": "stderr",
          "text": [
            "Llama.generate: prefix-match hit\n"
          ]
        },
        {
          "output_type": "stream",
          "name": "stdout",
          "text": [
            "{'id': 'cmpl-cd0fc817-3ea1-4505-9131-41cbfcd66fbb', 'object': 'text_completion', 'created': 1720417192, 'model': '/root/.cache/huggingface/hub/models--TheBloke--Llama-2-13B-chat-GGML/snapshots/3140827b4dfcb6b562cd87ee3d7f07109b014dd0/llama-2-13b-chat.ggmlv3.q5_1.bin', 'choices': [{'text': \"SYSTEM: You are a helpful, respectful, and honest assistant. Always answer as helpfully.\\n\\n    USER: I am using the Particle Swarm Optimization (PSO) algorithm to minimize the cost function. I have multiple cost values from particles in my swarm, including the current global best cost (0.15559514927765875) and various personal best costs from the particles (0.1455716568387742). Using the Roulette_wheel, determine which of these values should be the new minimum global best. Don't write anything else, just write that number in decimal notation normally.\\n\\n    ASSISTANT:\\n    0.1455716568387742\", 'index': 0, 'logprobs': None, 'finish_reason': 'stop'}], 'usage': {'prompt_tokens': 166, 'completion_tokens': 18, 'total_tokens': 184}}\n",
            "0.1455716568387742\n",
            "Iteration 3: Best Cost = 0.1455716568387742\n"
          ]
        },
        {
          "output_type": "stream",
          "name": "stderr",
          "text": [
            "Llama.generate: prefix-match hit\n"
          ]
        },
        {
          "output_type": "stream",
          "name": "stdout",
          "text": [
            "w3 = 0.123456788\n",
            "8.766671078474838\n",
            "1.4452154170915974\n",
            "0.7438806684742805\n",
            "3.943445936882929\n",
            "0.9013268278891736\n",
            "1.0238237539665875\n",
            "0.3171149032176097\n",
            "0.1597607626239757\n",
            "0.14476410387675584\n",
            "0.21497034366891432\n",
            "0.4513361634196666\n",
            "0.21209160200606814\n",
            "0.369553263252564\n",
            "0.9426968146703842\n",
            "0.8554469739727484\n",
            "0.5181878658729089\n",
            "0.1658663760505443\n",
            "0.6145686159999119\n",
            "1.2802952849104503\n",
            "16.087550592517164\n"
          ]
        },
        {
          "output_type": "stream",
          "name": "stderr",
          "text": [
            "Llama.generate: prefix-match hit\n"
          ]
        },
        {
          "output_type": "stream",
          "name": "stdout",
          "text": [
            "{'id': 'cmpl-0bd4be03-6954-46ac-ab47-c35597d4854f', 'object': 'text_completion', 'created': 1720417255, 'model': '/root/.cache/huggingface/hub/models--TheBloke--Llama-2-13B-chat-GGML/snapshots/3140827b4dfcb6b562cd87ee3d7f07109b014dd0/llama-2-13b-chat.ggmlv3.q5_1.bin', 'choices': [{'text': \"SYSTEM: You are a helpful, respectful, and honest assistant. Always answer as helpfully.\\n\\n    USER: I am using the Particle Swarm Optimization (PSO) algorithm to minimize the cost function. I have multiple cost values from particles in my swarm, including the current global best cost (0.1455716568387742) and various personal best costs from the particles (0.14476410387675584). Using the Roulette_wheel, determine which of these values should be the new minimum global best. Don't write anything else, just write that number in decimal notation normally.\\n\\n    ASSISTANT:\\n     The new minimum global best cost is 0.14476410387675584.\", 'index': 0, 'logprobs': None, 'finish_reason': 'stop'}], 'usage': {'prompt_tokens': 166, 'completion_tokens': 28, 'total_tokens': 194}}\n",
            "0.14476410387675584\n",
            "Iteration 4: Best Cost = 0.14476410387675584\n"
          ]
        },
        {
          "output_type": "stream",
          "name": "stderr",
          "text": [
            "Llama.generate: prefix-match hit\n"
          ]
        },
        {
          "output_type": "stream",
          "name": "stdout",
          "text": [
            "w4 = 0.097654321\n",
            "3.615533768146932\n",
            "0.91744740409118\n",
            "0.7438806684742805\n",
            "2.373929602010527\n",
            "0.326294048443927\n",
            "1.0238237539665875\n",
            "0.3171149032176097\n",
            "0.1597607626239757\n",
            "0.14469030689630918\n",
            "0.18281340810916125\n",
            "0.13025883133094157\n",
            "0.16884233540453847\n",
            "0.19034651517402373\n",
            "0.4532253904529109\n",
            "0.3988488755382314\n",
            "0.19680157000467766\n",
            "0.1658663760505443\n",
            "0.4370538887360177\n",
            "0.4968608113810312\n",
            "2.833100506546892\n"
          ]
        },
        {
          "output_type": "stream",
          "name": "stderr",
          "text": [
            "Llama.generate: prefix-match hit\n"
          ]
        },
        {
          "output_type": "stream",
          "name": "stdout",
          "text": [
            "{'id': 'cmpl-7914ff2a-8bc7-46ee-b9b3-678d97cd3764', 'object': 'text_completion', 'created': 1720417322, 'model': '/root/.cache/huggingface/hub/models--TheBloke--Llama-2-13B-chat-GGML/snapshots/3140827b4dfcb6b562cd87ee3d7f07109b014dd0/llama-2-13b-chat.ggmlv3.q5_1.bin', 'choices': [{'text': \"SYSTEM: You are a helpful, respectful, and honest assistant. Always answer as helpfully.\\n\\n    USER: I am using the Particle Swarm Optimization (PSO) algorithm to minimize the cost function. I have multiple cost values from particles in my swarm, including the current global best cost (0.14476410387675584) and various personal best costs from the particles (0.13025883133094157). Using the Roulette_wheel, determine which of these values should be the new minimum global best. Don't write anything else, just write that number in decimal notation normally.\\n\\n    ASSISTANT:\\n     Based on the information you provided, the new minimum global best cost is 0.13025883133094157.\", 'index': 0, 'logprobs': None, 'finish_reason': 'stop'}], 'usage': {'prompt_tokens': 167, 'completion_tokens': 35, 'total_tokens': 202}}\n",
            "0.13025883133094157\n",
            "Iteration 5: Best Cost = 0.13025883133094157\n"
          ]
        },
        {
          "output_type": "stream",
          "name": "stderr",
          "text": [
            "Llama.generate: prefix-match hit\n"
          ]
        },
        {
          "output_type": "stream",
          "name": "stdout",
          "text": [
            "w5 = 0.0825\n",
            "0.595613988036633\n",
            "0.41515685372362454\n",
            "0.7438806684742805\n",
            "0.9764205200677267\n",
            "0.17444965990265196\n",
            "0.5879732932632912\n",
            "0.3171149032176097\n",
            "0.1597607626239757\n",
            "0.14469030689630918\n",
            "0.18281340810916125\n",
            "0.13025883133094157\n",
            "0.16884233540453847\n",
            "0.19034651517402373\n",
            "0.4532253904529109\n",
            "0.24950201356184606\n",
            "0.19680157000467766\n",
            "0.1658663760505443\n",
            "0.10171547212474444\n",
            "0.4968608113810312\n",
            "1.889024641463136\n"
          ]
        },
        {
          "output_type": "stream",
          "name": "stderr",
          "text": [
            "Llama.generate: prefix-match hit\n"
          ]
        },
        {
          "output_type": "stream",
          "name": "stdout",
          "text": [
            "{'id': 'cmpl-97968cf1-6cea-4514-8516-cac60c3cb1a6', 'object': 'text_completion', 'created': 1720417343, 'model': '/root/.cache/huggingface/hub/models--TheBloke--Llama-2-13B-chat-GGML/snapshots/3140827b4dfcb6b562cd87ee3d7f07109b014dd0/llama-2-13b-chat.ggmlv3.q5_1.bin', 'choices': [{'text': \"SYSTEM: You are a helpful, respectful, and honest assistant. Always answer as helpfully.\\n\\n    USER: I am using the Particle Swarm Optimization (PSO) algorithm to minimize the cost function. I have multiple cost values from particles in my swarm, including the current global best cost (0.13025883133094157) and various personal best costs from the particles (0.10171547212474444). Using the Roulette_wheel, determine which of these values should be the new minimum global best. Don't write anything else, just write that number in decimal notation normally.\\n\\n    ASSISTANT:\\n    0.10171547212474444\", 'index': 0, 'logprobs': None, 'finish_reason': 'stop'}], 'usage': {'prompt_tokens': 167, 'completion_tokens': 19, 'total_tokens': 186}}\n",
            "0.10171547212474444\n",
            "Iteration 6: Best Cost = 0.10171547212474444\n"
          ]
        },
        {
          "output_type": "stream",
          "name": "stderr",
          "text": [
            "Llama.generate: prefix-match hit\n"
          ]
        },
        {
          "output_type": "stream",
          "name": "stdout",
          "text": [
            "w6 = 0.0417\n",
            "0.18231031671077444\n",
            "0.19516655808719482\n",
            "0.21760845557708683\n",
            "0.35226322780125574\n",
            "0.12033943285605814\n",
            "0.20334600631049235\n",
            "0.3171149032176097\n",
            "0.1597607626239757\n",
            "0.14469030689630918\n",
            "0.18281340810916125\n",
            "0.1071900064121565\n",
            "0.15925794276493088\n",
            "0.0712694416249985\n",
            "0.4532253904529109\n",
            "0.24950201356184606\n",
            "0.19680157000467766\n",
            "0.092619218966906\n",
            "0.10171547212474444\n",
            "0.4968608113810312\n",
            "0.1938234143245532\n"
          ]
        },
        {
          "output_type": "stream",
          "name": "stderr",
          "text": [
            "Llama.generate: prefix-match hit\n"
          ]
        },
        {
          "output_type": "stream",
          "name": "stdout",
          "text": [
            "{'id': 'cmpl-80683a36-ceac-467f-8eab-66f7c1021dd5', 'object': 'text_completion', 'created': 1720417359, 'model': '/root/.cache/huggingface/hub/models--TheBloke--Llama-2-13B-chat-GGML/snapshots/3140827b4dfcb6b562cd87ee3d7f07109b014dd0/llama-2-13b-chat.ggmlv3.q5_1.bin', 'choices': [{'text': \"SYSTEM: You are a helpful, respectful, and honest assistant. Always answer as helpfully.\\n\\n    USER: I am using the Particle Swarm Optimization (PSO) algorithm to minimize the cost function. I have multiple cost values from particles in my swarm, including the current global best cost (0.10171547212474444) and various personal best costs from the particles (0.0712694416249985). Using the Roulette_wheel, determine which of these values should be the new minimum global best. Don't write anything else, just write that number in decimal notation normally.\\n\\n    ASSISTANT:\\n     Based on the information provided, the new minimum global best cost is 0.0712694416249985.\", 'index': 0, 'logprobs': None, 'finish_reason': 'stop'}], 'usage': {'prompt_tokens': 166, 'completion_tokens': 33, 'total_tokens': 199}}\n",
            "0.0712694416249985\n",
            "Iteration 7: Best Cost = 0.0712694416249985\n"
          ]
        },
        {
          "output_type": "stream",
          "name": "stderr",
          "text": [
            "Llama.generate: prefix-match hit\n"
          ]
        },
        {
          "output_type": "stream",
          "name": "stdout",
          "text": [
            "w7 = 0.025\n",
            "0.11512826449149198\n",
            "0.08745828588933166\n",
            "0.12083430024902014\n",
            "0.35226322780125574\n",
            "0.09571141306598124\n",
            "0.20334600631049235\n",
            "0.3171149032176097\n",
            "0.1597607626239757\n",
            "0.14469030689630918\n",
            "0.18281340810916125\n",
            "0.1071900064121565\n",
            "0.11702955341917505\n",
            "0.0712694416249985\n",
            "0.35585455305144237\n",
            "0.24950201356184606\n",
            "0.19680157000467766\n",
            "0.07562762736532214\n",
            "0.06740859107368592\n",
            "0.384748115059883\n",
            "0.12222553699410765\n"
          ]
        },
        {
          "output_type": "stream",
          "name": "stderr",
          "text": [
            "Llama.generate: prefix-match hit\n"
          ]
        },
        {
          "output_type": "stream",
          "name": "stdout",
          "text": [
            "{'id': 'cmpl-2ccb4813-925d-484c-abef-ce29f9dca0f6', 'object': 'text_completion', 'created': 1720417378, 'model': '/root/.cache/huggingface/hub/models--TheBloke--Llama-2-13B-chat-GGML/snapshots/3140827b4dfcb6b562cd87ee3d7f07109b014dd0/llama-2-13b-chat.ggmlv3.q5_1.bin', 'choices': [{'text': \"SYSTEM: You are a helpful, respectful, and honest assistant. Always answer as helpfully.\\n\\n    USER: I am using the Particle Swarm Optimization (PSO) algorithm to minimize the cost function. I have multiple cost values from particles in my swarm, including the current global best cost (0.0712694416249985) and various personal best costs from the particles (0.06740859107368592). Using the Roulette_wheel, determine which of these values should be the new minimum global best. Don't write anything else, just write that number in decimal notation normally.\\n\\n    ASSISTANT:\\n     Based on the information provided, the new minimum global best cost is 0.06740859107368592.\", 'index': 0, 'logprobs': None, 'finish_reason': 'stop'}], 'usage': {'prompt_tokens': 166, 'completion_tokens': 34, 'total_tokens': 200}}\n",
            "0.06740859107368592\n",
            "Iteration 8: Best Cost = 0.06740859107368592\n"
          ]
        },
        {
          "output_type": "stream",
          "name": "stderr",
          "text": [
            "Llama.generate: prefix-match hit\n"
          ]
        },
        {
          "output_type": "stream",
          "name": "stdout",
          "text": [
            "w8 = 0.0149\n",
            "0.096801335151711\n",
            "0.08201319969610221\n",
            "0.103625068517756\n",
            "0.35226322780125574\n",
            "0.063362032343034\n",
            "0.20334600631049235\n",
            "0.3171149032176097\n",
            "0.1597607626239757\n",
            "0.14469030689630918\n",
            "0.18281340810916125\n",
            "0.1071900064121565\n",
            "0.0787316667870492\n",
            "0.0712694416249985\n",
            "0.31805192111743524\n",
            "0.24950201356184606\n",
            "0.19680157000467766\n",
            "0.07057825655953236\n",
            "0.06740859107368592\n",
            "0.384748115059883\n",
            "0.10063512100855435\n"
          ]
        },
        {
          "output_type": "stream",
          "name": "stderr",
          "text": [
            "Llama.generate: prefix-match hit\n"
          ]
        },
        {
          "output_type": "stream",
          "name": "stdout",
          "text": [
            "{'id': 'cmpl-928ea399-e41e-413a-afa3-04f841003123', 'object': 'text_completion', 'created': 1720417413, 'model': '/root/.cache/huggingface/hub/models--TheBloke--Llama-2-13B-chat-GGML/snapshots/3140827b4dfcb6b562cd87ee3d7f07109b014dd0/llama-2-13b-chat.ggmlv3.q5_1.bin', 'choices': [{'text': \"SYSTEM: You are a helpful, respectful, and honest assistant. Always answer as helpfully.\\n\\n    USER: I am using the Particle Swarm Optimization (PSO) algorithm to minimize the cost function. I have multiple cost values from particles in my swarm, including the current global best cost (0.06740859107368592) and various personal best costs from the particles (0.063362032343034). Using the Roulette_wheel, determine which of these values should be the new minimum global best. Don't write anything else, just write that number in decimal notation normally.\\n\\n    ASSISTANT:\\n    0.063362032343034\", 'index': 0, 'logprobs': None, 'finish_reason': 'stop'}], 'usage': {'prompt_tokens': 165, 'completion_tokens': 17, 'total_tokens': 182}}\n",
            "0.063362032343034\n",
            "Iteration 9: Best Cost = 0.063362032343034\n"
          ]
        },
        {
          "output_type": "stream",
          "name": "stderr",
          "text": [
            "Llama.generate: prefix-match hit\n"
          ]
        },
        {
          "output_type": "stream",
          "name": "stdout",
          "text": [
            "w9 = 0.0123\n",
            "0.06561474223049059\n",
            "0.0796699238948034\n",
            "0.08568181613767148\n",
            "0.10169179476179227\n",
            "0.063362032343034\n",
            "0.08326911690010762\n",
            "0.3171149032176097\n",
            "0.1597607626239757\n",
            "0.14469030689630918\n",
            "0.18281340810916125\n",
            "0.1071900064121565\n",
            "0.06794301575993401\n",
            "0.0712694416249985\n",
            "0.23086293020986326\n",
            "0.24950201356184606\n",
            "0.19680157000467766\n",
            "0.07057825655953236\n",
            "0.06740859107368592\n",
            "0.384748115059883\n",
            "0.06922260222005493\n"
          ]
        },
        {
          "output_type": "stream",
          "name": "stderr",
          "text": [
            "Llama.generate: prefix-match hit\n"
          ]
        },
        {
          "output_type": "stream",
          "name": "stdout",
          "text": [
            "{'id': 'cmpl-c1202438-1f18-43b1-9662-84bcc56d241a', 'object': 'text_completion', 'created': 1720417431, 'model': '/root/.cache/huggingface/hub/models--TheBloke--Llama-2-13B-chat-GGML/snapshots/3140827b4dfcb6b562cd87ee3d7f07109b014dd0/llama-2-13b-chat.ggmlv3.q5_1.bin', 'choices': [{'text': \"SYSTEM: You are a helpful, respectful, and honest assistant. Always answer as helpfully.\\n\\n    USER: I am using the Particle Swarm Optimization (PSO) algorithm to minimize the cost function. I have multiple cost values from particles in my swarm, including the current global best cost (0.063362032343034) and various personal best costs from the particles (0.063362032343034). Using the Roulette_wheel, determine which of these values should be the new minimum global best. Don't write anything else, just write that number in decimal notation normally.\\n\\n    ASSISTANT:\\n    0.063362032343034\", 'index': 0, 'logprobs': None, 'finish_reason': 'stop'}], 'usage': {'prompt_tokens': 163, 'completion_tokens': 17, 'total_tokens': 180}}\n",
            "0.063362032343034\n",
            "Iteration 10: Best Cost = 0.063362032343034\n"
          ]
        },
        {
          "output_type": "stream",
          "name": "stderr",
          "text": [
            "Llama.generate: prefix-match hit\n"
          ]
        },
        {
          "output_type": "stream",
          "name": "stdout",
          "text": [
            "w10 = 0.0087\n",
            "0.06561474223049059\n",
            "0.06412668705258284\n",
            "0.07050097791734085\n",
            "0.09096724962942256\n",
            "0.06315229597693993\n",
            "0.07128325434696631\n",
            "0.3171149032176097\n",
            "0.1597607626239757\n",
            "0.14469030689630918\n",
            "0.16386313505223418\n",
            "0.1071900064121565\n",
            "0.06568773545504868\n",
            "0.06901267968449545\n",
            "0.1457202542317249\n",
            "0.24950201356184606\n",
            "0.05571564239464913\n",
            "0.06647576569185551\n",
            "0.06740859107368592\n",
            "0.384748115059883\n",
            "0.06140511470397335\n"
          ]
        },
        {
          "output_type": "stream",
          "name": "stderr",
          "text": [
            "Llama.generate: prefix-match hit\n"
          ]
        },
        {
          "output_type": "stream",
          "name": "stdout",
          "text": [
            "{'id': 'cmpl-d612dc04-2928-4447-9895-a47680a5b30f', 'object': 'text_completion', 'created': 1720417445, 'model': '/root/.cache/huggingface/hub/models--TheBloke--Llama-2-13B-chat-GGML/snapshots/3140827b4dfcb6b562cd87ee3d7f07109b014dd0/llama-2-13b-chat.ggmlv3.q5_1.bin', 'choices': [{'text': \"SYSTEM: You are a helpful, respectful, and honest assistant. Always answer as helpfully.\\n\\n    USER: I am using the Particle Swarm Optimization (PSO) algorithm to minimize the cost function. I have multiple cost values from particles in my swarm, including the current global best cost (0.063362032343034) and various personal best costs from the particles (0.05571564239464913). Using the Roulette_wheel, determine which of these values should be the new minimum global best. Don't write anything else, just write that number in decimal notation normally.\\n\\n    ASSISTANT:\\n    0.05571564239464913\", 'index': 0, 'logprobs': None, 'finish_reason': 'stop'}], 'usage': {'prompt_tokens': 165, 'completion_tokens': 19, 'total_tokens': 184}}\n",
            "0.05571564239464913\n",
            "Iteration 11: Best Cost = 0.05571564239464913\n"
          ]
        },
        {
          "output_type": "stream",
          "name": "stderr",
          "text": [
            "Llama.generate: prefix-match hit\n"
          ]
        },
        {
          "output_type": "stream",
          "name": "stdout",
          "text": [
            "w11 = 0.0063\n",
            "0.06561474223049059\n",
            "0.05978171416372287\n",
            "0.07050097791734085\n",
            "0.09096724962942256\n",
            "0.05219583131151213\n",
            "0.07128325434696631\n",
            "0.27598753233817386\n",
            "0.1597607626239757\n",
            "0.12627583154964303\n",
            "0.13152894783246485\n",
            "0.09216066808486635\n",
            "0.06568773545504868\n",
            "0.05642702666896245\n",
            "0.06808341647791293\n",
            "0.24950201356184606\n",
            "0.055641454363747574\n",
            "0.06463188396926435\n",
            "0.05909809535777763\n",
            "0.1345720916520376\n",
            "0.05634374231031937\n"
          ]
        },
        {
          "output_type": "stream",
          "name": "stderr",
          "text": [
            "Llama.generate: prefix-match hit\n"
          ]
        },
        {
          "output_type": "stream",
          "name": "stdout",
          "text": [
            "{'id': 'cmpl-0a471dca-2fad-49a8-9022-fbc00af6287d', 'object': 'text_completion', 'created': 1720417460, 'model': '/root/.cache/huggingface/hub/models--TheBloke--Llama-2-13B-chat-GGML/snapshots/3140827b4dfcb6b562cd87ee3d7f07109b014dd0/llama-2-13b-chat.ggmlv3.q5_1.bin', 'choices': [{'text': \"SYSTEM: You are a helpful, respectful, and honest assistant. Always answer as helpfully.\\n\\n    USER: I am using the Particle Swarm Optimization (PSO) algorithm to minimize the cost function. I have multiple cost values from particles in my swarm, including the current global best cost (0.05571564239464913) and various personal best costs from the particles (0.05219583131151213). Using the Roulette_wheel, determine which of these values should be the new minimum global best. Don't write anything else, just write that number in decimal notation normally.\\n\\n    ASSISTANT:\\n    0.05219583131151213\", 'index': 0, 'logprobs': None, 'finish_reason': 'stop'}], 'usage': {'prompt_tokens': 167, 'completion_tokens': 19, 'total_tokens': 186}}\n",
            "0.05219583131151213\n",
            "Iteration 12: Best Cost = 0.05219583131151213\n"
          ]
        },
        {
          "output_type": "stream",
          "name": "stderr",
          "text": [
            "Llama.generate: prefix-match hit\n"
          ]
        },
        {
          "output_type": "stream",
          "name": "stdout",
          "text": [
            "w12 = 0.0059\n",
            "0.06561474223049059\n",
            "0.05148123463074157\n",
            "0.07050097791734085\n",
            "0.05746854544094575\n",
            "0.05216846137685933\n",
            "0.07128325434696631\n",
            "0.2158719717267531\n",
            "0.1597607626239757\n",
            "0.07897776732488992\n",
            "0.05867069914624948\n",
            "0.06400436438509627\n",
            "0.06568773545504868\n",
            "0.05642702666896245\n",
            "0.06808341647791293\n",
            "0.23617650984398111\n",
            "0.05430456164796727\n",
            "0.06234936599705856\n",
            "0.05574964289171826\n",
            "0.1345720916520376\n",
            "0.05243334677937721\n"
          ]
        },
        {
          "output_type": "stream",
          "name": "stderr",
          "text": [
            "Llama.generate: prefix-match hit\n"
          ]
        },
        {
          "output_type": "stream",
          "name": "stdout",
          "text": [
            "{'id': 'cmpl-9c166e17-8c92-41d2-852b-5c7d1e79c394', 'object': 'text_completion', 'created': 1720417476, 'model': '/root/.cache/huggingface/hub/models--TheBloke--Llama-2-13B-chat-GGML/snapshots/3140827b4dfcb6b562cd87ee3d7f07109b014dd0/llama-2-13b-chat.ggmlv3.q5_1.bin', 'choices': [{'text': \"SYSTEM: You are a helpful, respectful, and honest assistant. Always answer as helpfully.\\n\\n    USER: I am using the Particle Swarm Optimization (PSO) algorithm to minimize the cost function. I have multiple cost values from particles in my swarm, including the current global best cost (0.05219583131151213) and various personal best costs from the particles (0.05148123463074157). Using the Roulette_wheel, determine which of these values should be the new minimum global best. Don't write anything else, just write that number in decimal notation normally.\\n\\n    ASSISTANT:\\n    0.05148123463074157\", 'index': 0, 'logprobs': None, 'finish_reason': 'stop'}], 'usage': {'prompt_tokens': 167, 'completion_tokens': 19, 'total_tokens': 186}}\n",
            "0.05148123463074157\n",
            "Iteration 13: Best Cost = 0.05148123463074157\n"
          ]
        },
        {
          "output_type": "stream",
          "name": "stderr",
          "text": [
            "Llama.generate: prefix-match hit\n"
          ]
        },
        {
          "output_type": "stream",
          "name": "stdout",
          "text": [
            "w13 = 0.0048\n",
            "0.06363821379893322\n",
            "0.051468558953395444\n",
            "0.07001158191191209\n",
            "0.05548797833933092\n",
            "0.05216846137685933\n",
            "0.0671393849698621\n",
            "0.06816571150621308\n",
            "0.1597607626239757\n",
            "0.061503621613057495\n",
            "0.05139727212016148\n",
            "0.05831205252864102\n",
            "0.06568773545504868\n",
            "0.05390942478695675\n",
            "0.06808341647791293\n",
            "0.09484441582269638\n",
            "0.05430456164796727\n",
            "0.05609135353581212\n",
            "0.05233957529136387\n",
            "0.11393715311185627\n",
            "0.05243334677937721\n"
          ]
        },
        {
          "output_type": "stream",
          "name": "stderr",
          "text": [
            "Llama.generate: prefix-match hit\n"
          ]
        },
        {
          "output_type": "stream",
          "name": "stdout",
          "text": [
            "{'id': 'cmpl-f556c1dd-539e-4a6f-90ea-cd73713044bc', 'object': 'text_completion', 'created': 1720417491, 'model': '/root/.cache/huggingface/hub/models--TheBloke--Llama-2-13B-chat-GGML/snapshots/3140827b4dfcb6b562cd87ee3d7f07109b014dd0/llama-2-13b-chat.ggmlv3.q5_1.bin', 'choices': [{'text': \"SYSTEM: You are a helpful, respectful, and honest assistant. Always answer as helpfully.\\n\\n    USER: I am using the Particle Swarm Optimization (PSO) algorithm to minimize the cost function. I have multiple cost values from particles in my swarm, including the current global best cost (0.05148123463074157) and various personal best costs from the particles (0.05139727212016148). Using the Roulette_wheel, determine which of these values should be the new minimum global best. Don't write anything else, just write that number in decimal notation normally.\\n\\n    ASSISTANT:\\n    0.05139727212016148\", 'index': 0, 'logprobs': None, 'finish_reason': 'stop'}], 'usage': {'prompt_tokens': 167, 'completion_tokens': 19, 'total_tokens': 186}}\n",
            "0.05139727212016148\n",
            "Iteration 14: Best Cost = 0.05139727212016148\n"
          ]
        },
        {
          "output_type": "stream",
          "name": "stderr",
          "text": [
            "Llama.generate: prefix-match hit\n"
          ]
        },
        {
          "output_type": "stream",
          "name": "stdout",
          "text": [
            "w14 = 0.0023\n",
            "0.052973283805972785\n",
            "0.051468558953395444\n",
            "0.05969997024777995\n",
            "0.05355970571169607\n",
            "0.048162900029056085\n",
            "0.0671393849698621\n",
            "0.05273815482881848\n",
            "0.1597607626239757\n",
            "0.05296367786723641\n",
            "0.05139727212016148\n",
            "0.05218493331049605\n",
            "0.06568773545504868\n",
            "0.05304885681835161\n",
            "0.06808341647791293\n",
            "0.053301098462868735\n",
            "0.050266549316203175\n",
            "0.05086170447810155\n",
            "0.05101849140402766\n",
            "0.0842152600515926\n",
            "0.04749904747220207\n"
          ]
        },
        {
          "output_type": "stream",
          "name": "stderr",
          "text": [
            "Llama.generate: prefix-match hit\n"
          ]
        },
        {
          "output_type": "stream",
          "name": "stdout",
          "text": [
            "{'id': 'cmpl-1aef8c14-726f-472f-b619-5bdd0ceb3b82', 'object': 'text_completion', 'created': 1720417507, 'model': '/root/.cache/huggingface/hub/models--TheBloke--Llama-2-13B-chat-GGML/snapshots/3140827b4dfcb6b562cd87ee3d7f07109b014dd0/llama-2-13b-chat.ggmlv3.q5_1.bin', 'choices': [{'text': \"SYSTEM: You are a helpful, respectful, and honest assistant. Always answer as helpfully.\\n\\n    USER: I am using the Particle Swarm Optimization (PSO) algorithm to minimize the cost function. I have multiple cost values from particles in my swarm, including the current global best cost (0.05139727212016148) and various personal best costs from the particles (0.04749904747220207). Using the Roulette_wheel, determine which of these values should be the new minimum global best. Don't write anything else, just write that number in decimal notation normally.\\n\\n    ASSISTANT:\\n    0.05139727212016148\", 'index': 0, 'logprobs': None, 'finish_reason': 'stop'}], 'usage': {'prompt_tokens': 167, 'completion_tokens': 19, 'total_tokens': 186}}\n",
            "0.05139727212016148\n",
            "Iteration 15: Best Cost = 0.05139727212016148\n"
          ]
        },
        {
          "output_type": "stream",
          "name": "stderr",
          "text": [
            "Llama.generate: prefix-match hit\n"
          ]
        },
        {
          "output_type": "stream",
          "name": "stdout",
          "text": [
            "w15 = 0.0016\n",
            "0.04933720797431551\n",
            "0.051468558953395444\n",
            "0.050269217260691126\n",
            "0.05169365801630626\n",
            "0.04744398495063772\n",
            "0.06016643676126917\n",
            "0.05273815482881848\n",
            "0.1597607626239757\n",
            "0.05296367786723641\n",
            "0.051384045661712174\n",
            "0.05210008657147547\n",
            "0.058131833439369104\n",
            "0.05304885681835161\n",
            "0.02886719374255229\n",
            "0.053301098462868735\n",
            "0.050266549316203175\n",
            "0.05056538317494859\n",
            "0.05101849140402766\n",
            "0.05246673202932504\n",
            "0.04646433960398491\n"
          ]
        },
        {
          "output_type": "stream",
          "name": "stderr",
          "text": [
            "Llama.generate: prefix-match hit\n"
          ]
        },
        {
          "output_type": "stream",
          "name": "stdout",
          "text": [
            "{'id': 'cmpl-dfd6cfa1-f701-4941-abbf-0808e210c228', 'object': 'text_completion', 'created': 1720417522, 'model': '/root/.cache/huggingface/hub/models--TheBloke--Llama-2-13B-chat-GGML/snapshots/3140827b4dfcb6b562cd87ee3d7f07109b014dd0/llama-2-13b-chat.ggmlv3.q5_1.bin', 'choices': [{'text': \"SYSTEM: You are a helpful, respectful, and honest assistant. Always answer as helpfully.\\n\\n    USER: I am using the Particle Swarm Optimization (PSO) algorithm to minimize the cost function. I have multiple cost values from particles in my swarm, including the current global best cost (0.05139727212016148) and various personal best costs from the particles (0.02886719374255229). Using the Roulette_wheel, determine which of these values should be the new minimum global best. Don't write anything else, just write that number in decimal notation normally.\\n\\n    ASSISTANT:\\n    0.02886719374255229\", 'index': 0, 'logprobs': None, 'finish_reason': 'stop'}], 'usage': {'prompt_tokens': 167, 'completion_tokens': 19, 'total_tokens': 186}}\n",
            "0.02886719374255229\n",
            "Iteration 16: Best Cost = 0.02886719374255229\n"
          ]
        },
        {
          "output_type": "stream",
          "name": "stderr",
          "text": [
            "Llama.generate: prefix-match hit\n"
          ]
        },
        {
          "output_type": "stream",
          "name": "stdout",
          "text": [
            "w16 = 0.001492\n",
            "0.040876801328491086\n",
            "0.03271641086003222\n",
            "0.021560709150336293\n",
            "0.026408950616001504\n",
            "0.04744398495063772\n",
            "0.05817048491880938\n",
            "0.03762550966508652\n",
            "0.1597607626239757\n",
            "0.025723265603907128\n",
            "0.02965875382973237\n",
            "0.04712253598875095\n",
            "0.058131833439369104\n",
            "0.02634017738120981\n",
            "0.02886719374255229\n",
            "0.014827471740534098\n",
            "0.04920100828222735\n",
            "0.034506619394706\n",
            "0.029458529225915426\n",
            "0.02673314058876408\n",
            "0.04646433960398491\n"
          ]
        },
        {
          "output_type": "stream",
          "name": "stderr",
          "text": [
            "Llama.generate: prefix-match hit\n"
          ]
        },
        {
          "output_type": "stream",
          "name": "stdout",
          "text": [
            "{'id': 'cmpl-0ab83f49-bf4e-4804-81c5-faa5c99d700f', 'object': 'text_completion', 'created': 1720417539, 'model': '/root/.cache/huggingface/hub/models--TheBloke--Llama-2-13B-chat-GGML/snapshots/3140827b4dfcb6b562cd87ee3d7f07109b014dd0/llama-2-13b-chat.ggmlv3.q5_1.bin', 'choices': [{'text': \"SYSTEM: You are a helpful, respectful, and honest assistant. Always answer as helpfully.\\n\\n    USER: I am using the Particle Swarm Optimization (PSO) algorithm to minimize the cost function. I have multiple cost values from particles in my swarm, including the current global best cost (0.02886719374255229) and various personal best costs from the particles (0.014827471740534098). Using the Roulette_wheel, determine which of these values should be the new minimum global best. Don't write anything else, just write that number in decimal notation normally.\\n\\n    ASSISTANT:\\n    0.014827471740534098\", 'index': 0, 'logprobs': None, 'finish_reason': 'stop'}], 'usage': {'prompt_tokens': 168, 'completion_tokens': 20, 'total_tokens': 188}}\n",
            "0.014827471740534098\n",
            "Iteration 17: Best Cost = 0.014827471740534098\n"
          ]
        },
        {
          "output_type": "stream",
          "name": "stderr",
          "text": [
            "Llama.generate: prefix-match hit\n"
          ]
        },
        {
          "output_type": "stream",
          "name": "stdout",
          "text": [
            "w17 = 0.001387\n",
            "0.015046127394997548\n",
            "0.029204118280567466\n",
            "0.021560709150336293\n",
            "0.020387220591843076\n",
            "0.04744398495063772\n",
            "0.011704554616479599\n",
            "0.030765748928671333\n",
            "0.1597607626239757\n",
            "0.012408464172973093\n",
            "0.02965875382973237\n",
            "0.03482523528049977\n",
            "0.0405494523526989\n",
            "0.014349399595929936\n",
            "0.02104049152754918\n",
            "0.014827471740534098\n",
            "0.02836891901700786\n",
            "0.016812458737659304\n",
            "0.013513689497287769\n",
            "0.021436771887607876\n",
            "0.015017868989790791\n"
          ]
        },
        {
          "output_type": "stream",
          "name": "stderr",
          "text": [
            "Llama.generate: prefix-match hit\n"
          ]
        },
        {
          "output_type": "stream",
          "name": "stdout",
          "text": [
            "{'id': 'cmpl-b10c8091-ba27-4874-942d-eb047f328749', 'object': 'text_completion', 'created': 1720417554, 'model': '/root/.cache/huggingface/hub/models--TheBloke--Llama-2-13B-chat-GGML/snapshots/3140827b4dfcb6b562cd87ee3d7f07109b014dd0/llama-2-13b-chat.ggmlv3.q5_1.bin', 'choices': [{'text': \"SYSTEM: You are a helpful, respectful, and honest assistant. Always answer as helpfully.\\n\\n    USER: I am using the Particle Swarm Optimization (PSO) algorithm to minimize the cost function. I have multiple cost values from particles in my swarm, including the current global best cost (0.014827471740534098) and various personal best costs from the particles (0.011704554616479599). Using the Roulette_wheel, determine which of these values should be the new minimum global best. Don't write anything else, just write that number in decimal notation normally.\\n\\n    ASSISTANT:\\n     The new minimum global best cost is 0.011704554616479599.\", 'index': 0, 'logprobs': None, 'finish_reason': 'stop'}], 'usage': {'prompt_tokens': 169, 'completion_tokens': 29, 'total_tokens': 198}}\n",
            "0.011704554616479599\n",
            "Iteration 18: Best Cost = 0.011704554616479599\n"
          ]
        },
        {
          "output_type": "stream",
          "name": "stderr",
          "text": [
            "Llama.generate: prefix-match hit\n"
          ]
        },
        {
          "output_type": "stream",
          "name": "stdout",
          "text": [
            "w18 = 0.001254\n",
            "0.009133558830335266\n",
            "0.014763692555326741\n",
            "0.021560709150336293\n",
            "0.020387220591843076\n",
            "0.04744398495063772\n",
            "0.011704554616479599\n",
            "0.009055229614534106\n",
            "0.1597607626239757\n",
            "0.012408464172973093\n",
            "0.02965875382973237\n",
            "0.008325932657945274\n",
            "0.01846456875624953\n",
            "0.009849473372435287\n",
            "0.013049836313109233\n",
            "0.014827471740534098\n",
            "0.020333678158071026\n",
            "0.016812458737659304\n",
            "0.013513689497287769\n",
            "0.021436771887607876\n",
            "0.015017868989790791\n"
          ]
        },
        {
          "output_type": "stream",
          "name": "stderr",
          "text": [
            "Llama.generate: prefix-match hit\n"
          ]
        },
        {
          "output_type": "stream",
          "name": "stdout",
          "text": [
            "{'id': 'cmpl-7e45ae55-f500-4453-a178-8decdc6df9f9', 'object': 'text_completion', 'created': 1720417573, 'model': '/root/.cache/huggingface/hub/models--TheBloke--Llama-2-13B-chat-GGML/snapshots/3140827b4dfcb6b562cd87ee3d7f07109b014dd0/llama-2-13b-chat.ggmlv3.q5_1.bin', 'choices': [{'text': \"SYSTEM: You are a helpful, respectful, and honest assistant. Always answer as helpfully.\\n\\n    USER: I am using the Particle Swarm Optimization (PSO) algorithm to minimize the cost function. I have multiple cost values from particles in my swarm, including the current global best cost (0.011704554616479599) and various personal best costs from the particles (0.008325932657945274). Using the Roulette_wheel, determine which of these values should be the new minimum global best. Don't write anything else, just write that number in decimal notation normally.\\n\\n    ASSISTANT:\\n    0.008325932657945274\", 'index': 0, 'logprobs': None, 'finish_reason': 'stop'}], 'usage': {'prompt_tokens': 169, 'completion_tokens': 20, 'total_tokens': 189}}\n",
            "0.008325932657945274\n",
            "Iteration 19: Best Cost = 0.008325932657945274\n"
          ]
        },
        {
          "output_type": "stream",
          "name": "stderr",
          "text": [
            "Llama.generate: prefix-match hit\n"
          ]
        },
        {
          "output_type": "stream",
          "name": "stdout",
          "text": [
            "w19 = 0.000976\n",
            "0.009133558830335266\n",
            "0.006929991612230223\n",
            "0.021560709150336293\n",
            "0.020387220591843076\n",
            "0.04744398495063772\n",
            "0.010123135180911636\n",
            "0.009055229614534106\n",
            "0.1597607626239757\n",
            "0.012408464172973093\n",
            "0.02640365539580593\n",
            "0.008325932657945274\n",
            "0.011642784531773136\n",
            "0.009849473372435287\n",
            "0.006468661418825415\n",
            "0.014827471740534098\n",
            "0.005800267153944027\n",
            "0.009729424724255191\n",
            "0.013513689497287769\n",
            "0.021436771887607876\n",
            "0.015017868989790791\n"
          ]
        },
        {
          "output_type": "stream",
          "name": "stderr",
          "text": [
            "Llama.generate: prefix-match hit\n"
          ]
        },
        {
          "output_type": "stream",
          "name": "stdout",
          "text": [
            "{'id': 'cmpl-29449975-66f0-407e-b6d0-5c92c03b7ff5', 'object': 'text_completion', 'created': 1720417590, 'model': '/root/.cache/huggingface/hub/models--TheBloke--Llama-2-13B-chat-GGML/snapshots/3140827b4dfcb6b562cd87ee3d7f07109b014dd0/llama-2-13b-chat.ggmlv3.q5_1.bin', 'choices': [{'text': \"SYSTEM: You are a helpful, respectful, and honest assistant. Always answer as helpfully.\\n\\n    USER: I am using the Particle Swarm Optimization (PSO) algorithm to minimize the cost function. I have multiple cost values from particles in my swarm, including the current global best cost (0.008325932657945274) and various personal best costs from the particles (0.005800267153944027). Using the Roulette_wheel, determine which of these values should be the new minimum global best. Don't write anything else, just write that number in decimal notation normally.\\n\\n    ASSISTANT:\\n    0.005800267153944027\", 'index': 0, 'logprobs': None, 'finish_reason': 'stop'}], 'usage': {'prompt_tokens': 169, 'completion_tokens': 20, 'total_tokens': 189}}\n",
            "0.005800267153944027\n",
            "Iteration 20: Best Cost = 0.005800267153944027\n"
          ]
        },
        {
          "output_type": "stream",
          "name": "stderr",
          "text": [
            "Llama.generate: prefix-match hit\n"
          ]
        },
        {
          "output_type": "stream",
          "name": "stdout",
          "text": [
            "w20 = 0.000854\n",
            "[0.22499999999999995, 0.22499999999999995, 0.15559514927765875, 0.15559514927765875, 0.1455716568387742, 0.1455716568387742, 0.14476410387675584, 0.14476410387675584, 0.13025883133094157, 0.13025883133094157, 0.10171547212474444, 0.10171547212474444, 0.0712694416249985, 0.0712694416249985, 0.06740859107368592, 0.06740859107368592, 0.063362032343034, 0.063362032343034, 0.063362032343034, 0.063362032343034, 0.05571564239464913, 0.05571564239464913, 0.05219583131151213, 0.05219583131151213, 0.05148123463074157, 0.05148123463074157, 0.05139727212016148, 0.05139727212016148, 0.05139727212016148, 0.05139727212016148, 0.02886719374255229, 0.02886719374255229, 0.014827471740534098, 0.014827471740534098, 0.011704554616479599, 0.011704554616479599, 0.008325932657945274, 0.008325932657945274, 0.005800267153944027, 0.005800267153944027]\n",
            "[1, 0.432576983, 0.123456789, 0.123456788, 0.097654321, 0.0825, 0.0417, 0.025, 0.0149, 0.0123, 0.0087, 0.0063, 0.0059, 0.0048, 0.0023, 0.0016, 0.001492, 0.001387, 0.001254, 0.000976, 0.000854]\n"
          ]
        }
      ]
    },
    {
      "cell_type": "code",
      "source": [
        "print(w_values)"
      ],
      "metadata": {
        "colab": {
          "base_uri": "https://localhost:8080/"
        },
        "outputId": "099fe609-702a-4157-966d-588ff1bf85d2",
        "id": "zrRGebV909vE"
      },
      "execution_count": 44,
      "outputs": [
        {
          "output_type": "stream",
          "name": "stdout",
          "text": [
            "[1, 0.432576983, 0.123456789, 0.123456788, 0.097654321, 0.0825, 0.0417, 0.025, 0.0149, 0.0123, 0.0087, 0.0063, 0.0059, 0.0048, 0.0023, 0.0016, 0.001492, 0.001387, 0.001254, 0.000976, 0.000854]\n"
          ]
        }
      ]
    },
    {
      "cell_type": "code",
      "source": [
        "Roulette_Glorot_weights = w_values\n",
        "plt.plot(Normalised_Glorot_weights)\n",
        "plt.xlabel(\"Iteration\")\n",
        "plt.ylabel(\"Normalised Glorot w\")\n",
        "plt.title(\"Values of Normalised Glorot w over Iterations\")\n",
        "plt.show()"
      ],
      "metadata": {
        "colab": {
          "base_uri": "https://localhost:8080/",
          "height": 472
        },
        "outputId": "3b1e6df5-ed84-4d17-e8f1-0575c72dfffc",
        "id": "P7LIdLVi09vE"
      },
      "execution_count": 45,
      "outputs": [
        {
          "output_type": "display_data",
          "data": {
            "text/plain": [
              "<Figure size 640x480 with 1 Axes>"
            ],
            "image/png": "[encoded data removed]"
          },
          "metadata": {}
        }
      ]
    },
    {
      "cell_type": "code",
      "source": [
        "Roulette_Glorot_g_values = g_values\n",
        "\n",
        "print(g_values)\n",
        "\n",
        "plt.plot(Roulette_Glorot_g_values)\n",
        "plt.xlabel(\"Iteration\")\n",
        "plt.ylabel(\"Ng_values\")\n",
        "plt.title(\"Values of G over Iterations\")\n",
        "plt.show()"
      ],
      "metadata": {
        "colab": {
          "base_uri": "https://localhost:8080/",
          "height": 510
        },
        "outputId": "a89b6ef7-4fcb-47f0-9c79-8e14c9358043",
        "id": "gs3QrF7n09vE"
      },
      "execution_count": 46,
      "outputs": [
        {
          "output_type": "stream",
          "name": "stdout",
          "text": [
            "[0.22499999999999995, 0.22499999999999995, 0.15559514927765875, 0.15559514927765875, 0.1455716568387742, 0.1455716568387742, 0.14476410387675584, 0.14476410387675584, 0.13025883133094157, 0.13025883133094157, 0.10171547212474444, 0.10171547212474444, 0.0712694416249985, 0.0712694416249985, 0.06740859107368592, 0.06740859107368592, 0.063362032343034, 0.063362032343034, 0.063362032343034, 0.063362032343034, 0.05571564239464913, 0.05571564239464913, 0.05219583131151213, 0.05219583131151213, 0.05148123463074157, 0.05148123463074157, 0.05139727212016148, 0.05139727212016148, 0.05139727212016148, 0.05139727212016148, 0.02886719374255229, 0.02886719374255229, 0.014827471740534098, 0.014827471740534098, 0.011704554616479599, 0.011704554616479599, 0.008325932657945274, 0.008325932657945274, 0.005800267153944027, 0.005800267153944027]\n"
          ]
        },
        {
          "output_type": "display_data",
          "data": {
            "text/plain": [
              "<Figure size 640x480 with 1 Axes>"
            ],
            "image/png": "[encoded data removed]"
          },
          "metadata": {}
        }
      ]
    },
    {
      "cell_type": "code",
      "source": [],
      "metadata": {
        "id": "oi3x_1lA09vE"
      },
      "execution_count": 46,
      "outputs": []
    }
  ]
}